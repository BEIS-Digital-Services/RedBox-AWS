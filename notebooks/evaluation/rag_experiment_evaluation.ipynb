{
   "cells": [
      {
         "cell_type": "markdown",
         "metadata": {},
         "source": [
            "# Experimentation notebook for trying to improve Redbox `RAG chat`  <a class=\"anchor\" id=\"title\"></a>"
         ]
      },
      {
         "cell_type": "markdown",
         "metadata": {},
         "source": [
            "-----------"
         ]
      },
      {
         "cell_type": "markdown",
         "metadata": {},
         "source": [
            "**Evaluate Redbox RAG chat on one stable, numbered version of these data**"
         ]
      },
      {
         "cell_type": "markdown",
         "metadata": {},
         "source": [
            "-----------------------"
         ]
      },
      {
         "cell_type": "markdown",
         "metadata": {},
         "source": [
            "## Table of Contents <a class=\"anchor\" id=\"toc\"></a>\n",
            "* [Overview](#overview)\n",
            "* [Metrics](#metrics)\n",
            "    - [Contextual Precisio]()\n",
            "    - [Contextual Recall]()\n",
            "    - [Contextual Relevancy]()\n",
            "    - [Fathfulness]()\n",
            "    - [Answer Relevancy]()\n",
            "    - [Hallucination]()\n",
            "    \n",
            "**CODE STARTS HERE**\n",
            "* [Set version of the evaluation dataset](#setversion)\n",
            "* [Imports](#imports)\n",
            "* [Run Redbox Locally](#run-redbox)\n",
            "\n",
            "**EXPERIMENTATION**\n",
            "* [Get files that correspond to the version of evaluation dataset](#files)\n",
            "* [Load Evaluation Dataset into test cases](#load-test-cases)\n",
            "* [Generate `actual_output` using RAG and evaluation dataset](#evaluate)\n",
            "    - [Retrieval Evaluation Metrics]()\n",
            "    - [Generation Evaluation Metrics]()\n",
            "* [Analyse evaluation results](#analysis)"
         ]
      },
      {
         "cell_type": "markdown",
         "metadata": {},
         "source": [
            "------------"
         ]
      },
      {
         "cell_type": "markdown",
         "metadata": {},
         "source": [
            "## Overview <a class=\"anchor\" id=\"overview\"></a>"
         ]
      },
      {
         "cell_type": "markdown",
         "metadata": {},
         "source": [
            "This notebook allows you to experiment with the retrieval and generation parts of Redbox RAG chat **WITHIN** the notebook, and get back evaluation metrics quickly. This allows you to test if the changes you make can improve the evaluation metrics, compared against the current/deployed RAG chat endpoint.\n",
            "\n",
            "************\n",
            "\n",
            "Redbox RAG chat is made up of many components that work together to give the final RAG pipeline. Each component can be optimised, to hopefully improve the over all performance of the RAG pipeline for Redbox tasks. In order to track if changes made are improving or degrading Redbox performance, we need to establish an evaluation framework. The overall RAG pipeline can be broken down into two main parts:\n",
            "\n",
            "1. Retrieval - searching and returning the most relevant documents to answer a user question\n",
            "2. Generation - the ouput of the LLM after considering the retrieved documents, any prompts provided and the user question\n",
            "\n",
            "This notebook tests both the retrieval and generation sides of the RAG pipeline using specific metrics for each, using the `DeepEval` framework.\n",
            "\n",
            "\n",
            "For consistency across the team, it is important to evaluate Redbox RAG chat on one stable, numbered version of these data.\n"
         ]
      },
      {
         "cell_type": "markdown",
         "metadata": {},
         "source": [
            "[Back to top](#title)"
         ]
      },
      {
         "cell_type": "markdown",
         "metadata": {},
         "source": [
            "\n",
            "-------"
         ]
      },
      {
         "cell_type": "markdown",
         "metadata": {},
         "source": [
            "## Metrics <a class=\"anchor\" id=\"metrics\"></a>\n",
            "\n",
            "Retrieval metrics\n",
            "- Contextual Precision\n",
            "- Contextual Recall\n",
            "- Contextual Relevancy\n",
            "\n",
            "Generation metrics\n",
            "- Faithfulness\n",
            "- Answer Relevancy\n",
            "- Hallucination\n"
         ]
      },
      {
         "cell_type": "markdown",
         "metadata": {},
         "source": [
            "### Contextual Precision\n",
            "\n",
            "The contextual precision metric measures your RAG pipeline's retriever by evaluating whether nodes in your `retrieval_context` that are relevant to the given `input` are ranked higher than irrelevant ones."
         ]
      },
      {
         "cell_type": "markdown",
         "metadata": {},
         "source": [
            "### Contextual Recall\n",
            "\n",
            "The contextual recall metric measures the quality of your RAG pipeline's retriever by evaluating the extent of which the `retrieval_context` aligns with the `expected_output`."
         ]
      },
      {
         "cell_type": "markdown",
         "metadata": {},
         "source": [
            "### Contextual Relevancy\n",
            "\n",
            "The contextual relevancy metric measures the quality of your RAG pipeline's retriever by evaluating the overall relevance of the information presented in your `retrieval_context` for a given `input`."
         ]
      },
      {
         "cell_type": "markdown",
         "metadata": {},
         "source": [
            "### Faithfulness\n",
            "\n",
            "The faithfulness metric measures the quality of your RAG pipeline's generator by evaluating whether the `actual_output` factually aligns with the contents of your `retrieval_context`. `deepeval`'s faithfulness metric is a self-explaining LLM-Eval, meaning it outputs a reason for its metric score."
         ]
      },
      {
         "cell_type": "markdown",
         "metadata": {},
         "source": [
            "##### Required Arguments\n",
            "To use the `FaithfulnessMetric`, you need to provide the following arguments when creating an LLMTestCase:\n",
            "\n",
            "- `input`\n",
            "- `actual_output`\n",
            "- `retrieval_context`"
         ]
      },
      {
         "cell_type": "markdown",
         "metadata": {},
         "source": [
            "[Back to top](#title)"
         ]
      },
      {
         "cell_type": "markdown",
         "metadata": {},
         "source": [
            "### Answer Relevancy\n",
            "The answer relevancy metric measures the quality of your RAG pipeline's generator by evaluating how relevant the actual_output of your LLM application is compared to the provided `input`. `deepeval`'s answer relevancy metric is a self-explaining LLM-Eval, meaning it outputs a reason for its metric score."
         ]
      },
      {
         "cell_type": "markdown",
         "metadata": {},
         "source": [
            "##### Required Arguments\n",
            "To use the AnswerRelevancyMetric, you'll have to provide the following arguments when creating an LLMTestCase:\n",
            "\n",
            "- `input`\n",
            "- `actual_output`"
         ]
      },
      {
         "cell_type": "markdown",
         "metadata": {},
         "source": [
            "[Back to top](#title)"
         ]
      },
      {
         "cell_type": "markdown",
         "metadata": {},
         "source": [
            "### Hallucination\n",
            "The hallucination metric determines whether your LLM generates factually correct information by comparing the `actual_output` to the provided `context`."
         ]
      },
      {
         "cell_type": "markdown",
         "metadata": {},
         "source": [
            "##### Required Arguments\n",
            "To use the HallucinationMetric, you'll have to provide the following arguments when creating an LLMTestCase:\n",
            "\n",
            "- `input`\n",
            "- `actual_output`\n",
            "- `retrieval_context`"
         ]
      },
      {
         "cell_type": "markdown",
         "metadata": {},
         "source": [
            "[Back to top](#title)"
         ]
      },
      {
         "cell_type": "markdown",
         "metadata": {},
         "source": [
            "-------------------"
         ]
      },
      {
         "cell_type": "markdown",
         "metadata": {},
         "source": [
            "**Evaluate Redbox RAG chat on one stable, numbered version of these data**"
         ]
      },
      {
         "cell_type": "markdown",
         "metadata": {},
         "source": [
            "**Set the version of the evaluation dataset you are using to evalute Redbox in the cell below**   <a class=\"anchor\" id=\"setversion\"></a>"
         ]
      },
      {
         "cell_type": "code",
         "execution_count": 5,
         "metadata": {},
         "outputs": [],
         "source": [
            "DATA_VERSION = \"0.1.0\""
         ]
      },
      {
         "cell_type": "markdown",
         "metadata": {},
         "source": [
            "Run the cell below to set up the required folder structure (it will not overwrite folders and files if they already exist)"
         ]
      },
      {
         "cell_type": "code",
         "execution_count": 6,
         "metadata": {},
         "outputs": [],
         "source": [
            "from pathlib import Path\n",
            "\n",
            "ROOT = Path.cwd().parents[1]\n",
            "EVALUATION_DIR = ROOT / \"notebooks/evaluation\"\n",
            "\n",
            "V_ROOT = EVALUATION_DIR / f\"data/{DATA_VERSION}\"\n",
            "V_RAW = V_ROOT / \"raw\"\n",
            "V_SYNTHETIC = V_ROOT / \"synthetic\"\n",
            "V_CHUNKS = V_ROOT / \"chunks\"\n",
            "V_RESULTS = V_ROOT / \"results\"\n",
            "\n",
            "V_ROOT.mkdir(parents=True, exist_ok=True)\n",
            "V_RAW.mkdir(parents=True, exist_ok=True)\n",
            "V_SYNTHETIC.mkdir(parents=True, exist_ok=True)\n",
            "V_CHUNKS.mkdir(parents=True, exist_ok=True)\n",
            "V_RESULTS.mkdir(parents=True, exist_ok=True)"
         ]
      },
      {
         "cell_type": "markdown",
         "metadata": {},
         "source": [
            "To save on API costs, we only need to generate a particular version of the evaluation dataset once. If you are using a previously generaterated evalutation dataset, **please download it from shared team location (Google Drive).**"
         ]
      },
      {
         "cell_type": "markdown",
         "metadata": {},
         "source": [
            "---------"
         ]
      },
      {
         "cell_type": "markdown",
         "metadata": {},
         "source": [
            "#### Imports <a id=\"imports\"></a>"
         ]
      },
      {
         "cell_type": "code",
         "execution_count": 7,
         "metadata": {},
         "outputs": [],
         "source": [
            "# Add autoreloatd\n",
            "%reload_ext autoreload\n",
            "%autoreload 2"
         ]
      },
      {
         "cell_type": "code",
         "execution_count": null,
         "metadata": {},
         "outputs": [],
         "source": [
            "from jose import jwt\n",
            "from uuid import UUID\n",
            "import requests\n",
            "import json\n",
            "import pandas as pd\n",
            "import pickle\n",
            "from dataclasses import asdict\n",
            "from IPython.display import clear_output"
         ]
      },
      {
         "cell_type": "code",
         "execution_count": 9,
         "metadata": {},
         "outputs": [],
         "source": [
            "from dotenv import find_dotenv, load_dotenv\n",
            "_ = load_dotenv(find_dotenv())"
         ]
      },
      {
         "cell_type": "markdown",
         "metadata": {},
         "source": [
            "[Back to top](#title)"
         ]
      },
      {
         "cell_type": "markdown",
         "metadata": {},
         "source": [
            "-----------------"
         ]
      },
      {
         "cell_type": "markdown",
         "metadata": {},
         "source": [
            "## Start Redbox Running locally <a id=\"run-redbox\"></a>"
         ]
      },
      {
         "cell_type": "markdown",
         "metadata": {},
         "source": [
            "Start docker runtime, either Docker Desktop. However, if you are using colima run the following terminal command\n",
            "```bash\n",
            "colima start --memory 8\n",
            "``` "
         ]
      },
      {
         "cell_type": "markdown",
         "metadata": {},
         "source": [
            "---------------------"
         ]
      },
      {
         "cell_type": "markdown",
         "metadata": {},
         "source": [
            "#### First-time setup"
         ]
      },
      {
         "cell_type": "markdown",
         "metadata": {},
         "source": [
            "First time users need to do the following"
         ]
      },
      {
         "cell_type": "markdown",
         "metadata": {},
         "source": [
            "```bash\n",
            "poetry install\n",
            "```"
         ]
      },
      {
         "cell_type": "markdown",
         "metadata": {},
         "source": [
            "Ensure you .env file has OpenAI API key in and has the following settings:"
         ]
      },
      {
         "cell_type": "markdown",
         "metadata": {},
         "source": [
            "```bash\n",
            "# === Object Storage ===\n",
            "\n",
            "MINIO_HOST=minio\n",
            "MINIO_PORT=9000\n",
            "MINIO_ACCESS_KEY=minioadmin\n",
            "MINIO_SECRET_KEY=minioadmin\n",
            "AWS_ACCESS_KEY=minioadmin\n",
            "AWS_SECRET_KEY=minioadmin\n",
            "\n",
            "AWS_REGION=eu-west-2\n",
            "\n",
            "# minio or s3\n",
            "OBJECT_STORE=minio\n",
            "BUCKET_NAME=redbox-storage-dev\n",
            "```"
         ]
      },
      {
         "cell_type": "markdown",
         "metadata": {},
         "source": [
            "Build redbox docker images (this takes several minutes)"
         ]
      },
      {
         "cell_type": "markdown",
         "metadata": {},
         "source": [
            "```bash\n",
            "docker compose build\n",
            "```"
         ]
      },
      {
         "cell_type": "markdown",
         "metadata": {},
         "source": [
            "------"
         ]
      },
      {
         "cell_type": "markdown",
         "metadata": {},
         "source": [
            "#### Build containers"
         ]
      },
      {
         "cell_type": "markdown",
         "metadata": {},
         "source": [
            "If changes are made to the app, e.g. changes pulled in from main, it may require rebuilding docker images\n",
            "\n",
            "```bash\n",
            "docker compose build --no-cache\n",
            "```"
         ]
      },
      {
         "cell_type": "markdown",
         "metadata": {},
         "source": [
            "#### Run Redbox locally"
         ]
      },
      {
         "cell_type": "markdown",
         "metadata": {},
         "source": [
            "**Every time you start Redbox for evaluation (no Django frontend required), please run the following command**"
         ]
      },
      {
         "cell_type": "markdown",
         "metadata": {},
         "source": [
            "```bash\n",
            "make eval_backend\n",
            "````"
         ]
      },
      {
         "cell_type": "markdown",
         "metadata": {},
         "source": [
            "The above command will bring up everything you need for the backend (`core-api`, `worker`, `mino`, `elasticsearch` and `redis`), then create the MinIO bucket needed to store raw files"
         ]
      },
      {
         "cell_type": "markdown",
         "metadata": {},
         "source": [
            "[Back to top](#title)"
         ]
      },
      {
         "cell_type": "markdown",
         "metadata": {},
         "source": [
            "----------"
         ]
      },
      {
         "cell_type": "markdown",
         "metadata": {},
         "source": [
            "# EXPERIMENTATION\n",
            "\n",
            "Use code below to experiment, in order to improve evaluation metrics or address a performance issue\n",
            "\n",
            "For setting an initial baseline with the existing Redbox Core API endpoint, please start [HERE](#baseline)"
         ]
      },
      {
         "cell_type": "markdown",
         "metadata": {},
         "source": [
            "## Generate `actual_output` using RAG chat function and evaluation dataset"
         ]
      },
      {
         "cell_type": "markdown",
         "metadata": {},
         "source": [
            "We first need to upload files that we are going to 'RAG with'"
         ]
      },
      {
         "cell_type": "markdown",
         "metadata": {},
         "source": [
            "#### Get files that correspond to the version of evaluation dataset  <a class=\"anchor\" id=\"files\"></a>\n",
            "\n",
            "Copy all the files that match your {DATA_VERSION} into `notebooks/evaluation/data/{DATA_VERSION}/raw/`. Find these files on the shared Google Drive and the corresponding version number/location\n",
            "\n",
            "**It is really important to use the same files that were used to genearte this particular version of the evaluation dataset. A mismatch between the two will result in inaccurate evaluatoin metrics**"
         ]
      },
      {
         "cell_type": "markdown",
         "metadata": {},
         "source": [
            "**Only if you haven't uploaded files already** uncomment and run cell below"
         ]
      },
      {
         "cell_type": "code",
         "execution_count": null,
         "metadata": {},
         "outputs": [],
         "source": [
            "# url = 'http://127.0.0.1:5002/file/upload'\n",
            "\n",
            "# headers={\n",
            "#     'accept': 'application/json',\n",
            "#     \"Authorization\": f\"Bearer {bearer_token}\"\n",
            "# }\n",
            "# for file in V_RAW.glob(\"*.*\"):\n",
            "#     files = {'file': open(file, 'rb')}\n",
            "#     upload_file_response = requests.post(url, headers=headers, files=files)\n",
            "\n",
            "#     #TODO: Add some login in the loop to deal with status codes != 200\n",
            "#     # if upload_file_response.status_code != 200:\n",
            "#     #     print(\"Failed to upload data:\", upload_file_response.status_code)"
         ]
      },
      {
         "cell_type": "markdown",
         "metadata": {},
         "source": [
            "List files uploaded to server & view JSON response"
         ]
      },
      {
         "cell_type": "code",
         "execution_count": null,
         "metadata": {},
         "outputs": [],
         "source": [
            "url = 'http://127.0.0.1:5002/file/'\n",
            "\n",
            "headers={\n",
            "    'accept': 'application/json',\n",
            "    \"Authorization\": f\"Bearer {bearer_token}\"\n",
            "}\n",
            "\n",
            "file_list_response = requests.get(url, headers=headers)\n",
            "\n",
            "if file_list_response.status_code == 200:\n",
            "    # Parse JSON from the response\n",
            "    data = file_list_response.json()\n",
            "    \n",
            "    # Pretty-print the JSON data\n",
            "    pretty_json = json.dumps(data, indent=4)\n",
            "    print(pretty_json)\n",
            "else:\n",
            "    print(\"Failed to retrieve data:\", file_list_response.status_code)"
         ]
      },
      {
         "cell_type": "markdown",
         "metadata": {},
         "source": [
            "Get file status"
         ]
      },
      {
         "cell_type": "code",
         "execution_count": null,
         "metadata": {},
         "outputs": [],
         "source": [
            "from redbox.models import FileStatus\n",
            "\n",
            "def pretty_upload_status(file_uuid: UUID, bearer_token: str) -> str:\n",
            "    headers={\n",
            "        'accept': 'application/json',\n",
            "        \"Authorization\": f\"Bearer {bearer_token}\"\n",
            "    }\n",
            "    status = FileStatus(**requests.get(f\"http://127.0.0.1:5002/file/{file_uuid}/status\", headers=headers).json())\n",
            "\n",
            "    status_title = status.processing_status.title()\n",
            "    n_chunks = 0\n",
            "    if status.chunk_statuses is not None:\n",
            "        n_chunks = len(status.chunk_statuses)\n",
            "\n",
            "    if status.processing_status == \"embedding\" and n_chunks > 0 and status.chunk_statuses is not None:\n",
            "        n_chunks_embedded = len([chunk for chunk in status.chunk_statuses if chunk.embedded])\n",
            "        return f\"{status_title} ({n_chunks_embedded / n_chunks:.0%})\"\n",
            "    else:\n",
            "        return status_title\n",
            "\n",
            "statuses = [pretty_upload_status(file[\"uuid\"], bearer_token) for file in file_list_response.json()]\n",
            "statuses"
         ]
      },
      {
         "cell_type": "markdown",
         "metadata": {},
         "source": [
            "------------"
         ]
      },
      {
         "cell_type": "markdown",
         "metadata": {},
         "source": [
            "**Please ensure all emeddings have been completed before proceeding!**\n",
            "\n",
            "Keep calm and go for a tea break!"
         ]
      },
      {
         "cell_type": "markdown",
         "metadata": {},
         "source": [
            "--------------"
         ]
      },
      {
         "cell_type": "markdown",
         "metadata": {},
         "source": [
            "#### Generate `actual_output` & `retrieval_context` using in-notebook `rag_chat()` function <a id=\"evaluate\"></a>"
         ]
      },
      {
         "cell_type": "code",
         "execution_count": 10,
         "metadata": {},
         "outputs": [],
         "source": [
            "df = pd.read_csv(f'{V_SYNTHETIC}/ragas_synthetic_data.csv')\n",
            "inputs = df['input'].tolist()"
         ]
      },
      {
         "cell_type": "markdown",
         "metadata": {},
         "source": [
            "##### Using a `rag_chat()` function"
         ]
      },
      {
         "cell_type": "markdown",
         "metadata": {},
         "source": [
            "We can conceptualise RAG as having four mechanisms we might tune:\n",
            "\n",
            "* Chunking\n",
            "* Embedding\n",
            "* Retriever\n",
            "* Prompts\n",
            "\n",
            "The below `rag_chat()` function replicates the internal logic of the RAG endpoint. By editing and using it here, you can quickly iterate and test the retriever and prompt mechanisms using your stable, versioned data, giving sharable, reproducible results.\n",
            "\n",
            "As long as `rag_chat()` takes a question (and history) and produces an answer, it's a testable process that could be used in Redbox. Everything within the function is yours to play with -- prompts, retriever, everything."
         ]
      },
      {
         "cell_type": "markdown",
         "metadata": {},
         "source": [
            "**Set the experiment name that you want to associate with your experiment in the cell below** - this will save the output scores with this experiment in the file name"
         ]
      },
      {
         "cell_type": "code",
         "execution_count": 11,
         "metadata": {},
         "outputs": [],
         "source": [
            "EXPERIMENT_NAME = \"original_prompt\""
         ]
      },
      {
         "cell_type": "code",
         "execution_count": 12,
         "metadata": {},
         "outputs": [
            {
               "name": "stderr",
               "output_type": "stream",
               "text": [
                  "/Users/willlangdale/Library/Caches/pypoetry/virtualenvs/redbox-Vh_-Fb0j-py3.11/lib/python3.11/site-packages/threadpoolctl.py:1214: RuntimeWarning: \n",
                  "Found Intel OpenMP ('libiomp') and LLVM OpenMP ('libomp') loaded at\n",
                  "the same time. Both libraries are known to be incompatible and this\n",
                  "can cause random crashes or deadlocks on Linux when loaded in the\n",
                  "same Python program.\n",
                  "Using threadpoolctl may cause crashes or deadlocks. For more\n",
                  "information and possible workarounds, please see\n",
                  "    https://github.com/joblib/threadpoolctl/blob/master/multiple_openmp.md\n",
                  "\n",
                  "  warnings.warn(msg, RuntimeWarning)\n",
                  "INFO:sentence_transformers.SentenceTransformer:Load pretrained SentenceTransformer: all-MiniLM-L6-v2\n",
                  "/Users/willlangdale/Library/Caches/pypoetry/virtualenvs/redbox-Vh_-Fb0j-py3.11/lib/python3.11/site-packages/huggingface_hub/file_download.py:1132: FutureWarning: `resume_download` is deprecated and will be removed in version 1.0.0. Downloads always resume when possible. If you want to force a new download, use `force_download=True`.\n",
                  "  warnings.warn(\n",
                  "INFO:sentence_transformers.SentenceTransformer:Use pytorch device_name: mps\n",
                  "INFO:root:Connecting to self managed Elasticsearch\n",
                  "INFO:root:Elasticsearch host = localhost\n",
                  "INFO:elastic_transport.transport:HEAD http://localhost:9200/ [status:200 duration:0.004s]\n",
                  "/Users/willlangdale/Library/Caches/pypoetry/virtualenvs/redbox-Vh_-Fb0j-py3.11/lib/python3.11/site-packages/langchain_core/_api/deprecation.py:119: LangChainPendingDeprecationWarning: The class `ApproxRetrievalStrategy` will be deprecated in a future version. Use DenseVectorStrategy instead.\n",
                  "  warn_deprecated(\n"
               ]
            }
         ],
         "source": [
            "from redbox.models import Settings\n",
            "\n",
            "from langchain_community.embeddings import SentenceTransformerEmbeddings\n",
            "from langchain_elasticsearch import ApproxRetrievalStrategy, ElasticsearchStore\n",
            "from langchain_community.chat_models import ChatLiteLLM\n",
            "from langchain.chains.qa_with_sources import load_qa_with_sources_chain\n",
            "from langchain.chains.llm import LLMChain\n",
            "from langchain.prompts.prompt import PromptTemplate\n",
            "from langchain.globals import set_verbose\n",
            "\n",
            "set_verbose(False)\n",
            "\n",
            "# Core variables\n",
            "\n",
            "ENV = Settings()\n",
            "ENV.elastic.host = \"localhost\"\n",
            "LLM = ChatLiteLLM(\n",
            "    model=\"gpt-3.5-turbo\",\n",
            "    streaming=True,\n",
            "    temperature=1.0, # 1.0 if default\n",
            ")\n",
            "EMBEDDING_MODEL = SentenceTransformerEmbeddings(model_name=ENV.embedding_model)\n",
            "VECTOR_STORE = ElasticsearchStore(\n",
            "    es_connection=ENV.elasticsearch_client(),\n",
            "    index_name=\"redbox-data-chunk\",\n",
            "    embedding=EMBEDDING_MODEL,\n",
            "    strategy=ApproxRetrievalStrategy(hybrid=False),\n",
            "    vector_query_field=\"embedding\",\n",
            ")\n",
            "RETRIEVER = VECTOR_STORE.as_retriever(\n",
            "    search_kwargs={\n",
            "        \"filter\": {\n",
            "            \"term\": {\n",
            "                \"creator_user_uuid.keyword\": str(UUID(\"aaaaaaaa-aaaa-aaaa-aaaa-aaaaaaaaaaaa\"))\n",
            "            }\n",
            "        }\n",
            "    }\n",
            ")\n",
            "\n",
            "# Prompts\n",
            "\n",
            "WITH_SOURCES_PROMPT = \"\"\"You are RedBox Copilot. An AI focused on helping UK Civil Servants, Political Advisors and\\\n",
            "Ministers triage and summarise information from a wide variety of sources. You are impartial and\\\n",
            "non-partisan. You are not a replacement for human judgement, but you can help humans\\\n",
            "make more informed decisions. If you are asked a question you cannot answer based on your following instructions, you\\\n",
            "should say so. Be concise and professional in your responses. Respond in markdown format.\n",
            "\n",
            "=== RULES ===\n",
            "\n",
            "All responses to Tasks **MUST** be translated into the user's preferred language.\\\n",
            "This is so that the user can understand your responses.\\\n",
            "Given the following extracted parts of a long document and \\\n",
            "a question, create a final answer with Sources at the end.  \\\n",
            "If you don't know the answer, just say that you don't know. Don't try to make \\\n",
            "up an answer.\n",
            "If a user asks for a particular format to be returned, such as bullet points, then please use that format. \\\n",
            "If a user asks for bullet points you MUST give bullet points. \\\n",
            "If the user asks for a specific number or range of bullet points you MUST give that number of bullet points. \\\n",
            "For example\n",
            "QUESTION: Please give me 6-8 bullet points on tigers\n",
            "FINAL ANSWER: - Tigers are orange. \\n- Tigers are big. \\n- Tigers are scary. \\n- Tigers are cool. \\n- Tigers are \\\n",
            "cats. -\\n Tigers are animals. \\\n",
            "\n",
            "If the number of bullet points a user asks for is not supported by the amount of information that you have, then \\\n",
            "say so, else give what the user asks for. \\\n",
            "\n",
            "At the end of your response add a \"Sources:\" section with the documents you used. \\\n",
            "DO NOT reference the source documents in your response. Only cite at the end. \\\n",
            "ONLY PUT CITED DOCUMENTS IN THE \"Sources:\" SECTION AND NO WHERE ELSE IN YOUR RESPONSE. \\\n",
            "IT IS CRUCIAL that citations only happens in the \"Sources:\" section. \\\n",
            "This format should be <DocX> where X is the document UUID being cited.  \\\n",
            "DO NOT INCLUDE ANY DOCUMENTS IN THE \"Sources:\" THAT YOU DID NOT USE IN YOUR RESPONSE. \\\n",
            "YOU MUST CITE USING THE <DocX> FORMAT. NO OTHER FORMAT WILL BE ACCEPTED.\n",
            "Example: \"Sources: <DocX> <DocY> <DocZ>\"\n",
            "\n",
            "Use **bold** to highlight the most question relevant parts in your response.\n",
            "If dealing dealing with lots of data return it in markdown table format.\n",
            "\n",
            "QUESTION: {question}\n",
            "=========\n",
            "{summaries}\n",
            "=========\n",
            "FINAL ANSWER:\"\"\"\n",
            "\n",
            "STUFF_DOCUMENT_PROMPT = \"<Doc{parent_doc_uuid}>{page_content}</Doc{parent_doc_uuid}>\"\n",
            "\n",
            "CONDENSE_QUESTION_PROMPT = \"\"\"Given the following conversation and a follow up question,\n",
            "rephrase the follow up question to be a standalone question, in its original\n",
            "language. include the follow up instructions in the standalone question.\n",
            "\n",
            "Chat History:\n",
            "{chat_history}\n",
            "Follow Up Input: {question}\n",
            "Standalone question:\"\"\"\n",
            "\n",
            "# RAG function\n",
            "\n",
            "def rag_chat(question: str, previous_history: list[tuple[str, str]] | None = None) -> str:\n",
            "    docs_with_sources_chain = load_qa_with_sources_chain(\n",
            "        LLM,\n",
            "        chain_type=\"stuff\",\n",
            "        prompt=PromptTemplate.from_template(WITH_SOURCES_PROMPT),\n",
            "        document_prompt=PromptTemplate.from_template(STUFF_DOCUMENT_PROMPT),\n",
            "        verbose=True,\n",
            "    )\n",
            "\n",
            "    condense_question_chain = LLMChain(\n",
            "        llm=LLM, \n",
            "        prompt=PromptTemplate.from_template(CONDENSE_QUESTION_PROMPT),\n",
            "        verbose=False\n",
            "    )\n",
            "\n",
            "    standalone_question = condense_question_chain(\n",
            "        {\"question\": question, \"chat_history\": previous_history}\n",
            "    )[\"text\"]\n",
            "\n",
            "    docs = RETRIEVER.get_relevant_documents(standalone_question)\n",
            "\n",
            "    result = docs_with_sources_chain(\n",
            "        {\n",
            "            \"question\": standalone_question,\n",
            "            \"input_documents\": docs,\n",
            "        },\n",
            "    )\n",
            "\n",
            "    source_documents = [\n",
            "        {\n",
            "            \"page_content\": langchain_document.page_content,\n",
            "            \"file_uuid\": langchain_document.metadata.get(\"parent_doc_uuid\"),\n",
            "            \"page_numbers\": langchain_document.metadata.get(\"page_numbers\"),\n",
            "        }\n",
            "        for langchain_document in result.get(\"input_documents\", [])\n",
            "    ]\n",
            "\n",
            "    return {\n",
            "        \"output_text\": result[\"output_text\"],\n",
            "        \"source_documents\": source_documents\n",
            "    }\n"
         ]
      },
      {
         "cell_type": "code",
         "execution_count": null,
         "metadata": {},
         "outputs": [],
         "source": [
            "%%capture\n",
            "\n",
            "df_function = df.copy()\n",
            "\n",
            "retrieval_context = []\n",
            "actual_output = []\n",
            "\n",
            "for question in inputs:\n",
            "    data = rag_chat(question=question, previous_history=None)\n",
            "\n",
            "    retrieval_context.append(data['source_documents'])\n",
            "    actual_output.append(data['output_text'])\n",
            "\n",
            "df_function['actual_output'] = actual_output\n",
            "df_function['retrieval_context'] = retrieval_context\n",
            "\n",
            "clear_output()"
         ]
      },
      {
         "cell_type": "markdown",
         "metadata": {},
         "source": [
            "#### Confirm `actual_output` and `retrieved_context` added to the dataframe"
         ]
      },
      {
         "cell_type": "code",
         "execution_count": 14,
         "metadata": {},
         "outputs": [
            {
               "data": {
                  "text/html": [
                     "<div>\n",
                     "<style scoped>\n",
                     "    .dataframe tbody tr th:only-of-type {\n",
                     "        vertical-align: middle;\n",
                     "    }\n",
                     "\n",
                     "    .dataframe tbody tr th {\n",
                     "        vertical-align: top;\n",
                     "    }\n",
                     "\n",
                     "    .dataframe thead th {\n",
                     "        text-align: right;\n",
                     "    }\n",
                     "</style>\n",
                     "<table border=\"1\" class=\"dataframe\">\n",
                     "  <thead>\n",
                     "    <tr style=\"text-align: right;\">\n",
                     "      <th></th>\n",
                     "      <th>input</th>\n",
                     "      <th>context</th>\n",
                     "      <th>expected_output</th>\n",
                     "      <th>actual_output</th>\n",
                     "      <th>retrieval_context</th>\n",
                     "    </tr>\n",
                     "  </thead>\n",
                     "  <tbody>\n",
                     "    <tr>\n",
                     "      <th>0</th>\n",
                     "      <td>How has the UK's role in supplying gas to Euro...</td>\n",
                     "      <td>['BEIS - Monthly energy statistics briefing no...</td>\n",
                     "      <td>The UK has been playing a key role in supplyin...</td>\n",
                     "      <td>The UK's role in supplying gas to Europe has s...</td>\n",
                     "      <td>[{'page_content': '3-monthly growth\n",
                     "\n",
                     "+55.8%\n",
                     "\n",
                     "+...</td>\n",
                     "    </tr>\n",
                     "    <tr>\n",
                     "      <th>1</th>\n",
                     "      <td>How has the share of renewable energy generati...</td>\n",
                     "      <td>[' to move away from Russian gas.\\n\\n· Electri...</td>\n",
                     "      <td>Renewable generation in the UK rose by 12% in ...</td>\n",
                     "      <td>**Renewable generation rose 12 per cent on the...</td>\n",
                     "      <td>[{'page_content': 'Jul-22\n",
                     "\n",
                     "3\n",
                     "\n",
                     "Electricity gene...</td>\n",
                     "    </tr>\n",
                     "    <tr>\n",
                     "      <th>2</th>\n",
                     "      <td>How has the share of renewable energy generati...</td>\n",
                     "      <td>[' to move away from Russian gas.\\n\\n· Electri...</td>\n",
                     "      <td>Renewable generation rose 12 per cent on the s...</td>\n",
                     "      <td>The share of renewable energy generation in th...</td>\n",
                     "      <td>[{'page_content': 'Jul-22\n",
                     "\n",
                     "3\n",
                     "\n",
                     "Electricity gene...</td>\n",
                     "    </tr>\n",
                     "    <tr>\n",
                     "      <th>3</th>\n",
                     "      <td>How has electricity generation by Major Power ...</td>\n",
                     "      <td>[' to move away from Russian gas.\\n\\n· Electri...</td>\n",
                     "      <td>Electricity generation by Major Power Producer...</td>\n",
                     "      <td>**Electricity generation by Major Power Produc...</td>\n",
                     "      <td>[{'page_content': 'Jul-22\n",
                     "\n",
                     "3\n",
                     "\n",
                     "Electricity gene...</td>\n",
                     "    </tr>\n",
                     "    <tr>\n",
                     "      <th>4</th>\n",
                     "      <td>What factors influenced the UK's gas productio...</td>\n",
                     "      <td>[' Electricity  Gas  Aug-21 \\n\\nAug-22\\n\\n1\\n\\...</td>\n",
                     "      <td>UK gas production increased by 56% in the past...</td>\n",
                     "      <td>Based on the data provided, the factors that i...</td>\n",
                     "      <td>[{'page_content': 'Highlights for the 3 month ...</td>\n",
                     "    </tr>\n",
                     "  </tbody>\n",
                     "</table>\n",
                     "</div>"
                  ],
                  "text/plain": [
                     "                                               input  \\\n",
                     "0  How has the UK's role in supplying gas to Euro...   \n",
                     "1  How has the share of renewable energy generati...   \n",
                     "2  How has the share of renewable energy generati...   \n",
                     "3  How has electricity generation by Major Power ...   \n",
                     "4  What factors influenced the UK's gas productio...   \n",
                     "\n",
                     "                                             context  \\\n",
                     "0  ['BEIS - Monthly energy statistics briefing no...   \n",
                     "1  [' to move away from Russian gas.\\n\\n· Electri...   \n",
                     "2  [' to move away from Russian gas.\\n\\n· Electri...   \n",
                     "3  [' to move away from Russian gas.\\n\\n· Electri...   \n",
                     "4  [' Electricity  Gas  Aug-21 \\n\\nAug-22\\n\\n1\\n\\...   \n",
                     "\n",
                     "                                     expected_output  \\\n",
                     "0  The UK has been playing a key role in supplyin...   \n",
                     "1  Renewable generation in the UK rose by 12% in ...   \n",
                     "2  Renewable generation rose 12 per cent on the s...   \n",
                     "3  Electricity generation by Major Power Producer...   \n",
                     "4  UK gas production increased by 56% in the past...   \n",
                     "\n",
                     "                                       actual_output  \\\n",
                     "0  The UK's role in supplying gas to Europe has s...   \n",
                     "1  **Renewable generation rose 12 per cent on the...   \n",
                     "2  The share of renewable energy generation in th...   \n",
                     "3  **Electricity generation by Major Power Produc...   \n",
                     "4  Based on the data provided, the factors that i...   \n",
                     "\n",
                     "                                   retrieval_context  \n",
                     "0  [{'page_content': '3-monthly growth\n",
                     "\n",
                     "+55.8%\n",
                     "\n",
                     "+...  \n",
                     "1  [{'page_content': 'Jul-22\n",
                     "\n",
                     "3\n",
                     "\n",
                     "Electricity gene...  \n",
                     "2  [{'page_content': 'Jul-22\n",
                     "\n",
                     "3\n",
                     "\n",
                     "Electricity gene...  \n",
                     "3  [{'page_content': 'Jul-22\n",
                     "\n",
                     "3\n",
                     "\n",
                     "Electricity gene...  \n",
                     "4  [{'page_content': 'Highlights for the 3 month ...  "
                  ]
               },
               "execution_count": 14,
               "metadata": {},
               "output_type": "execute_result"
            }
         ],
         "source": [
            "df_function.head()"
         ]
      },
      {
         "cell_type": "markdown",
         "metadata": {},
         "source": [
            "#### Remove rows containing NaN to prevent Pydantic validation errors"
         ]
      },
      {
         "cell_type": "code",
         "execution_count": 15,
         "metadata": {},
         "outputs": [],
         "source": [
            "df_function_clean = df_function.dropna()\n",
            "df_function_clean.to_csv(f'{V_SYNTHETIC}/{EXPERIMENT_NAME}_complete_ragas_synthetic_data.csv', index=False)"
         ]
      },
      {
         "cell_type": "markdown",
         "metadata": {},
         "source": [
            "[Back to top](#title)"
         ]
      },
      {
         "cell_type": "markdown",
         "metadata": {},
         "source": [
            "----"
         ]
      },
      {
         "cell_type": "markdown",
         "metadata": {},
         "source": [
            "## Load Evaluation Dataset into test cases <a class=\"anchor\" id=\"load-test-cases\"></a>"
         ]
      },
      {
         "cell_type": "markdown",
         "metadata": {},
         "source": [
            "Put the CSV file that you want to use for evaluation into `/notebooks/evaluation/data/synthetic_data/` directory"
         ]
      },
      {
         "cell_type": "markdown",
         "metadata": {},
         "source": [
            "Import test cases from CSV"
         ]
      },
      {
         "cell_type": "code",
         "execution_count": 16,
         "metadata": {},
         "outputs": [
            {
               "name": "stderr",
               "output_type": "stream",
               "text": [
                  "huggingface/tokenizers: The current process just got forked, after parallelism has already been used. Disabling parallelism to avoid deadlocks...\n",
                  "To disable this warning, you can either:\n",
                  "\t- Avoid using `tokenizers` before the fork if possible\n",
                  "\t- Explicitly set the environment variable TOKENIZERS_PARALLELISM=(true | false)\n",
                  "/Users/willlangdale/Library/Caches/pypoetry/virtualenvs/redbox-Vh_-Fb0j-py3.11/lib/python3.11/site-packages/deepeval/__init__.py:42: UserWarning: You are using deepeval version 0.21.48, however version 0.21.50 is available. You should consider upgrading via the \"pip install --upgrade deepeval\" command.\n",
                  "  warnings.warn(\n"
               ]
            }
         ],
         "source": [
            "from deepeval.dataset import EvaluationDataset\n",
            "\n",
            "dataset = EvaluationDataset()\n",
            "dataset.add_test_cases_from_csv_file(\n",
            "    file_path=f'{V_SYNTHETIC}/{EXPERIMENT_NAME}_complete_ragas_synthetic_data.csv', # function\n",
            "    input_col_name=\"input\",\n",
            "    actual_output_col_name=\"actual_output\",\n",
            "    expected_output_col_name=\"expected_output\",\n",
            "    context_col_name=\"context\",\n",
            "    context_col_delimiter= \";\",\n",
            "    retrieval_context_col_name=\"retrieval_context\",\n",
            "    retrieval_context_col_delimiter= \";\"\n",
            ")"
         ]
      },
      {
         "cell_type": "markdown",
         "metadata": {},
         "source": [
            "[Back to top](#title)"
         ]
      },
      {
         "cell_type": "markdown",
         "metadata": {},
         "source": [
            "---------"
         ]
      },
      {
         "cell_type": "markdown",
         "metadata": {},
         "source": [
            "## Evaluate RAG pipeline <a id=\"evaluate\"></a>"
         ]
      },
      {
         "cell_type": "markdown",
         "metadata": {},
         "source": [
            "DeepEval imports"
         ]
      },
      {
         "cell_type": "code",
         "execution_count": 17,
         "metadata": {},
         "outputs": [],
         "source": [
            "from deepeval import evaluate\n",
            "from deepeval.metrics import (\n",
            "    ContextualPrecisionMetric,\n",
            "    ContextualRecallMetric,\n",
            "    ContextualRelevancyMetric,\n",
            "    AnswerRelevancyMetric,\n",
            "    FaithfulnessMetric,\n",
            "    HallucinationMetric,\n",
            ")"
         ]
      },
      {
         "cell_type": "markdown",
         "metadata": {},
         "source": [
            "Instantiate retrieval and generation evaluation metrics"
         ]
      },
      {
         "cell_type": "code",
         "execution_count": 18,
         "metadata": {},
         "outputs": [],
         "source": [
            "# Instantiate retrieval metrics\n",
            "contextual_precision = ContextualPrecisionMetric(\n",
            "    threshold=0.5, # default is 0.5\n",
            "    model=\"gpt-4o\",\n",
            "    include_reason=True\n",
            ")\n",
            "\n",
            "contextual_recall = ContextualRecallMetric(\n",
            "    threshold=0.5, # default is 0.5\n",
            "    model=\"gpt-4o\",\n",
            "    include_reason=True\n",
            ")\n",
            "\n",
            "contextual_relevancy = ContextualRelevancyMetric(\n",
            "    threshold=0.5, # default is 0.5\n",
            "    model=\"gpt-4o\",\n",
            "    include_reason=True\n",
            ")"
         ]
      },
      {
         "cell_type": "code",
         "execution_count": 19,
         "metadata": {},
         "outputs": [],
         "source": [
            "# Instantiate generation metrics\n",
            "answer_relevancy = AnswerRelevancyMetric(\n",
            "    threshold=0.5, # default is 0.5\n",
            "    model=\"gpt-4o\",\n",
            "    include_reason=True\n",
            ")\n",
            "\n",
            "faithfulness = FaithfulnessMetric(\n",
            "    threshold=0.5, # default is 0.5\n",
            "    model=\"gpt-4o\",\n",
            "    include_reason=True\n",
            ")\n",
            "\n",
            "hallucination = HallucinationMetric(\n",
            "    threshold=0.5, # default is 0.5\n",
            "    model=\"gpt-4o\",\n",
            "    include_reason=True\n",
            ")"
         ]
      },
      {
         "cell_type": "markdown",
         "metadata": {},
         "source": [
            "#### View test cases"
         ]
      },
      {
         "cell_type": "code",
         "execution_count": 20,
         "metadata": {},
         "outputs": [
            {
               "data": {
                  "text/plain": [
                     "[LLMTestCase(input=\"How has the UK's role in supplying gas to Europe changed in recent months?\", actual_output=\"The UK's role in supplying gas to Europe has significantly increased in recent months. Gas exports have gone up significantly, with the UK playing a key role in supplying gas to Europe as it seeks to reduce its dependence on Russian gas. This increase in gas exports has been supported by imports of Liquified Natural Gas (LNG), aiding in supplying countries like Belgium and the Netherlands. Additionally, record-high electricity exports, with the UK becoming a net exporter of electricity for the first time since 2010, have also contributed to the energy supply dynamics in the region.\\n\\nSources: <Docf24b58bd-a802-461b-930f-dbe0115cd4d4> <Doc13b0c4bd-e857-418d-8782-61d69843139d>\", expected_output='The UK has been playing a key role in supplying gas to Europe as it looks to move away from Russian gas.', context=[\"['BEIS - Monthly energy statistics briefing note\\\\n\\\\nSeptember 2022\\\\n\\\\nHighlights for the 3 month period of May to July 2022 compared to the same period a year earlier: ● Primary energy consumption in the UK on a fuel input basis rose by 2.3%, with petroleum consumption increasing as lockdown restrictions eased. On a temperature adjusted basis consumption rose by 3.9%. ● Indigenous energy production rose by 21%, boosted by strong growth in UKCS production. ● Gas exports up significantly\", \" the UK has been playing a key role in supplying gas to Europe as it looks to move away from Russian gas. ● Electricity generation by Major Power Producers (MPPs) up 15%, with coal down 27%, but gas up 14%, nuclear up 13% and renewables up 19% due to increased capacity and more favourable weather conditions. ● Gas provided 48.2% of electricity generation by MPPs, with renewables at 31.6%, nuclear at 18.4% and coal at 1.1%. ● Low carbon share of electricity generation by Major Power Producers up 1.0 percentage points to 50.0%, whilst fossil fuel share down 0.9 percentage points to 49.4%. ● Petrol prices down 6.5 pence per litre, whilst diesel prices down 2.7 pence per litre in September 2022 compared to August 2022.\\\\n\\\\nPrices Monthly petrol prices (mid month) ● Average petrol prices in September 2022 were 6.5 pence per litre lower, whilst diesel prices\\\\n\\\\npence per litre were 2.7 pence per litre lower compared to August 2022.\\\\n\\\\n2022 April\\\\n\\\\nMay\\\\n\\\\nJune\\\\n\\\\nJuly August September\\\\n\\\\nPetrol\\\\n\\\\nPetrol\\\\n\\\\n161.7\\\\n\\\\n165.2\\\\n\\\\n183.1\\\\n\\\\n188.8 173.9 167.4\\\\n\\\\nDiesel\\\\n\\\\nCrude oil prices in pounds sterling up 73% on a year earlier but down 10% on July 2022. 175.7 Prices in US dollars at the beginning of September 2022 stood at $92/barrel since when prices 179.6 have fallen to now stand at $88/barrel. 190.2 ● Domestic gas prices unchanged in August 2022 but up 96% on previous year. 197.4 ● Domestic electricity prices unchanged in August 2022 but up 54% on previous year. 185.0 ● Ofgem increased the domestic energy price cap level from 1 April 2022. 182.2 ● Industrial gas prices up 18% in August 2022 and more than double on previous year.\\\\n\\\\nAnnual growth\\\\n\\\\n+24.4%\\\\n\\\\n+33.2% ● Industrial electricity prices up 5% in August 2022 and up 34% on previous year.\\\\n\\\\nPetrol and diesel prices\\\\n\\\\nCrude oil price index\\\\n\\\\ne r t i l     r e p e c n e p     200 190 180 170 160 150 140 130 120 110 100 90 0 Sep-20  unleaded  Sep-21  derv  Sep-22  UK retail price growth  Solid fuels  Gas   Electricity   Liquid fuels  Domestic  fuels  Annual growth  2022             March  +11%  +28%  +19%  +114%  +25%  April  +13%  +95%  +54%  +114%  +70%  May  +17%  +95%  +54%  +123%  +70%  June  +22%  +95%  +54%  +129%  +70%  July August  +27% +30%  +96% +96%  +54% +54%  +114% +86%  +70% +70% \\\\n\\\\n0 0 1 = 0 1 0 2 x e d n\\\\n\\\\nI\\\\n\\\\n225  200  175  150  125  100  75  50  25  0 Aug-20  Aug-21 \\\\n\\\\nAug-22\\\\n\\\\nUK industrial price growth\\\\n\\\\nGas Electricity Annual growth 2022 March +90% +18% April +98% +50% May +81% +38% June +96% +39% July August +93% +107% +35% +34% Latest month +18% +5%\\\\n\\\\nLatest month\\\\n\\\\n+2%\\\\n\\\\n+0%\\\\n\\\\n+0%\\\\n\\\\n14%\\\\n\\\\n0%\\\\n\\\\nUK retail prices\\\\n\\\\nUK industrial prices\\\\n\\\\n275 250 225 200 175 150 125 100 75 50 25 0 Aug-20  Electricity Solid fuels  Gas Liquid fuels  Aug-21  Aug-22 \\\\n\\\\n0 0 1 = 0 1 0 2 x e d n\\\\n\\\\nI\\\\n\\\\n0 0 1 = 0 1 0 2 x e d n\\\\n\\\\nI\\\\n\\\\n350 325 300 275 250 225 200 175 150 125 100 75 50 0 Aug-20 ']\"], retrieval_context=[\"[{'page_content': '3-monthly growth\\\\n\\\\n+55.8%\\\\n\\\\n+24.8% +520.8%\\\\n\\\\n4.9%\\\\n\\\\n10142% The UK has been playing a key role in supplying gas to Europe\\\\n\\\\nas it looks to move away from Russian gas. ● Consumption down 4.9%, due to warmer weather and stronger performance from renewable generation.\\\\n\\\\nUK gas production and imports (TWh per month)\\\\n\\\\n90\\\\n\\\\n80\\\\n\\\\nProduction\\\\n\\\\nImports\\\\n\\\\n90\\\\n\\\\n80\\\\n\\\\nProduction\\\\n\\\\nImports\\\\n\\\\n70\\\\n\\\\n70\\\\n\\\\n60\\\\n\\\\n60\\\\n\\\\n50\\\\n\\\\n50\\\\n\\\\n40\\\\n\\\\n40\\\\n\\\\n30\\\\n\\\\n30\\\\n\\\\n20\\\\n\\\\n20\\\\n\\\\n10\\\\n\\\\n10\\\\n\\\\n0\\\\n\\\\n2018\\\\n\\\\n2019\\\\n\\\\n2020\\\\n\\\\n2021\\\\n\\\\n2022\\\\n\\\\n0 Jul-20\\\\n\\\\nJul-21', 'file_uuid': 'f24b58bd-a802-461b-930f-dbe0115cd4d4', 'page_numbers': None}, {'page_content': 'Highlights for the 3 month period of May to July 2022 compared to the same period a year earlier: ● Primary energy consumption in the UK on a fuel input basis rose by 2.3%, with petroleum consumption increasing as lockdown restrictions eased. On a temperature adjusted basis consumption rose by 3.9%. ● Indigenous energy production rose by 21%, boosted by strong growth in UKCS production. ● Gas exports up significantly\", \" the UK has been playing a key role in supplying gas to Europe as it looks to', 'file_uuid': 'f24b58bd-a802-461b-930f-dbe0115cd4d4', 'page_numbers': None}, {'page_content': 'Primary energy consumption in the UK on a fuel input basis rose by 2.3%, with petroleum consumption increasing as lockdown restrictions eased. On a temperature adjusted basis consumption rose by 3.9%.\\\\n\\\\nIndigenous energy production rose by 21%, boosted by strong growth in UKCS production.\\\\n\\\\nGas exports up significantly\", \" the UK has been playing a key role in supplying gas to Europe as it looks to move away from Russian gas.', 'file_uuid': '13b0c4bd-e857-418d-8782-61d69843139d', 'page_numbers': None}, {'page_content': 'Exports of gas reached a new quarterly high as imports of Liquified Natural Gas (LNG) arriving in the UK helped supply Belgium and the Netherlands, with the volumes of the most recent quarterly exports exceeding many annual totals from previous years. Electricity exports also reached a new record high with the UK becoming a net exporter of electricity for the first time since 2010 as demand in France increased following reduced nuclear output in the French nuclear fleet.', 'file_uuid': '13b0c4bd-e857-418d-8782-61d69843139d', 'page_numbers': None}]\"], additional_metadata=None, comments=None),\n",
                     " LLMTestCase(input='How has the share of renewable energy generation in the UK changed in the second quarter of 2022 compared to the same period last year?', actual_output=\"**Renewable generation rose 12 per cent on the same period last year**. The share of renewable energy generation in the UK increased to **38.6 per cent**, with low carbon's share reaching **55.0 per cent**. Fossil fuel share of generation fell to **41.9 per cent**. <Doc13b0c4bd-e857-418d-8782-61d69843139d>\\n\\nSources: <Doc13b0c4bd-e857-418d-8782-61d69843139d>\", expected_output=\"Renewable generation in the UK rose by 12% in the second quarter of 2022 compared to the same period last year, with renewable's share of generation increasing to 38.6% and low carbon's share rising to 55.0%. Fossil fuel share of generation fell by 2.1 percentage points to 41.9%.\", context=[\"[' to move away from Russian gas.\\\\n\\\\n· Electricity generation by Major Power Producers (MPPs) up 15%, with coal down 27%, but gas up 14%, nuclear up 13% and renewables up 19% due to increased capacity and more favourable weather conditions.\\\\n\\\\n· Gas provided 48.2% of electricity generation by MPPs, with renewables at 31.6%, nuclear at 18.4% and coal at 1.1%.\\\\n\\\\n· Low carbon share of electricity generation by Major Power Producers up 1.0 percentage points to 50.0%, whilst fossil fuel share of electricity generation down 0.9 percentage points to 49.4%.\\\\n\\\\n· Petrol and diesel prices down 6.5 and 2.7 pence per litre respectively in September 2022 compared to August 2022.\\\\n\\\\nA reminder that we recently introduced a new dashboard for the monthly energy data, available at: https://app.powerbi.com/groups/09847724-d190-4fd9-af48- 381f7303e6f7/reports/66efcb53-a19d-454b-9bb0-fad4c5aadc0d/ReportSectiona4fd0ffc90f1c33d894f?ctid=cbac7005-02c1-43eb-b497-e6492d1b2dd8. If prompted to do so, please request access to the dashboard – this will be a one-off request and may take a few minutes to be approved. This is an early version that we will iterate over the next few months, and we welcome any comments you may have about what you would like to see. At the moment it is only available for BEIS staff (i.e. owners of an @beis e-mail account), but we are looking to make it more widely available as we develop further.\\\\n\\\\nAlso published today are the September editions of the BEIS statistical publications Energy Trends and Energy Prices which contain data for Q2 2022 (April to June). The main points to note are:\\\\n\\\\nEnergy Trends\\\\n\\\\n· UK energy production increased on last year’s record low which saw oil and gas production affected by maintenance, including the work on the Forties Pipeline System. Natural gas production increased by more than 50 per cent, returning to near pre-pandemic levels. Oil production increased by 10 per cent and remans below pre-pandemic levels. Low carbon energy also showed growth with both nuclear and wind, solar and hydro up on last year as a result of more favourable conditions and increased capacity.\\\\n\\\\n· Total final energy consumption (excluding non-energy use) was 0.2 per cent lower than in the second quarter of 2021, as warmer temperatures reduced demand and offset increased activity in the economy. Transport consumption rose by 23 per cent with petrol and diesel consumption returning to near pre-pandemic levels. Jet fuel consumption also increased but lies substantially below pre-pandemic levels. Service sector consumption fell by 3.0 per cent, whilst industrial sector energy consumption fell by 0.2 per cent. Domestic consumption fell by 28 per cent due to the warmer weather and a decrease in the amount of time working at home.\\\\n\\\\n· Exports of gas reached a new quarterly high as imports of Liquified Natural Gas (LNG) arriving in the UK helped supply Belgium and the Netherlands, with the volumes of the most recent quarterly exports exceeding many annual totals from previous years. Electricity exports also reached a new record high with the UK becoming a net exporter of electricity for the first time since 2010 as demand in France increased following reduced nuclear output in the French nuclear fleet.\\\\n\\\\n· Energy received from Russia decreased on the same quarter of last year. With no LNG cargoes arriving from Russia since March, Russia’s share of the UK’s gas imports fell from 7.6 per cent last year to 0. Russia’s share of the UK’s oil imports fell from 15.1 per cent to 3.7 per cent in second quarter of 2022.\\\\n\\\\n· Renewable generation rose 12 per cent on the same period last year due to more favourable conditions and increased capacity, particularly for wind. Renewable’s share of generation rose to 38.6 per cent, with low carbon’s share increasing 2.1 percentage points to 55.0 per cent with stronger output from nuclear. With stronger output from low carbon technologies, fossil fuel share of generation fell by 2.1 percentage points to 41.9 per cent.\\\\n\\\\n· Renewable generation capacity grew by 6.5 per cent on the same quarter last year, with offshore wind growing 23 per cent. The growth in renewable capacity has increased in recent quarters after a relatively sustained period of more modest growth. On a longer timeframe, renewable generation capacity is now six times greater than the same quarter of 2010.\\\\n\\\\nEnergy Prices\\\\n\\\\n· The consumer']\"], retrieval_context=[\"[{'page_content': 'Jul-22\\\\n\\\\n3\\\\n\\\\nElectricity generation by Major Power Producers (MPPs) Renewables\\\\n\\\\nCoal\\\\n\\\\nGas\\\\n\\\\nNuclear\\\\n\\\\nTWh ● Total electricity produced by MPPs up 15% compared\\\\n\\\\nUK production\\\\n\\\\nto a year earlier. Overall supply down 5.7%, with the UK a net\\\\n\\\\n2021 May\\\\n\\\\nJune July\\\\n\\\\n2022 May\\\\n\\\\nJune', 'file_uuid': 'f24b58bd-a802-461b-930f-dbe0115cd4d4', 'page_numbers': None}, {'page_content': 'Renewable generation capacity grew by 6.5 per cent on the same quarter last year, with offshore wind growing 23 per cent. The growth in renewable capacity has increased in recent quarters after a relatively sustained period of more modest growth. On a longer timeframe, renewable generation capacity is now six times greater than the same quarter of 2010.', 'file_uuid': '13b0c4bd-e857-418d-8782-61d69843139d', 'page_numbers': None}, {'page_content': 'Renewable generation rose 12 per cent on the same period last year due to more favourable conditions and increased capacity, particularly for wind. Renewable’s share of generation rose to 38.6 per cent, with low carbon’s share increasing 2.1 percentage points to 55.0 per cent with stronger output from nuclear. With stronger output from low carbon technologies, fossil fuel share of generation fell by 2.1 percentage points to 41.9 per cent.', 'file_uuid': '13b0c4bd-e857-418d-8782-61d69843139d', 'page_numbers': None}, {'page_content': 'Simon, Stuart & Anouka cc: PS/BEIS Ministers, SPADs, Perm Sec, DGs & CSA\\\\n\\\\nPlease find attached the latest brief on monthly energy data which are published today at: https://www.gov.uk/government/statistics/energy-trends-and-prices-statistical- release-29-september-2022\\\\n\\\\nHighlights for the 3 month period May to July 2022 compared to the same period a year earlier are:', 'file_uuid': '13b0c4bd-e857-418d-8782-61d69843139d', 'page_numbers': None}]\"], additional_metadata=None, comments=None),\n",
                     " LLMTestCase(input='How has the share of renewable energy generation in the UK changed in the second quarter of 2022 compared to the same period last year?', actual_output=\"The share of renewable energy generation in the UK increased in the second quarter of 2022 compared to the same period last year. Renewable generation rose by 12%, reaching a 38.6% share of total generation. The low carbon share of generation also increased to 55.0%, with stronger output from nuclear contributing to this growth. As a result, fossil fuel's share of generation fell by 2.1 percentage points to 41.9%. Renewable generation capacity grew by 6.5%, with offshore wind showing significant growth of 23% compared to the same quarter last year. \\n\\n**Sources:** <Docf24b58bd-a802-461b-930f-dbe0115cd4d4> <Doc13b0c4bd-e857-418d-8782-61d69843139d>\", expected_output='Renewable generation rose 12 per cent on the same period last year due to more favourable conditions and increased capacity, particularly for wind. Renewable’s share of generation rose to 38.6 per cent, with low carbon’s share increasing 2.1 percentage points to 55.0 per cent with stronger output from nuclear. With stronger output from low carbon technologies, fossil fuel share of generation fell by 2.1 percentage points to 41.9 per cent.', context=[\"[' to move away from Russian gas.\\\\n\\\\n· Electricity generation by Major Power Producers (MPPs) up 15%, with coal down 27%, but gas up 14%, nuclear up 13% and renewables up 19% due to increased capacity and more favourable weather conditions.\\\\n\\\\n· Gas provided 48.2% of electricity generation by MPPs, with renewables at 31.6%, nuclear at 18.4% and coal at 1.1%.\\\\n\\\\n· Low carbon share of electricity generation by Major Power Producers up 1.0 percentage points to 50.0%, whilst fossil fuel share of electricity generation down 0.9 percentage points to 49.4%.\\\\n\\\\n· Petrol and diesel prices down 6.5 and 2.7 pence per litre respectively in September 2022 compared to August 2022.\\\\n\\\\nA reminder that we recently introduced a new dashboard for the monthly energy data, available at: https://app.powerbi.com/groups/09847724-d190-4fd9-af48- 381f7303e6f7/reports/66efcb53-a19d-454b-9bb0-fad4c5aadc0d/ReportSectiona4fd0ffc90f1c33d894f?ctid=cbac7005-02c1-43eb-b497-e6492d1b2dd8. If prompted to do so, please request access to the dashboard – this will be a one-off request and may take a few minutes to be approved. This is an early version that we will iterate over the next few months, and we welcome any comments you may have about what you would like to see. At the moment it is only available for BEIS staff (i.e. owners of an @beis e-mail account), but we are looking to make it more widely available as we develop further.\\\\n\\\\nAlso published today are the September editions of the BEIS statistical publications Energy Trends and Energy Prices which contain data for Q2 2022 (April to June). The main points to note are:\\\\n\\\\nEnergy Trends\\\\n\\\\n· UK energy production increased on last year’s record low which saw oil and gas production affected by maintenance, including the work on the Forties Pipeline System. Natural gas production increased by more than 50 per cent, returning to near pre-pandemic levels. Oil production increased by 10 per cent and remans below pre-pandemic levels. Low carbon energy also showed growth with both nuclear and wind, solar and hydro up on last year as a result of more favourable conditions and increased capacity.\\\\n\\\\n· Total final energy consumption (excluding non-energy use) was 0.2 per cent lower than in the second quarter of 2021, as warmer temperatures reduced demand and offset increased activity in the economy. Transport consumption rose by 23 per cent with petrol and diesel consumption returning to near pre-pandemic levels. Jet fuel consumption also increased but lies substantially below pre-pandemic levels. Service sector consumption fell by 3.0 per cent, whilst industrial sector energy consumption fell by 0.2 per cent. Domestic consumption fell by 28 per cent due to the warmer weather and a decrease in the amount of time working at home.\\\\n\\\\n· Exports of gas reached a new quarterly high as imports of Liquified Natural Gas (LNG) arriving in the UK helped supply Belgium and the Netherlands, with the volumes of the most recent quarterly exports exceeding many annual totals from previous years. Electricity exports also reached a new record high with the UK becoming a net exporter of electricity for the first time since 2010 as demand in France increased following reduced nuclear output in the French nuclear fleet.\\\\n\\\\n· Energy received from Russia decreased on the same quarter of last year. With no LNG cargoes arriving from Russia since March, Russia’s share of the UK’s gas imports fell from 7.6 per cent last year to 0. Russia’s share of the UK’s oil imports fell from 15.1 per cent to 3.7 per cent in second quarter of 2022.\\\\n\\\\n· Renewable generation rose 12 per cent on the same period last year due to more favourable conditions and increased capacity, particularly for wind. Renewable’s share of generation rose to 38.6 per cent, with low carbon’s share increasing 2.1 percentage points to 55.0 per cent with stronger output from nuclear. With stronger output from low carbon technologies, fossil fuel share of generation fell by 2.1 percentage points to 41.9 per cent.\\\\n\\\\n· Renewable generation capacity grew by 6.5 per cent on the same quarter last year, with offshore wind growing 23 per cent. The growth in renewable capacity has increased in recent quarters after a relatively sustained period of more modest growth. On a longer timeframe, renewable generation capacity is now six times greater than the same quarter of 2010.\\\\n\\\\nEnergy Prices\\\\n\\\\n· The consumer']\"], retrieval_context=[\"[{'page_content': 'Jul-22\\\\n\\\\n3\\\\n\\\\nElectricity generation by Major Power Producers (MPPs) Renewables\\\\n\\\\nCoal\\\\n\\\\nGas\\\\n\\\\nNuclear\\\\n\\\\nTWh ● Total electricity produced by MPPs up 15% compared\\\\n\\\\nUK production\\\\n\\\\nto a year earlier. Overall supply down 5.7%, with the UK a net\\\\n\\\\n2021 May\\\\n\\\\nJune July\\\\n\\\\n2022 May\\\\n\\\\nJune', 'file_uuid': 'f24b58bd-a802-461b-930f-dbe0115cd4d4', 'page_numbers': None}, {'page_content': 'Renewable generation capacity grew by 6.5 per cent on the same quarter last year, with offshore wind growing 23 per cent. The growth in renewable capacity has increased in recent quarters after a relatively sustained period of more modest growth. On a longer timeframe, renewable generation capacity is now six times greater than the same quarter of 2010.', 'file_uuid': '13b0c4bd-e857-418d-8782-61d69843139d', 'page_numbers': None}, {'page_content': 'Renewable generation rose 12 per cent on the same period last year due to more favourable conditions and increased capacity, particularly for wind. Renewable’s share of generation rose to 38.6 per cent, with low carbon’s share increasing 2.1 percentage points to 55.0 per cent with stronger output from nuclear. With stronger output from low carbon technologies, fossil fuel share of generation fell by 2.1 percentage points to 41.9 per cent.', 'file_uuid': '13b0c4bd-e857-418d-8782-61d69843139d', 'page_numbers': None}, {'page_content': 'Simon, Stuart & Anouka cc: PS/BEIS Ministers, SPADs, Perm Sec, DGs & CSA\\\\n\\\\nPlease find attached the latest brief on monthly energy data which are published today at: https://www.gov.uk/government/statistics/energy-trends-and-prices-statistical- release-29-september-2022\\\\n\\\\nHighlights for the 3 month period May to July 2022 compared to the same period a year earlier are:', 'file_uuid': '13b0c4bd-e857-418d-8782-61d69843139d', 'page_numbers': None}]\"], additional_metadata=None, comments=None),\n",
                     " LLMTestCase(input='How has electricity generation by Major Power Producers changed in terms of fuel sources and overall share in the UK energy market?', actual_output='**Electricity generation by Major Power Producers (MPPs) in the UK has shown significant changes in fuel sources and overall share in the energy market.**\\n\\n- **Renewables** have increased by 19% due to increased capacity and favorable weather conditions.\\n- **Coal** has decreased by 27%.\\n- **Gas** has increased by 14% and provided 48.2% of the electricity generation.\\n- **Nuclear** has increased by 13%.\\n\\nOverall, the low carbon share of electricity generation has increased to 50.0%, while the fossil fuel share has decreased to 49.4%.\\n\\n**Sources:** <Docf24b58bd-a802-461b-930f-dbe0115cd4d4> <Doc13b0c4bd-e857-418d-8782-61d69843139d>', expected_output='Electricity generation by Major Power Producers (MPPs) has seen coal generation decrease by 27%, gas generation increase by 14%, nuclear generation increase by 13%, and renewables generation increase by 19%. In terms of overall share in the UK energy market, gas provided 48.2% of electricity generation by MPPs, renewables provided 31.6%, nuclear provided 18.4%, and coal provided 1.1%. The low carbon share of electricity generation by MPPs increased by 1.0 percentage points to 50.0%, while the fossil fuel share decreased by 0.9 percentage points to 49.4%.', context=[\"[' to move away from Russian gas.\\\\n\\\\n· Electricity generation by Major Power Producers (MPPs) up 15%, with coal down 27%, but gas up 14%, nuclear up 13% and renewables up 19% due to increased capacity and more favourable weather conditions.\\\\n\\\\n· Gas provided 48.2% of electricity generation by MPPs, with renewables at 31.6%, nuclear at 18.4% and coal at 1.1%.\\\\n\\\\n· Low carbon share of electricity generation by Major Power Producers up 1.0 percentage points to 50.0%, whilst fossil fuel share of electricity generation down 0.9 percentage points to 49.4%.\\\\n\\\\n· Petrol and diesel prices down 6.5 and 2.7 pence per litre respectively in September 2022 compared to August 2022.\\\\n\\\\nA reminder that we recently introduced a new dashboard for the monthly energy data, available at: https://app.powerbi.com/groups/09847724-d190-4fd9-af48- 381f7303e6f7/reports/66efcb53-a19d-454b-9bb0-fad4c5aadc0d/ReportSectiona4fd0ffc90f1c33d894f?ctid=cbac7005-02c1-43eb-b497-e6492d1b2dd8. If prompted to do so, please request access to the dashboard – this will be a one-off request and may take a few minutes to be approved. This is an early version that we will iterate over the next few months, and we welcome any comments you may have about what you would like to see. At the moment it is only available for BEIS staff (i.e. owners of an @beis e-mail account), but we are looking to make it more widely available as we develop further.\\\\n\\\\nAlso published today are the September editions of the BEIS statistical publications Energy Trends and Energy Prices which contain data for Q2 2022 (April to June). The main points to note are:\\\\n\\\\nEnergy Trends\\\\n\\\\n· UK energy production increased on last year’s record low which saw oil and gas production affected by maintenance, including the work on the Forties Pipeline System. Natural gas production increased by more than 50 per cent, returning to near pre-pandemic levels. Oil production increased by 10 per cent and remans below pre-pandemic levels. Low carbon energy also showed growth with both nuclear and wind, solar and hydro up on last year as a result of more favourable conditions and increased capacity.\\\\n\\\\n· Total final energy consumption (excluding non-energy use) was 0.2 per cent lower than in the second quarter of 2021, as warmer temperatures reduced demand and offset increased activity in the economy. Transport consumption rose by 23 per cent with petrol and diesel consumption returning to near pre-pandemic levels. Jet fuel consumption also increased but lies substantially below pre-pandemic levels. Service sector consumption fell by 3.0 per cent, whilst industrial sector energy consumption fell by 0.2 per cent. Domestic consumption fell by 28 per cent due to the warmer weather and a decrease in the amount of time working at home.\\\\n\\\\n· Exports of gas reached a new quarterly high as imports of Liquified Natural Gas (LNG) arriving in the UK helped supply Belgium and the Netherlands, with the volumes of the most recent quarterly exports exceeding many annual totals from previous years. Electricity exports also reached a new record high with the UK becoming a net exporter of electricity for the first time since 2010 as demand in France increased following reduced nuclear output in the French nuclear fleet.\\\\n\\\\n· Energy received from Russia decreased on the same quarter of last year. With no LNG cargoes arriving from Russia since March, Russia’s share of the UK’s gas imports fell from 7.6 per cent last year to 0. Russia’s share of the UK’s oil imports fell from 15.1 per cent to 3.7 per cent in second quarter of 2022.\\\\n\\\\n· Renewable generation rose 12 per cent on the same period last year due to more favourable conditions and increased capacity, particularly for wind. Renewable’s share of generation rose to 38.6 per cent, with low carbon’s share increasing 2.1 percentage points to 55.0 per cent with stronger output from nuclear. With stronger output from low carbon technologies, fossil fuel share of generation fell by 2.1 percentage points to 41.9 per cent.\\\\n\\\\n· Renewable generation capacity grew by 6.5 per cent on the same quarter last year, with offshore wind growing 23 per cent. The growth in renewable capacity has increased in recent quarters after a relatively sustained period of more modest growth. On a longer timeframe, renewable generation capacity is now six times greater than the same quarter of 2010.\\\\n\\\\nEnergy Prices\\\\n\\\\n· The consumer', ' Major Power Producers (MPPs) Renewables\\\\n\\\\nCoal Gas Nuclear UK production to a year earlier. Overall supply down 5.7%, with the UK a net 2021 May June July 2022 May June July 0.2 0.2 0.5 0.0 0.1 0.5 9.3 7.8 9.0 10.3 9.3 10.3 3.3 3.7 3.2 3.9 4.0 3.4 6.5 5.4 4.6 7.0 6.3 6.3 19.3 exporter to help offset reduced French nuclear output, but 17.1 autogenerators up 9.3%. 17.4 ● Coal generation down 27%, whilst gas up 14%. 21.3 ● Nuclear up 13% despite reduced capacity. 19.8 ● Renewables generation up 19%, due to increased capacity 20.6 and more favourable weather conditions. 3-monthly growth -27.0% +14.4% +13.1% +19.1% +14.7% ● In the last 3 months fossil fuels share of MPP electricity\\\\n\\\\n+14.7% ● In the last 3 months fossil fuels share of MPP electricity generation was down 0.9 percentage points to 49.4%. Renewables was up 1.2 percentage points to 31.6%, whilst the low carbon share was up 1.0 percentage points to 50.0%.\\\\n\\\\nMPPs electricity generation (TWh per month)\\\\n\\\\nMPPs electricity generation shares in last 3 months\\\\n\\\\n16  14  Coal  Gas  Nuclear  Renewables  12  10  8  6  4  2  0  2018  2019  2020  2021  2022  Electricity generation from renewables by Major Power Producers (MPPs) Offshore  wind  Total  Onshore  wind  Bioenergy  Hydro  2021                May  6.5  2.4  1.5  1.8  0.2                          June  5.4  1.7  1.3  1.7  0.1                           July  4.6  1.6  0.6  1.7  0.1  2022                May  7.0  3.0  2.2  1.0  0.3                          June                          July  6.3 6.3  2.6 2.5  1.7 1.5  1.2 1.5  0.2 0.2  3-monthly growth  +19.1%  +41.9% +60.7%  -30.1%  +41.5% \\\\n\\\\nRenewables 31.6%  Coal 1.1%  Gas 48.2%  Nuclear 18.4% \\\\n\\\\nTWh\\\\n\\\\nSolar\\\\n\\\\n0.5\\\\n\\\\n0.6\\\\n\\\\n0.6\\\\n\\\\n0.6\\\\n\\\\n0.6 0.6\\\\n\\\\n— -+7.4%\\\\n\\\\n+7.4%\\\\n\\\\nWind generation up 49%, with offshore up 42% and onshore up 61%, due to increased capacity and higher wind speeds. ● Bioenergy generation down 30%, whilst hydro generation up 42%. ● Solar generation up 7.4% to a record 3 monthly high level due to increased capacity and sun hours.\\\\n\\\\nMPPs renewable electricity generation (TWh per month)\\\\n\\\\n6  Offshore wind Solar  Onshore wind Hydro  Bioenergy  5  4  3  2  1  0  2018  2019  2020  2021  2022 \\\\n\\\\n6  Offshore wind Solar  Onshore wind Hydro  Bioenergy  5  4  3  2  1  0 Jul-20  Jul-21 \\\\n\\\\n4\\\\n\\\\nJul-22']\"], retrieval_context=[\"[{'page_content': 'Jul-22\\\\n\\\\n3\\\\n\\\\nElectricity generation by Major Power Producers (MPPs) Renewables\\\\n\\\\nCoal\\\\n\\\\nGas\\\\n\\\\nNuclear\\\\n\\\\nTWh ● Total electricity produced by MPPs up 15% compared\\\\n\\\\nUK production\\\\n\\\\nto a year earlier. Overall supply down 5.7%, with the UK a net\\\\n\\\\n2021 May\\\\n\\\\nJune July\\\\n\\\\n2022 May\\\\n\\\\nJune', 'file_uuid': 'f24b58bd-a802-461b-930f-dbe0115cd4d4', 'page_numbers': None}, {'page_content': 'Primary energy consumption in the UK on a fuel input basis rose by 2.3%, with petroleum consumption increasing as lockdown restrictions eased. On a temperature adjusted basis consumption rose by 3.9%.\\\\n\\\\nIndigenous energy production rose by 21%, boosted by strong growth in UKCS production.\\\\n\\\\nGas exports up significantly\", \" the UK has been playing a key role in supplying gas to Europe as it looks to move away from Russian gas.', 'file_uuid': '13b0c4bd-e857-418d-8782-61d69843139d', 'page_numbers': None}, {'page_content': 'Low carbon share of electricity generation by Major Power Producers up 1.0 percentage points to 50.0%, whilst fossil fuel share of electricity generation down 0.9 percentage points to 49.4%.\\\\n\\\\nPetrol and diesel prices down 6.5 and 2.7 pence per litre respectively in September 2022 compared to August 2022.', 'file_uuid': '13b0c4bd-e857-418d-8782-61d69843139d', 'page_numbers': None}, {'page_content': 'Electricity generation by Major Power Producers (MPPs) up 15%, with coal down 27%, but gas up 14%, nuclear up 13% and renewables up 19% due to increased capacity and more favourable weather conditions.\\\\n\\\\nGas provided 48.2% of electricity generation by MPPs, with renewables at 31.6%, nuclear at 18.4% and coal at 1.1%.', 'file_uuid': '13b0c4bd-e857-418d-8782-61d69843139d', 'page_numbers': None}]\"], additional_metadata=None, comments=None),\n",
                     " LLMTestCase(input=\"What factors influenced the UK's gas production changes in the past year?\", actual_output=\"Based on the data provided, the factors that influenced the UK's gas production changes in the past year include: \\n- Primary energy consumption in the UK rose by 2.3% on a fuel input basis, with petroleum consumption increasing as lockdown restrictions eased.\\n- Indigenous energy production increased by 21%, mainly due to growth in UKCS production.\\n- Gas exports were up significantly, with the UK playing a key role in supplying gas to Europe.\\n\\nSpecific events that impacted these changes include:\\n- Natural gas production increased by more than 50%, returning to near pre-pandemic levels.\\n- Oil production increased by 10%, remaining below pre-pandemic levels.\\n- Low carbon energy, including nuclear and wind, solar, and hydro, also showed growth.\\n\\nThese changes were influenced by a combination of increased production levels, favorable conditions, and the shift towards supplying gas to Europe as it reduces its reliance on Russian gas.\\n\\n**Sources:** <Docf24b58bd-a802-461b-930f-dbe0115cd4d4> <Doc13b0c4bd-e857-418d-8782-61d69843139d>\", expected_output='UK gas production increased by 56% in the past year, reaching similar levels to pre-pandemic times. This increase was influenced by factors such as strong growth in UKCS production and more favorable weather conditions.', context=[\"[' Electricity  Gas  Aug-21 \\\\n\\\\nAug-22\\\\n\\\\n1\\\\n\\\\nIndigenous energy production\\\\n\\\\nmillion tonnes of oil equivalent\\\\n\\\\nPrimary electricity Total Coal Oil Gas Bioenergy Nuclear Wind, Solar & Hydro 8.1 6.7 7.8 0.1 0.1 0.1 3.5 2.8 3.6 2.2 1.5 2.1 1.0 1.0 0.9 0.8 0.9 0.8 0.6 0.5 0.4 9.4 8.7 9.1 0.1 0.0 0.0 3.6 3.3 3.8 3.2 2.9 2.9 0.9 0.9 1.0 0.9 1.0 0.8 0.7 0.6 0.5\\\\n\\\\n2021 May\\\\n\\\\nJune\\\\n\\\\nJuly\\\\n\\\\n2022 May\\\\n\\\\nJune July\\\\n\\\\n3-monthly growth\\\\n\\\\n+20.9%\\\\n\\\\n40.9%\\\\n\\\\n+7.4%\\\\n\\\\n+55.6%\\\\n\\\\n+1.1%\\\\n\\\\n+13.8%\\\\n\\\\n+33.1%\\\\n\\\\nUK energy production up 21%, boosted by strong growth in UKCS production. ● Coal production down 41%. ● Oil production up 7.4% and gas production up 56%. Oil production still remains down on pre-pandemic levels, but gas production is now similar to pre-pandemic levels. ● Bioenergy production up 1.1%. ● Nuclear production up 14% despite Hunterston B power station closing in January 2022. ● Wind, solar and hydro production up 33%, due to increased capacity and more favourable weather conditions. ● Primary production of low carbon energy up 12%.\\\\n\\\\nOverall primary energy consumption: fuel input basis\\\\n\\\\nTotal Unadjusted million tonnes of oil equivalent Seasonally adj & temp corrected annual rates Total Coal Petroleum Gas Temperature average degrees C deviation from mean Wind Speeds average knots deviation from mean 13.5 173.9 6.8 54.8 75.6 10.1 -1.7 7.6 11.3 166.7 6.7 54.7 66.3 15.4 +0.8 7.0 11.3 169.3 6.8 53.7 73.2 17.6 +1.0 5.6 12.9 177.4 5.9 62.5 74.2 13.0 +1.2 8.5 11.9 12.2 172.5 179.9 5.3 6.2 62.3 63.0 68.8 73.8 15.1 18.2 +0.5 +1.5 8.1 7.3 -0.8 -0.7 -1.9 +0.1 +0.3 -0.2\\\\n\\\\n2021 May\\\\n\\\\nJune\\\\n\\\\nJuly\\\\n\\\\n2022 May\\\\n\\\\nJune July\\\\n\\\\n3-monthly growth\\\\n\\\\n+2.3%\\\\n\\\\n+3.9%\\\\n\\\\n14.3%\\\\n\\\\n+15.1%\\\\n\\\\n+0.8%\\\\n\\\\nPrimary energy consumption rose by 2.3% in the last 3 months compared to a year earlier, with petroleum consumption increasing as lockdown restrictions eased. Petroleum consumption still remains lower than usual due to reduced aviation fuel sales. Allowing for seasonal variation and temperature, consumption in the last 3 months rose by 3.9% compared to the same period a year earlier. ● In the last 3 months the temperature was 1.1 degrees warmer, wind speeds were 1.2 knots higher and sun hours were 0.9 higher, compared to the same period a year earlier.\\\\n\\\\nUK energy production (Million tonnes of oil equivalent).\\\\n\\\\nUK primary energy consumption (Million tonnes of oil equivalent), seasonally adjusted and temperature corrected annual rates\\\\n\\\\n13  12  11  10  9  8  7  6  0 5  2018  2019  2020  2021  2022 \\\\n\\\\n210  200  190  180  170  160  150  140  130 0  2018  2019  2020  2021  2022 \\\\n\\\\n2\\\\n\\\\nCrude oil & NGL supply\\\\n\\\\nthousand tonnes Refinery intake\\\\n\\\\n2021 May June July 2022 May June July UK production 3,250 2,594 3,301 3,338 3,026 3,463 Imports 3,624 3,092 3,595 3,729 3,165 3,596 Exports 2,235 2,053 2,439 2,671 2,021 2,292 4,655 4,079 4,590 4,687 4,374 4,699 3-monthly growth +7.5% +1.7% +3.8% +3.3%\\\\n\\\\nUK production of crude oil and NGLs up 7.5% on a year earlier, with output still low compared']\"], retrieval_context=[\"[{'page_content': 'Highlights for the 3 month period of May to July 2022 compared to the same period a year earlier: ● Primary energy consumption in the UK on a fuel input basis rose by 2.3%, with petroleum consumption increasing as lockdown restrictions eased. On a temperature adjusted basis consumption rose by 3.9%. ● Indigenous energy production rose by 21%, boosted by strong growth in UKCS production. ● Gas exports up significantly\", \" the UK has been playing a key role in supplying gas to Europe as it looks to', 'file_uuid': 'f24b58bd-a802-461b-930f-dbe0115cd4d4', 'page_numbers': None}, {'page_content': 'Primary energy consumption in the UK on a fuel input basis rose by 2.3%, with petroleum consumption increasing as lockdown restrictions eased. On a temperature adjusted basis consumption rose by 3.9%.\\\\n\\\\nIndigenous energy production rose by 21%, boosted by strong growth in UKCS production.\\\\n\\\\nGas exports up significantly\", \" the UK has been playing a key role in supplying gas to Europe as it looks to move away from Russian gas.', 'file_uuid': '13b0c4bd-e857-418d-8782-61d69843139d', 'page_numbers': None}, {'page_content': 'UK energy production increased on last year’s record low which saw oil and gas production affected by maintenance, including the work on the Forties Pipeline System. Natural gas production increased by more than 50 per cent, returning to near pre-pandemic levels. Oil production increased by 10 per cent and remans below pre-pandemic levels. Low carbon energy also showed growth with both nuclear and wind, solar and hydro up on last year as a result of more favourable conditions and increased', 'file_uuid': '13b0c4bd-e857-418d-8782-61d69843139d', 'page_numbers': None}, {'page_content': '3-monthly growth\\\\n\\\\n+55.8%\\\\n\\\\n+24.8% +520.8%\\\\n\\\\n4.9%\\\\n\\\\n10142% The UK has been playing a key role in supplying gas to Europe\\\\n\\\\nas it looks to move away from Russian gas. ● Consumption down 4.9%, due to warmer weather and stronger performance from renewable generation.\\\\n\\\\nUK gas production and imports (TWh per month)\\\\n\\\\n90\\\\n\\\\n80\\\\n\\\\nProduction\\\\n\\\\nImports\\\\n\\\\n90\\\\n\\\\n80\\\\n\\\\nProduction\\\\n\\\\nImports\\\\n\\\\n70\\\\n\\\\n70\\\\n\\\\n60\\\\n\\\\n60\\\\n\\\\n50\\\\n\\\\n50\\\\n\\\\n40\\\\n\\\\n40\\\\n\\\\n30\\\\n\\\\n30\\\\n\\\\n20\\\\n\\\\n20\\\\n\\\\n10\\\\n\\\\n10\\\\n\\\\n0\\\\n\\\\n2018\\\\n\\\\n2019\\\\n\\\\n2020\\\\n\\\\n2021\\\\n\\\\n2022\\\\n\\\\n0 Jul-20\\\\n\\\\nJul-21', 'file_uuid': 'f24b58bd-a802-461b-930f-dbe0115cd4d4', 'page_numbers': None}]\"], additional_metadata=None, comments=None),\n",
                     " LLMTestCase(input='How did electricity generation by Major Power Producers change from May to July 2022 compared to the previous year, with the rise in renewables, fall in coal, and shift in energy sources?', actual_output='**Electricity generation by Major Power Producers (MPPs) experienced significant changes from May to July 2022 compared to the previous year. Total electricity produced by MPPs increased by 15%, with renewables generation up by 19%, coal down by 27%, gas up by 14%, and nuclear up by 13%. Gas became the largest source of electricity generation with 48.2%, followed by renewables at 31.6%, nuclear at 18.4%, and coal at only 1.1%. This shift was attributed to increased renewable capacity and favorable weather conditions.** \\n\\nSources: <Docf24b58bd-a802-461b-930f-dbe0115cd4d4> <Doc13b0c4bd-e857-418d-8782-61d69843139d>', expected_output='Electricity generation by Major Power Producers (MPPs) increased by 15% from May to July 2022 compared to the previous year. Coal generation decreased by 27%, while gas generation increased by 14%, nuclear by 13%, and renewables by 19%. Gas provided 48.2% of electricity generation, renewables at 31.6%, nuclear at 18.4%, and coal at 1.1%. The low carbon share of electricity generation by MPPs increased by 1.0 percentage points to 50.0%, while the fossil fuel share decreased by 0.9 percentage points to 49.4%.', context=[\"['BEIS - Monthly energy statistics briefing note\\\\n\\\\nSeptember 2022\\\\n\\\\nHighlights for the 3 month period of May to July 2022 compared to the same period a year earlier: ● Primary energy consumption in the UK on a fuel input basis rose by 2.3%, with petroleum consumption increasing as lockdown restrictions eased. On a temperature adjusted basis consumption rose by 3.9%. ● Indigenous energy production rose by 21%, boosted by strong growth in UKCS production. ● Gas exports up significantly\", \" the UK has been playing a key role in supplying gas to Europe as it looks to move away from Russian gas. ● Electricity generation by Major Power Producers (MPPs) up 15%, with coal down 27%, but gas up 14%, nuclear up 13% and renewables up 19% due to increased capacity and more favourable weather conditions. ● Gas provided 48.2% of electricity generation by MPPs, with renewables at 31.6%, nuclear at 18.4% and coal at 1.1%. ● Low carbon share of electricity generation by Major Power Producers up 1.0 percentage points to 50.0%, whilst fossil fuel share down 0.9 percentage points to 49.4%. ● Petrol prices down 6.5 pence per litre, whilst diesel prices down 2.7 pence per litre in September 2022 compared to August 2022.\\\\n\\\\nPrices Monthly petrol prices (mid month) ● Average petrol prices in September 2022 were 6.5 pence per litre lower, whilst diesel prices\\\\n\\\\npence per litre were 2.7 pence per litre lower compared to August 2022.\\\\n\\\\n2022 April\\\\n\\\\nMay\\\\n\\\\nJune\\\\n\\\\nJuly August September\\\\n\\\\nPetrol\\\\n\\\\nPetrol\\\\n\\\\n161.7\\\\n\\\\n165.2\\\\n\\\\n183.1\\\\n\\\\n188.8 173.9 167.4\\\\n\\\\nDiesel\\\\n\\\\nCrude oil prices in pounds sterling up 73% on a year earlier but down 10% on July 2022. 175.7 Prices in US dollars at the beginning of September 2022 stood at $92/barrel since when prices 179.6 have fallen to now stand at $88/barrel. 190.2 ● Domestic gas prices unchanged in August 2022 but up 96% on previous year. 197.4 ● Domestic electricity prices unchanged in August 2022 but up 54% on previous year. 185.0 ● Ofgem increased the domestic energy price cap level from 1 April 2022. 182.2 ● Industrial gas prices up 18% in August 2022 and more than double on previous year.\\\\n\\\\nAnnual growth\\\\n\\\\n+24.4%\\\\n\\\\n+33.2% ● Industrial electricity prices up 5% in August 2022 and up 34% on previous year.\\\\n\\\\nPetrol and diesel prices\\\\n\\\\nCrude oil price index\\\\n\\\\ne r t i l     r e p e c n e p     200 190 180 170 160 150 140 130 120 110 100 90 0 Sep-20  unleaded  Sep-21  derv  Sep-22  UK retail price growth  Solid fuels  Gas   Electricity   Liquid fuels  Domestic  fuels  Annual growth  2022             March  +11%  +28%  +19%  +114%  +25%  April  +13%  +95%  +54%  +114%  +70%  May  +17%  +95%  +54%  +123%  +70%  June  +22%  +95%  +54%  +129%  +70%  July August  +27% +30%  +96% +96%  +54% +54%  +114% +86%  +70% +70% \\\\n\\\\n0 0 1 = 0 1 0 2 x e d n\\\\n\\\\nI\\\\n\\\\n225  200  175  150  125  100  75  50  25  0 Aug-20  Aug-21 \\\\n\\\\nAug-22\\\\n\\\\nUK industrial price growth\\\\n\\\\nGas Electricity Annual growth 2022 March +90% +18% April +98% +50% May +81% +38% June +96% +39% July August +93% +107% +35% +34% Latest month +18% +5%\\\\n\\\\nLatest month\\\\n\\\\n+2%\\\\n\\\\n+0%\\\\n\\\\n+0%\\\\n\\\\n14%\\\\n\\\\n0%\\\\n\\\\nUK retail prices\\\\n\\\\nUK industrial prices\\\\n\\\\n275 250 225 200 175 150 125 100 75 50 25 0 Aug-20  Electricity Solid fuels  Gas Liquid fuels  Aug-21  Aug-22 \\\\n\\\\n0 0 1 = 0 1 0 2 x e d n\\\\n\\\\nI\\\\n\\\\n0 0 1 = 0 1 0 2 x e d n\\\\n\\\\nI\\\\n\\\\n350 325 300 275 250 225 200 175 150 125 100 75 50 0 Aug-20 ']\"], retrieval_context=[\"[{'page_content': 'Jul-22\\\\n\\\\n3\\\\n\\\\nElectricity generation by Major Power Producers (MPPs) Renewables\\\\n\\\\nCoal\\\\n\\\\nGas\\\\n\\\\nNuclear\\\\n\\\\nTWh ● Total electricity produced by MPPs up 15% compared\\\\n\\\\nUK production\\\\n\\\\nto a year earlier. Overall supply down 5.7%, with the UK a net\\\\n\\\\n2021 May\\\\n\\\\nJune July\\\\n\\\\n2022 May\\\\n\\\\nJune', 'file_uuid': 'f24b58bd-a802-461b-930f-dbe0115cd4d4', 'page_numbers': None}, {'page_content': 'Coal 1.1%\\\\n\\\\n12\\\\n\\\\n10\\\\n\\\\n8\\\\n\\\\nGas 48.2%\\\\n\\\\n6\\\\n\\\\n4\\\\n\\\\n2\\\\n\\\\n0\\\\n\\\\n2018\\\\n\\\\n2019\\\\n\\\\n2020\\\\n\\\\n2021\\\\n\\\\n2022\\\\n\\\\nNuclear 18.4%\\\\n\\\\nElectricity generation from renewables by Major Power Producers (MPPs) Offshore wind\\\\n\\\\nTotal\\\\n\\\\nOnshore wind\\\\n\\\\nBioenergy\\\\n\\\\nHydro\\\\n\\\\nTWh\\\\n\\\\nSolar\\\\n\\\\n2021 May\\\\n\\\\n6.5\\\\n\\\\n2.4\\\\n\\\\n1.5\\\\n\\\\n1.8\\\\n\\\\n0.2\\\\n\\\\n0.5\\\\n\\\\nJune\\\\n\\\\n5.4\\\\n\\\\n1.7\\\\n\\\\n1.3\\\\n\\\\n1.7\\\\n\\\\n0.1\\\\n\\\\n0.6\\\\n\\\\nJuly\\\\n\\\\n4.6\\\\n\\\\n1.6\\\\n\\\\n0.6\\\\n\\\\n1.7\\\\n\\\\n0.1\\\\n\\\\n0.6\\\\n\\\\n2022 May\\\\n\\\\n7.0\\\\n\\\\n3.0\\\\n\\\\n2.2\\\\n\\\\n1.0\\\\n\\\\n0.3\\\\n\\\\n0.6\\\\n\\\\nJune July\\\\n\\\\n6.3 6.3\\\\n\\\\n2.6 2.5\\\\n\\\\n1.7 1.5\\\\n\\\\n1.2 1.5\\\\n\\\\n0.2 0.2\\\\n\\\\n0.6 0.6', 'file_uuid': 'f24b58bd-a802-461b-930f-dbe0115cd4d4', 'page_numbers': None}, {'page_content': 'Electricity generation by Major Power Producers (MPPs) up 15%, with coal down 27%, but gas up 14%, nuclear up 13% and renewables up 19% due to increased capacity and more favourable weather conditions.\\\\n\\\\nGas provided 48.2% of electricity generation by MPPs, with renewables at 31.6%, nuclear at 18.4% and coal at 1.1%.', 'file_uuid': '13b0c4bd-e857-418d-8782-61d69843139d', 'page_numbers': None}, {'page_content': 'Simon, Stuart & Anouka cc: PS/BEIS Ministers, SPADs, Perm Sec, DGs & CSA\\\\n\\\\nPlease find attached the latest brief on monthly energy data which are published today at: https://www.gov.uk/government/statistics/energy-trends-and-prices-statistical- release-29-september-2022\\\\n\\\\nHighlights for the 3 month period May to July 2022 compared to the same period a year earlier are:', 'file_uuid': '13b0c4bd-e857-418d-8782-61d69843139d', 'page_numbers': None}]\"], additional_metadata=None, comments=None),\n",
                     " LLMTestCase(input='How did UK energy consumption change from May to July 2022 compared to the previous year, with the rise in indigenous energy production and gas exports to Europe?', actual_output='**UK energy consumption** increased from May to July 2022 compared to the previous year. **Primary energy consumption** rose by 2.3%, with **petroleum consumption** increasing as lockdown restrictions eased. On a temperature-adjusted basis, consumption rose by 3.9%. **Indigenous energy production** also increased by 21%, especially due to growth in UKCS production. Moreover, **gas exports** from the UK to Europe saw a significant increase. This data indicates a shift in energy dynamics in the UK during this period.\\n\\nSources: <Docf24b58bd-a802-461b-930f-dbe0115cd4d> <Doc13b0c4bd-e857-418d-8782-61d69843139d>', expected_output='Primary energy consumption in the UK on a fuel input basis rose by 2.3% from May to July 2022 compared to the same period a year earlier. Indigenous energy production rose by 21% during this period, and gas exports to Europe also increased significantly.', context=[\"['BEIS - Monthly energy statistics briefing note\\\\n\\\\nSeptember 2022\\\\n\\\\nHighlights for the 3 month period of May to July 2022 compared to the same period a year earlier: ● Primary energy consumption in the UK on a fuel input basis rose by 2.3%, with petroleum consumption increasing as lockdown restrictions eased. On a temperature adjusted basis consumption rose by 3.9%. ● Indigenous energy production rose by 21%, boosted by strong growth in UKCS production. ● Gas exports up significantly\", \" the UK has been playing a key role in supplying gas to Europe as it looks to move away from Russian gas. ● Electricity generation by Major Power Producers (MPPs) up 15%, with coal down 27%, but gas up 14%, nuclear up 13% and renewables up 19% due to increased capacity and more favourable weather conditions. ● Gas provided 48.2% of electricity generation by MPPs, with renewables at 31.6%, nuclear at 18.4% and coal at 1.1%. ● Low carbon share of electricity generation by Major Power Producers up 1.0 percentage points to 50.0%, whilst fossil fuel share down 0.9 percentage points to 49.4%. ● Petrol prices down 6.5 pence per litre, whilst diesel prices down 2.7 pence per litre in September 2022 compared to August 2022.\\\\n\\\\nPrices Monthly petrol prices (mid month) ● Average petrol prices in September 2022 were 6.5 pence per litre lower, whilst diesel prices\\\\n\\\\npence per litre were 2.7 pence per litre lower compared to August 2022.\\\\n\\\\n2022 April\\\\n\\\\nMay\\\\n\\\\nJune\\\\n\\\\nJuly August September\\\\n\\\\nPetrol\\\\n\\\\nPetrol\\\\n\\\\n161.7\\\\n\\\\n165.2\\\\n\\\\n183.1\\\\n\\\\n188.8 173.9 167.4\\\\n\\\\nDiesel\\\\n\\\\nCrude oil prices in pounds sterling up 73% on a year earlier but down 10% on July 2022. 175.7 Prices in US dollars at the beginning of September 2022 stood at $92/barrel since when prices 179.6 have fallen to now stand at $88/barrel. 190.2 ● Domestic gas prices unchanged in August 2022 but up 96% on previous year. 197.4 ● Domestic electricity prices unchanged in August 2022 but up 54% on previous year. 185.0 ● Ofgem increased the domestic energy price cap level from 1 April 2022. 182.2 ● Industrial gas prices up 18% in August 2022 and more than double on previous year.\\\\n\\\\nAnnual growth\\\\n\\\\n+24.4%\\\\n\\\\n+33.2% ● Industrial electricity prices up 5% in August 2022 and up 34% on previous year.\\\\n\\\\nPetrol and diesel prices\\\\n\\\\nCrude oil price index\\\\n\\\\ne r t i l     r e p e c n e p     200 190 180 170 160 150 140 130 120 110 100 90 0 Sep-20  unleaded  Sep-21  derv  Sep-22  UK retail price growth  Solid fuels  Gas   Electricity   Liquid fuels  Domestic  fuels  Annual growth  2022             March  +11%  +28%  +19%  +114%  +25%  April  +13%  +95%  +54%  +114%  +70%  May  +17%  +95%  +54%  +123%  +70%  June  +22%  +95%  +54%  +129%  +70%  July August  +27% +30%  +96% +96%  +54% +54%  +114% +86%  +70% +70% \\\\n\\\\n0 0 1 = 0 1 0 2 x e d n\\\\n\\\\nI\\\\n\\\\n225  200  175  150  125  100  75  50  25  0 Aug-20  Aug-21 \\\\n\\\\nAug-22\\\\n\\\\nUK industrial price growth\\\\n\\\\nGas Electricity Annual growth 2022 March +90% +18% April +98% +50% May +81% +38% June +96% +39% July August +93% +107% +35% +34% Latest month +18% +5%\\\\n\\\\nLatest month\\\\n\\\\n+2%\\\\n\\\\n+0%\\\\n\\\\n+0%\\\\n\\\\n14%\\\\n\\\\n0%\\\\n\\\\nUK retail prices\\\\n\\\\nUK industrial prices\\\\n\\\\n275 250 225 200 175 150 125 100 75 50 25 0 Aug-20  Electricity Solid fuels  Gas Liquid fuels  Aug-21  Aug-22 \\\\n\\\\n0 0 1 = 0 1 0 2 x e d n\\\\n\\\\nI\\\\n\\\\n0 0 1 = 0 1 0 2 x e d n\\\\n\\\\nI\\\\n\\\\n350 325 300 275 250 225 200 175 150 125 100 75 50 0 Aug-20 ']\"], retrieval_context=[\"[{'page_content': 'Highlights for the 3 month period of May to July 2022 compared to the same period a year earlier: ● Primary energy consumption in the UK on a fuel input basis rose by 2.3%, with petroleum consumption increasing as lockdown restrictions eased. On a temperature adjusted basis consumption rose by 3.9%. ● Indigenous energy production rose by 21%, boosted by strong growth in UKCS production. ● Gas exports up significantly\", \" the UK has been playing a key role in supplying gas to Europe as it looks to', 'file_uuid': 'f24b58bd-a802-461b-930f-dbe0115cd4d4', 'page_numbers': None}, {'page_content': 'Simon, Stuart & Anouka cc: PS/BEIS Ministers, SPADs, Perm Sec, DGs & CSA\\\\n\\\\nPlease find attached the latest brief on monthly energy data which are published today at: https://www.gov.uk/government/statistics/energy-trends-and-prices-statistical- release-29-september-2022\\\\n\\\\nHighlights for the 3 month period May to July 2022 compared to the same period a year earlier are:', 'file_uuid': '13b0c4bd-e857-418d-8782-61d69843139d', 'page_numbers': None}, {'page_content': 'were 0.9 higher, compared to the same period a year earlier. UK primary energy consumption (Million tonnes of oil equivalent), seasonally adjusted and temperature corrected annual rates', 'file_uuid': 'f24b58bd-a802-461b-930f-dbe0115cd4d4', 'page_numbers': None}, {'page_content': 'Primary energy consumption in the UK on a fuel input basis rose by 2.3%, with petroleum consumption increasing as lockdown restrictions eased. On a temperature adjusted basis consumption rose by 3.9%.\\\\n\\\\nIndigenous energy production rose by 21%, boosted by strong growth in UKCS production.\\\\n\\\\nGas exports up significantly\", \" the UK has been playing a key role in supplying gas to Europe as it looks to move away from Russian gas.', 'file_uuid': '13b0c4bd-e857-418d-8782-61d69843139d', 'page_numbers': None}]\"], additional_metadata=None, comments=None),\n",
                     " LLMTestCase(input='How did UK energy production change in Q2 2022 compared to last year, considering coal, gas, nuclear, renewables, supply trends, and low carbon share?', actual_output='**In Q2 2022, UK energy production increased by 21% compared to the previous year.** \\n\\n- **Coal production decreased by 41%.**\\n- **Gas production increased by 56% and is now similar to pre-pandemic levels.**\\n- **Oil production increased by 7.4% but remains below pre-pandemic levels.**\\n- **Nuclear production increased by 14% despite the closure of Hunterston B power station.**\\n- **Renewables, including wind, solar, and hydro, saw a 33% increase due to capacity growth and favorable weather conditions.**\\n\\n**Low carbon energy showed growth, with both nuclear and renewable energy sources contributing to the overall increase in energy production.**\\n\\nSources: <Doc13b0c4bd-e857-418d-8782-61d69843139d> <Docf24b58bd-a802-461b-930f-dbe0115cd4d4>', expected_output='UK energy production in Q2 2022 saw increases in natural gas production by more than 50%, returning to near pre-pandemic levels. Oil production increased by 10% and remains below pre-pandemic levels. Low carbon energy also showed growth with both nuclear and wind, solar, and hydro up on last year due to more favorable conditions and increased capacity. Renewable generation rose by 12% on the same period last year, with offshore wind growing by 23%. The low carbon share of generation increased by 2.1 percentage points to 55.0%, while the fossil fuel share of generation fell by 2.1 percentage points to 41.9%.', context=[\"[' to move away from Russian gas.\\\\n\\\\n· Electricity generation by Major Power Producers (MPPs) up 15%, with coal down 27%, but gas up 14%, nuclear up 13% and renewables up 19% due to increased capacity and more favourable weather conditions.\\\\n\\\\n· Gas provided 48.2% of electricity generation by MPPs, with renewables at 31.6%, nuclear at 18.4% and coal at 1.1%.\\\\n\\\\n· Low carbon share of electricity generation by Major Power Producers up 1.0 percentage points to 50.0%, whilst fossil fuel share of electricity generation down 0.9 percentage points to 49.4%.\\\\n\\\\n· Petrol and diesel prices down 6.5 and 2.7 pence per litre respectively in September 2022 compared to August 2022.\\\\n\\\\nA reminder that we recently introduced a new dashboard for the monthly energy data, available at: https://app.powerbi.com/groups/09847724-d190-4fd9-af48- 381f7303e6f7/reports/66efcb53-a19d-454b-9bb0-fad4c5aadc0d/ReportSectiona4fd0ffc90f1c33d894f?ctid=cbac7005-02c1-43eb-b497-e6492d1b2dd8. If prompted to do so, please request access to the dashboard – this will be a one-off request and may take a few minutes to be approved. This is an early version that we will iterate over the next few months, and we welcome any comments you may have about what you would like to see. At the moment it is only available for BEIS staff (i.e. owners of an @beis e-mail account), but we are looking to make it more widely available as we develop further.\\\\n\\\\nAlso published today are the September editions of the BEIS statistical publications Energy Trends and Energy Prices which contain data for Q2 2022 (April to June). The main points to note are:\\\\n\\\\nEnergy Trends\\\\n\\\\n· UK energy production increased on last year’s record low which saw oil and gas production affected by maintenance, including the work on the Forties Pipeline System. Natural gas production increased by more than 50 per cent, returning to near pre-pandemic levels. Oil production increased by 10 per cent and remans below pre-pandemic levels. Low carbon energy also showed growth with both nuclear and wind, solar and hydro up on last year as a result of more favourable conditions and increased capacity.\\\\n\\\\n· Total final energy consumption (excluding non-energy use) was 0.2 per cent lower than in the second quarter of 2021, as warmer temperatures reduced demand and offset increased activity in the economy. Transport consumption rose by 23 per cent with petrol and diesel consumption returning to near pre-pandemic levels. Jet fuel consumption also increased but lies substantially below pre-pandemic levels. Service sector consumption fell by 3.0 per cent, whilst industrial sector energy consumption fell by 0.2 per cent. Domestic consumption fell by 28 per cent due to the warmer weather and a decrease in the amount of time working at home.\\\\n\\\\n· Exports of gas reached a new quarterly high as imports of Liquified Natural Gas (LNG) arriving in the UK helped supply Belgium and the Netherlands, with the volumes of the most recent quarterly exports exceeding many annual totals from previous years. Electricity exports also reached a new record high with the UK becoming a net exporter of electricity for the first time since 2010 as demand in France increased following reduced nuclear output in the French nuclear fleet.\\\\n\\\\n· Energy received from Russia decreased on the same quarter of last year. With no LNG cargoes arriving from Russia since March, Russia’s share of the UK’s gas imports fell from 7.6 per cent last year to 0. Russia’s share of the UK’s oil imports fell from 15.1 per cent to 3.7 per cent in second quarter of 2022.\\\\n\\\\n· Renewable generation rose 12 per cent on the same period last year due to more favourable conditions and increased capacity, particularly for wind. Renewable’s share of generation rose to 38.6 per cent, with low carbon’s share increasing 2.1 percentage points to 55.0 per cent with stronger output from nuclear. With stronger output from low carbon technologies, fossil fuel share of generation fell by 2.1 percentage points to 41.9 per cent.\\\\n\\\\n· Renewable generation capacity grew by 6.5 per cent on the same quarter last year, with offshore wind growing 23 per cent. The growth in renewable capacity has increased in recent quarters after a relatively sustained period of more modest growth. On a longer timeframe, renewable generation capacity is now six times greater than the same quarter of 2010.\\\\n\\\\nEnergy Prices\\\\n\\\\n· The consumer']\"], retrieval_context=[\"[{'page_content': 'UK energy production increased on last year’s record low which saw oil and gas production affected by maintenance, including the work on the Forties Pipeline System. Natural gas production increased by more than 50 per cent, returning to near pre-pandemic levels. Oil production increased by 10 per cent and remans below pre-pandemic levels. Low carbon energy also showed growth with both nuclear and wind, solar and hydro up on last year as a result of more favourable conditions and increased', 'file_uuid': '13b0c4bd-e857-418d-8782-61d69843139d', 'page_numbers': None}, {'page_content': 'UK energy production up 21%, boosted by strong growth in UKCS production. ● Coal production down 41%. ● Oil production up 7.4% and gas production up 56%. Oil production still remains down on pre-pandemic levels, but gas production is now similar to pre-pandemic levels. ● Bioenergy production up 1.1%. ● Nuclear production up 14% despite Hunterston B power station closing in January 2022. ● Wind, solar and hydro production up 33%, due to increased capacity and more favourable weather conditions. ●', 'file_uuid': 'f24b58bd-a802-461b-930f-dbe0115cd4d4', 'page_numbers': None}, {'page_content': 'UK energy production up 21%, boosted by strong growth in UKCS production. ● Coal production down 41%. ● Oil production up 7.4% and gas production up 56%. Oil production still remains down on pre-pandemic levels, but gas production is now similar to pre-pandemic levels. ● Bioenergy production up 1.1%. ● Nuclear production up 14% despite Hunterston B power station closing in January 2022. ● Wind, solar and hydro production up 33%, due to increased capacity and more favourable weather conditions. ●', 'file_uuid': 'f24b58bd-a802-461b-930f-dbe0115cd4d4', 'page_numbers': None}, {'page_content': 'Jul-22\\\\n\\\\n3\\\\n\\\\nElectricity generation by Major Power Producers (MPPs) Renewables\\\\n\\\\nCoal\\\\n\\\\nGas\\\\n\\\\nNuclear\\\\n\\\\nTWh ● Total electricity produced by MPPs up 15% compared\\\\n\\\\nUK production\\\\n\\\\nto a year earlier. Overall supply down 5.7%, with the UK a net\\\\n\\\\n2021 May\\\\n\\\\nJune July\\\\n\\\\n2022 May\\\\n\\\\nJune', 'file_uuid': 'f24b58bd-a802-461b-930f-dbe0115cd4d4', 'page_numbers': None}]\"], additional_metadata=None, comments=None),\n",
                     " LLMTestCase(input='How has the UK energy sector been affected by the decrease in Russian gas supply, impacting electricity sources and prices?', actual_output=\"The decrease in Russian gas supply has impacted the UK energy sector by leading to a significant reduction in Russia's share of the UK's gas and oil imports. Russia's gas imports fell from 7.6% to 0, and oil imports fell from 15.1% to 3.7% in the second quarter of 2022. The UK has been supplying gas to Europe as it moves away from Russian gas, with a notable increase in gas exports. In terms of electricity generation, gas provided 48.2%, renewables at 31.6%, nuclear at 18.4%, and coal at 1.1%. The low carbon share of electricity generation by Major Power Producers increased by 1 percentage point to 50%. \\n\\n**Sources:** <Doc13b0c4bd-e857-418d-8782-61d69843139d> <Docf24b58bd-a802-461b-930f-dbe0115cd4d4>\", expected_output=\"The decrease in Russian gas supply has led to a decrease in energy received from Russia, with no LNG cargoes arriving since March. Russia's share of the UK's gas imports fell significantly, impacting electricity sources and prices. Renewable generation has risen due to more favorable conditions and increased capacity, particularly for wind, leading to a higher share of generation from renewables and low carbon sources.\", context=[\"[' to move away from Russian gas.\\\\n\\\\n· Electricity generation by Major Power Producers (MPPs) up 15%, with coal down 27%, but gas up 14%, nuclear up 13% and renewables up 19% due to increased capacity and more favourable weather conditions.\\\\n\\\\n· Gas provided 48.2% of electricity generation by MPPs, with renewables at 31.6%, nuclear at 18.4% and coal at 1.1%.\\\\n\\\\n· Low carbon share of electricity generation by Major Power Producers up 1.0 percentage points to 50.0%, whilst fossil fuel share of electricity generation down 0.9 percentage points to 49.4%.\\\\n\\\\n· Petrol and diesel prices down 6.5 and 2.7 pence per litre respectively in September 2022 compared to August 2022.\\\\n\\\\nA reminder that we recently introduced a new dashboard for the monthly energy data, available at: https://app.powerbi.com/groups/09847724-d190-4fd9-af48- 381f7303e6f7/reports/66efcb53-a19d-454b-9bb0-fad4c5aadc0d/ReportSectiona4fd0ffc90f1c33d894f?ctid=cbac7005-02c1-43eb-b497-e6492d1b2dd8. If prompted to do so, please request access to the dashboard – this will be a one-off request and may take a few minutes to be approved. This is an early version that we will iterate over the next few months, and we welcome any comments you may have about what you would like to see. At the moment it is only available for BEIS staff (i.e. owners of an @beis e-mail account), but we are looking to make it more widely available as we develop further.\\\\n\\\\nAlso published today are the September editions of the BEIS statistical publications Energy Trends and Energy Prices which contain data for Q2 2022 (April to June). The main points to note are:\\\\n\\\\nEnergy Trends\\\\n\\\\n· UK energy production increased on last year’s record low which saw oil and gas production affected by maintenance, including the work on the Forties Pipeline System. Natural gas production increased by more than 50 per cent, returning to near pre-pandemic levels. Oil production increased by 10 per cent and remans below pre-pandemic levels. Low carbon energy also showed growth with both nuclear and wind, solar and hydro up on last year as a result of more favourable conditions and increased capacity.\\\\n\\\\n· Total final energy consumption (excluding non-energy use) was 0.2 per cent lower than in the second quarter of 2021, as warmer temperatures reduced demand and offset increased activity in the economy. Transport consumption rose by 23 per cent with petrol and diesel consumption returning to near pre-pandemic levels. Jet fuel consumption also increased but lies substantially below pre-pandemic levels. Service sector consumption fell by 3.0 per cent, whilst industrial sector energy consumption fell by 0.2 per cent. Domestic consumption fell by 28 per cent due to the warmer weather and a decrease in the amount of time working at home.\\\\n\\\\n· Exports of gas reached a new quarterly high as imports of Liquified Natural Gas (LNG) arriving in the UK helped supply Belgium and the Netherlands, with the volumes of the most recent quarterly exports exceeding many annual totals from previous years. Electricity exports also reached a new record high with the UK becoming a net exporter of electricity for the first time since 2010 as demand in France increased following reduced nuclear output in the French nuclear fleet.\\\\n\\\\n· Energy received from Russia decreased on the same quarter of last year. With no LNG cargoes arriving from Russia since March, Russia’s share of the UK’s gas imports fell from 7.6 per cent last year to 0. Russia’s share of the UK’s oil imports fell from 15.1 per cent to 3.7 per cent in second quarter of 2022.\\\\n\\\\n· Renewable generation rose 12 per cent on the same period last year due to more favourable conditions and increased capacity, particularly for wind. Renewable’s share of generation rose to 38.6 per cent, with low carbon’s share increasing 2.1 percentage points to 55.0 per cent with stronger output from nuclear. With stronger output from low carbon technologies, fossil fuel share of generation fell by 2.1 percentage points to 41.9 per cent.\\\\n\\\\n· Renewable generation capacity grew by 6.5 per cent on the same quarter last year, with offshore wind growing 23 per cent. The growth in renewable capacity has increased in recent quarters after a relatively sustained period of more modest growth. On a longer timeframe, renewable generation capacity is now six times greater than the same quarter of 2010.\\\\n\\\\nEnergy Prices\\\\n\\\\n· The consumer']\"], retrieval_context=[\"[{'page_content': 'Energy received from Russia decreased on the same quarter of last year. With no LNG cargoes arriving from Russia since March, Russia’s share of the UK’s gas imports fell from 7.6 per cent last year to 0. Russia’s share of the UK’s oil imports fell from 15.1 per cent to 3.7 per cent in second quarter of 2022.', 'file_uuid': '13b0c4bd-e857-418d-8782-61d69843139d', 'page_numbers': None}, {'page_content': '3-monthly growth\\\\n\\\\n+55.8%\\\\n\\\\n+24.8% +520.8%\\\\n\\\\n4.9%\\\\n\\\\n10142% The UK has been playing a key role in supplying gas to Europe\\\\n\\\\nas it looks to move away from Russian gas. ● Consumption down 4.9%, due to warmer weather and stronger performance from renewable generation.\\\\n\\\\nUK gas production and imports (TWh per month)\\\\n\\\\n90\\\\n\\\\n80\\\\n\\\\nProduction\\\\n\\\\nImports\\\\n\\\\n90\\\\n\\\\n80\\\\n\\\\nProduction\\\\n\\\\nImports\\\\n\\\\n70\\\\n\\\\n70\\\\n\\\\n60\\\\n\\\\n60\\\\n\\\\n50\\\\n\\\\n50\\\\n\\\\n40\\\\n\\\\n40\\\\n\\\\n30\\\\n\\\\n30\\\\n\\\\n20\\\\n\\\\n20\\\\n\\\\n10\\\\n\\\\n10\\\\n\\\\n0\\\\n\\\\n2018\\\\n\\\\n2019\\\\n\\\\n2020\\\\n\\\\n2021\\\\n\\\\n2022\\\\n\\\\n0 Jul-20\\\\n\\\\nJul-21', 'file_uuid': 'f24b58bd-a802-461b-930f-dbe0115cd4d4', 'page_numbers': None}, {'page_content': 'Primary energy consumption in the UK on a fuel input basis rose by 2.3%, with petroleum consumption increasing as lockdown restrictions eased. On a temperature adjusted basis consumption rose by 3.9%.\\\\n\\\\nIndigenous energy production rose by 21%, boosted by strong growth in UKCS production.\\\\n\\\\nGas exports up significantly\", \" the UK has been playing a key role in supplying gas to Europe as it looks to move away from Russian gas.', 'file_uuid': '13b0c4bd-e857-418d-8782-61d69843139d', 'page_numbers': None}, {'page_content': 'move away from Russian gas. ● Electricity generation by Major Power Producers (MPPs) up 15%, with coal down 27%, but gas up 14%, nuclear up 13% and renewables up 19% due to increased capacity and more favourable weather conditions. ● Gas provided 48.2% of electricity generation by MPPs, with renewables at 31.6%, nuclear at 18.4% and coal at 1.1%. ● Low carbon share of electricity generation by Major Power Producers up 1.0 percentage points to 50.0%, whilst fossil fuel share down 0.9 percentage', 'file_uuid': 'f24b58bd-a802-461b-930f-dbe0115cd4d4', 'page_numbers': None}]\"], additional_metadata=None, comments=None),\n",
                     " LLMTestCase(input=\"How has UK's energy consumption changed due to local production growth and fuel price fluctuations?\", actual_output=\"**The UK's energy consumption has been influenced by local production growth and fluctuations in fuel prices.** Primary energy consumption rose by 2.3%, with petroleum consumption increasing post-lockdown. Indigenous energy production increased by 21%, mainly due to growth in UKCS production. Gas exports also rose significantly as the UK played a key role in supplying gas to Europe. Specific changes include a 41% decrease in coal production, 7.4% increase in oil production, 56% increase in gas production, and a 1.1% rise in bioenergy production. Nuclear production went up by 14% despite the closure of Hunterston B power station. Wind, solar, and hydro energy production increased by 33%. These trends indicate a shift towards more renewable sources and reduced coal consumption.\\n\\nSources: <Doc13b0c4bd-e857-418d-8782-61d69843139d> <Docf24b58bd-a802-461b-930f-dbe0115cd4d4>\", expected_output='Primary energy consumption in the UK on a fuel input basis rose by 2.3%, with petroleum consumption increasing as lockdown restrictions eased. On a temperature adjusted basis consumption rose by 3.9%. Indigenous energy production rose by 21%, boosted by strong growth in UKCS production. Domestic gas prices unchanged in August 2022 but up 96% on previous year. Domestic electricity prices unchanged in August 2022 but up 54% on previous year.', context=[\"[' Electricity  Gas  Aug-21 \\\\n\\\\nAug-22\\\\n\\\\n1\\\\n\\\\nIndigenous energy production\\\\n\\\\nmillion tonnes of oil equivalent\\\\n\\\\nPrimary electricity Total Coal Oil Gas Bioenergy Nuclear Wind, Solar & Hydro 8.1 6.7 7.8 0.1 0.1 0.1 3.5 2.8 3.6 2.2 1.5 2.1 1.0 1.0 0.9 0.8 0.9 0.8 0.6 0.5 0.4 9.4 8.7 9.1 0.1 0.0 0.0 3.6 3.3 3.8 3.2 2.9 2.9 0.9 0.9 1.0 0.9 1.0 0.8 0.7 0.6 0.5\\\\n\\\\n2021 May\\\\n\\\\nJune\\\\n\\\\nJuly\\\\n\\\\n2022 May\\\\n\\\\nJune July\\\\n\\\\n3-monthly growth\\\\n\\\\n+20.9%\\\\n\\\\n40.9%\\\\n\\\\n+7.4%\\\\n\\\\n+55.6%\\\\n\\\\n+1.1%\\\\n\\\\n+13.8%\\\\n\\\\n+33.1%\\\\n\\\\nUK energy production up 21%, boosted by strong growth in UKCS production. ● Coal production down 41%. ● Oil production up 7.4% and gas production up 56%. Oil production still remains down on pre-pandemic levels, but gas production is now similar to pre-pandemic levels. ● Bioenergy production up 1.1%. ● Nuclear production up 14% despite Hunterston B power station closing in January 2022. ● Wind, solar and hydro production up 33%, due to increased capacity and more favourable weather conditions. ● Primary production of low carbon energy up 12%.\\\\n\\\\nOverall primary energy consumption: fuel input basis\\\\n\\\\nTotal Unadjusted million tonnes of oil equivalent Seasonally adj & temp corrected annual rates Total Coal Petroleum Gas Temperature average degrees C deviation from mean Wind Speeds average knots deviation from mean 13.5 173.9 6.8 54.8 75.6 10.1 -1.7 7.6 11.3 166.7 6.7 54.7 66.3 15.4 +0.8 7.0 11.3 169.3 6.8 53.7 73.2 17.6 +1.0 5.6 12.9 177.4 5.9 62.5 74.2 13.0 +1.2 8.5 11.9 12.2 172.5 179.9 5.3 6.2 62.3 63.0 68.8 73.8 15.1 18.2 +0.5 +1.5 8.1 7.3 -0.8 -0.7 -1.9 +0.1 +0.3 -0.2\\\\n\\\\n2021 May\\\\n\\\\nJune\\\\n\\\\nJuly\\\\n\\\\n2022 May\\\\n\\\\nJune July\\\\n\\\\n3-monthly growth\\\\n\\\\n+2.3%\\\\n\\\\n+3.9%\\\\n\\\\n14.3%\\\\n\\\\n+15.1%\\\\n\\\\n+0.8%\\\\n\\\\nPrimary energy consumption rose by 2.3% in the last 3 months compared to a year earlier, with petroleum consumption increasing as lockdown restrictions eased. Petroleum consumption still remains lower than usual due to reduced aviation fuel sales. Allowing for seasonal variation and temperature, consumption in the last 3 months rose by 3.9% compared to the same period a year earlier. ● In the last 3 months the temperature was 1.1 degrees warmer, wind speeds were 1.2 knots higher and sun hours were 0.9 higher, compared to the same period a year earlier.\\\\n\\\\nUK energy production (Million tonnes of oil equivalent).\\\\n\\\\nUK primary energy consumption (Million tonnes of oil equivalent), seasonally adjusted and temperature corrected annual rates\\\\n\\\\n13  12  11  10  9  8  7  6  0 5  2018  2019  2020  2021  2022 \\\\n\\\\n210  200  190  180  170  160  150  140  130 0  2018  2019  2020  2021  2022 \\\\n\\\\n2\\\\n\\\\nCrude oil & NGL supply\\\\n\\\\nthousand tonnes Refinery intake\\\\n\\\\n2021 May June July 2022 May June July UK production 3,250 2,594 3,301 3,338 3,026 3,463 Imports 3,624 3,092 3,595 3,729 3,165 3,596 Exports 2,235 2,053 2,439 2,671 2,021 2,292 4,655 4,079 4,590 4,687 4,374 4,699 3-monthly growth +7.5% +1.7% +3.8% +3.3%\\\\n\\\\nUK production of crude oil and NGLs up 7.5% on a year earlier, with output still low compared', 'BEIS - Monthly energy statistics briefing note\\\\n\\\\nSeptember 2022\\\\n\\\\nHighlights for the 3 month period of May to July 2022 compared to the same period a year earlier: ● Primary energy consumption in the UK on a fuel input basis rose by 2.3%, with petroleum consumption increasing as lockdown restrictions eased. On a temperature adjusted basis consumption rose by 3.9%. ● Indigenous energy production rose by 21%, boosted by strong growth in UKCS production. ● Gas exports up significantly\", \" the UK has been playing a key role in supplying gas to Europe as it looks to move away from Russian gas. ● Electricity generation by Major Power Producers (MPPs) up 15%, with coal down 27%, but gas up 14%, nuclear up 13% and renewables up 19% due to increased capacity and more favourable weather conditions. ● Gas provided 48.2% of electricity generation by MPPs, with renewables at 31.6%, nuclear at 18.4% and coal at 1.1%. ● Low carbon share of electricity generation by Major Power Producers up 1.0 percentage points to 50.0%, whilst fossil fuel share down 0.9 percentage points to 49.4%. ● Petrol prices down 6.5 pence per litre, whilst diesel prices down 2.7 pence per litre in September 2022 compared to August 2022.\\\\n\\\\nPrices Monthly petrol prices (mid month) ● Average petrol prices in September 2022 were 6.5 pence per litre lower, whilst diesel prices\\\\n\\\\npence per litre were 2.7 pence per litre lower compared to August 2022.\\\\n\\\\n2022 April\\\\n\\\\nMay\\\\n\\\\nJune\\\\n\\\\nJuly August September\\\\n\\\\nPetrol\\\\n\\\\nPetrol\\\\n\\\\n161.7\\\\n\\\\n165.2\\\\n\\\\n183.1\\\\n\\\\n188.8 173.9 167.4\\\\n\\\\nDiesel\\\\n\\\\nCrude oil prices in pounds sterling up 73% on a year earlier but down 10% on July 2022. 175.7 Prices in US dollars at the beginning of September 2022 stood at $92/barrel since when prices 179.6 have fallen to now stand at $88/barrel. 190.2 ● Domestic gas prices unchanged in August 2022 but up 96% on previous year. 197.4 ● Domestic electricity prices unchanged in August 2022 but up 54% on previous year. 185.0 ● Ofgem increased the domestic energy price cap level from 1 April 2022. 182.2 ● Industrial gas prices up 18% in August 2022 and more than double on previous year.\\\\n\\\\nAnnual growth\\\\n\\\\n+24.4%\\\\n\\\\n+33.2% ● Industrial electricity prices up 5% in August 2022 and up 34% on previous year.\\\\n\\\\nPetrol and diesel prices\\\\n\\\\nCrude oil price index\\\\n\\\\ne r t i l     r e p e c n e p     200 190 180 170 160 150 140 130 120 110 100 90 0 Sep-20  unleaded  Sep-21  derv  Sep-22  UK retail price growth  Solid fuels  Gas   Electricity   Liquid fuels  Domestic  fuels  Annual growth  2022             March  +11%  +28%  +19%  +114%  +25%  April  +13%  +95%  +54%  +114%  +70%  May  +17%  +95%  +54%  +123%  +70%  June  +22%  +95%  +54%  +129%  +70%  July August  +27% +30%  +96% +96%  +54% +54%  +114% +86%  +70% +70% \\\\n\\\\n0 0 1 = 0 1 0 2 x e d n\\\\n\\\\nI\\\\n\\\\n225  200  175  150  125  100  75  50  25  0 Aug-20  Aug-21 \\\\n\\\\nAug-22\\\\n\\\\nUK industrial price growth\\\\n\\\\nGas Electricity Annual growth 2022 March +90% +18% April +98% +50% May +81% +38% June +96% +39% July August +93% +107% +35% +34% Latest month +18% +5%\\\\n\\\\nLatest month\\\\n\\\\n+2%\\\\n\\\\n+0%\\\\n\\\\n+0%\\\\n\\\\n14%\\\\n\\\\n0%\\\\n\\\\nUK retail prices\\\\n\\\\nUK industrial prices\\\\n\\\\n275 250 225 200 175 150 125 100 75 50 25 0 Aug-20  Electricity Solid fuels  Gas Liquid fuels  Aug-21  Aug-22 \\\\n\\\\n0 0 1 = 0 1 0 2 x e d n\\\\n\\\\nI\\\\n\\\\n0 0 1 = 0 1 0 2 x e d n\\\\n\\\\nI\\\\n\\\\n350 325 300 275 250 225 200 175 150 125 100 75 50 0 Aug-20 ']\"], retrieval_context=[\"[{'page_content': 'Primary energy consumption in the UK on a fuel input basis rose by 2.3%, with petroleum consumption increasing as lockdown restrictions eased. On a temperature adjusted basis consumption rose by 3.9%.\\\\n\\\\nIndigenous energy production rose by 21%, boosted by strong growth in UKCS production.\\\\n\\\\nGas exports up significantly\", \" the UK has been playing a key role in supplying gas to Europe as it looks to move away from Russian gas.', 'file_uuid': '13b0c4bd-e857-418d-8782-61d69843139d', 'page_numbers': None}, {'page_content': 'Highlights for the 3 month period of May to July 2022 compared to the same period a year earlier: ● Primary energy consumption in the UK on a fuel input basis rose by 2.3%, with petroleum consumption increasing as lockdown restrictions eased. On a temperature adjusted basis consumption rose by 3.9%. ● Indigenous energy production rose by 21%, boosted by strong growth in UKCS production. ● Gas exports up significantly\", \" the UK has been playing a key role in supplying gas to Europe as it looks to', 'file_uuid': 'f24b58bd-a802-461b-930f-dbe0115cd4d4', 'page_numbers': None}, {'page_content': 'were 0.9 higher, compared to the same period a year earlier. UK primary energy consumption (Million tonnes of oil equivalent), seasonally adjusted and temperature corrected annual rates', 'file_uuid': 'f24b58bd-a802-461b-930f-dbe0115cd4d4', 'page_numbers': None}, {'page_content': 'UK energy production up 21%, boosted by strong growth in UKCS production. ● Coal production down 41%. ● Oil production up 7.4% and gas production up 56%. Oil production still remains down on pre-pandemic levels, but gas production is now similar to pre-pandemic levels. ● Bioenergy production up 1.1%. ● Nuclear production up 14% despite Hunterston B power station closing in January 2022. ● Wind, solar and hydro production up 33%, due to increased capacity and more favourable weather conditions. ●', 'file_uuid': 'f24b58bd-a802-461b-930f-dbe0115cd4d4', 'page_numbers': None}]\"], additional_metadata=None, comments=None)]"
                  ]
               },
               "execution_count": 20,
               "metadata": {},
               "output_type": "execute_result"
            }
         ],
         "source": [
            "dataset.test_cases"
         ]
      },
      {
         "cell_type": "markdown",
         "metadata": {},
         "source": [
            "#### Evaluation"
         ]
      },
      {
         "cell_type": "code",
         "execution_count": 21,
         "metadata": {},
         "outputs": [
            {
               "data": {
                  "application/vnd.jupyter.widget-view+json": {
                     "model_id": "d278d1e928734a0495f9c666eb3b097e",
                     "version_major": 2,
                     "version_minor": 0
                  },
                  "text/plain": [
                     "Output()"
                  ]
               },
               "metadata": {},
               "output_type": "display_data"
            },
            {
               "name": "stdout",
               "output_type": "stream",
               "text": [
                  "Evaluating test cases...\n",
                  "Event loop is already running. Applying nest_asyncio patch to allow async execution...\n"
               ]
            },
            {
               "name": "stderr",
               "output_type": "stream",
               "text": [
                  "INFO:httpx:HTTP Request: POST https://api.openai.com/v1/chat/completions \"HTTP/1.1 200 OK\"\n",
                  "INFO:httpx:HTTP Request: POST https://api.openai.com/v1/chat/completions \"HTTP/1.1 200 OK\"\n",
                  "INFO:httpx:HTTP Request: POST https://api.openai.com/v1/chat/completions \"HTTP/1.1 200 OK\"\n"
               ]
            },
            {
               "name": "stderr",
               "output_type": "stream",
               "text": [
                  "INFO:httpx:HTTP Request: POST https://api.openai.com/v1/chat/completions \"HTTP/1.1 200 OK\"\n"
               ]
            },
            {
               "name": "stderr",
               "output_type": "stream",
               "text": [
                  "INFO:httpx:HTTP Request: POST https://api.openai.com/v1/chat/completions \"HTTP/1.1 200 OK\"\n"
               ]
            },
            {
               "name": "stderr",
               "output_type": "stream",
               "text": [
                  "INFO:httpx:HTTP Request: POST https://api.openai.com/v1/chat/completions \"HTTP/1.1 200 OK\"\n"
               ]
            },
            {
               "name": "stderr",
               "output_type": "stream",
               "text": [
                  "INFO:httpx:HTTP Request: POST https://api.openai.com/v1/chat/completions \"HTTP/1.1 200 OK\"\n"
               ]
            },
            {
               "name": "stderr",
               "output_type": "stream",
               "text": [
                  "INFO:httpx:HTTP Request: POST https://api.openai.com/v1/chat/completions \"HTTP/1.1 200 OK\"\n",
                  "INFO:httpx:HTTP Request: POST https://api.openai.com/v1/chat/completions \"HTTP/1.1 200 OK\"\n"
               ]
            },
            {
               "name": "stderr",
               "output_type": "stream",
               "text": [
                  "INFO:httpx:HTTP Request: POST https://api.openai.com/v1/chat/completions \"HTTP/1.1 200 OK\"\n"
               ]
            },
            {
               "name": "stderr",
               "output_type": "stream",
               "text": [
                  "INFO:httpx:HTTP Request: POST https://api.openai.com/v1/chat/completions \"HTTP/1.1 200 OK\"\n"
               ]
            },
            {
               "name": "stderr",
               "output_type": "stream",
               "text": [
                  "INFO:httpx:HTTP Request: POST https://api.openai.com/v1/chat/completions \"HTTP/1.1 200 OK\"\n"
               ]
            },
            {
               "name": "stderr",
               "output_type": "stream",
               "text": [
                  "INFO:httpx:HTTP Request: POST https://api.openai.com/v1/chat/completions \"HTTP/1.1 200 OK\"\n"
               ]
            },
            {
               "name": "stderr",
               "output_type": "stream",
               "text": [
                  "INFO:httpx:HTTP Request: POST https://api.openai.com/v1/chat/completions \"HTTP/1.1 200 OK\"\n"
               ]
            },
            {
               "name": "stderr",
               "output_type": "stream",
               "text": [
                  "INFO:httpx:HTTP Request: POST https://api.openai.com/v1/chat/completions \"HTTP/1.1 200 OK\"\n"
               ]
            },
            {
               "name": "stderr",
               "output_type": "stream",
               "text": [
                  "INFO:httpx:HTTP Request: POST https://api.openai.com/v1/chat/completions \"HTTP/1.1 200 OK\"\n"
               ]
            }
         ],
         "source": [
            "eval_results = evaluate(\n",
            "    test_cases=dataset,\n",
            "    metrics=[\n",
            "        contextual_precision,\n",
            "        contextual_recall,\n",
            "        contextual_relevancy,\n",
            "        answer_relevancy,\n",
            "        faithfulness,\n",
            "        hallucination\n",
            "    ]\n",
            ")"
         ]
      },
      {
         "cell_type": "markdown",
         "metadata": {},
         "source": [
            "#### Save evaluation results"
         ]
      },
      {
         "cell_type": "code",
         "execution_count": null,
         "metadata": {},
         "outputs": [],
         "source": [
            "with open(f\"{V_RESULTS}/{EXPERIMENT_NAME}_generation_eval_results\", \"wb\") as f:\n",
            "    pickle.dump(eval_results, f)"
         ]
      },
      {
         "cell_type": "code",
         "execution_count": null,
         "metadata": {},
         "outputs": [],
         "source": [
            "with open(f\"{V_RESULTS}/{EXPERIMENT_NAME}_generation_eval_results\", \"rb\") as f:\n",
            "    eval_results = pickle.load(f)"
         ]
      },
      {
         "cell_type": "markdown",
         "metadata": {},
         "source": [
            "-------"
         ]
      },
      {
         "cell_type": "markdown",
         "metadata": {},
         "source": [
            "## Analyse baseline evaluation results <a id=\"analysis\"></a>"
         ]
      },
      {
         "cell_type": "code",
         "execution_count": null,
         "metadata": {},
         "outputs": [
            {
               "data": {
                  "text/html": [
                     "<div>\n",
                     "<style scoped>\n",
                     "    .dataframe tbody tr th:only-of-type {\n",
                     "        vertical-align: middle;\n",
                     "    }\n",
                     "\n",
                     "    .dataframe tbody tr th {\n",
                     "        vertical-align: top;\n",
                     "    }\n",
                     "\n",
                     "    .dataframe thead th {\n",
                     "        text-align: right;\n",
                     "    }\n",
                     "</style>\n",
                     "<table border=\"1\" class=\"dataframe\">\n",
                     "  <thead>\n",
                     "    <tr style=\"text-align: right;\">\n",
                     "      <th></th>\n",
                     "      <th>metrics</th>\n",
                     "      <th>input</th>\n",
                     "      <th>actual_output</th>\n",
                     "      <th>expected_output</th>\n",
                     "      <th>context</th>\n",
                     "      <th>retrieval_context</th>\n",
                     "      <th>metric_name</th>\n",
                     "      <th>score</th>\n",
                     "      <th>reason</th>\n",
                     "      <th>metric_type</th>\n",
                     "    </tr>\n",
                     "  </thead>\n",
                     "  <tbody>\n",
                     "    <tr>\n",
                     "      <th>0</th>\n",
                     "      <td>&lt;deepeval.metrics.contextual_precision.context...</td>\n",
                     "      <td>How has the UK's role in supplying gas to Euro...</td>\n",
                     "      <td>- The UK's role in supplying gas to Europe has...</td>\n",
                     "      <td>The UK has been playing a key role in supplyin...</td>\n",
                     "      <td>[['BEIS - Monthly energy statistics briefing n...</td>\n",
                     "      <td>[[{'page_content': '3-monthly growth\\n\\n+55.8%...</td>\n",
                     "      <td>Contextual Precision</td>\n",
                     "      <td>1.0</td>\n",
                     "      <td>The score is 1.00 because all the relevant nod...</td>\n",
                     "      <td>retrieval</td>\n",
                     "    </tr>\n",
                     "    <tr>\n",
                     "      <th>1</th>\n",
                     "      <td>&lt;deepeval.metrics.contextual_recall.contextual...</td>\n",
                     "      <td>How has the UK's role in supplying gas to Euro...</td>\n",
                     "      <td>- The UK's role in supplying gas to Europe has...</td>\n",
                     "      <td>The UK has been playing a key role in supplyin...</td>\n",
                     "      <td>[['BEIS - Monthly energy statistics briefing n...</td>\n",
                     "      <td>[[{'page_content': '3-monthly growth\\n\\n+55.8%...</td>\n",
                     "      <td>Contextual Recall</td>\n",
                     "      <td>1.0</td>\n",
                     "      <td>The score is 1.00 because the nodes in the ret...</td>\n",
                     "      <td>retrieval</td>\n",
                     "    </tr>\n",
                     "    <tr>\n",
                     "      <th>2</th>\n",
                     "      <td>&lt;deepeval.metrics.contextual_relevancy.context...</td>\n",
                     "      <td>How has the UK's role in supplying gas to Euro...</td>\n",
                     "      <td>- The UK's role in supplying gas to Europe has...</td>\n",
                     "      <td>The UK has been playing a key role in supplyin...</td>\n",
                     "      <td>[['BEIS - Monthly energy statistics briefing n...</td>\n",
                     "      <td>[[{'page_content': '3-monthly growth\\n\\n+55.8%...</td>\n",
                     "      <td>Contextual Relevancy</td>\n",
                     "      <td>1.0</td>\n",
                     "      <td>The score is 1.00 because there are no reasons...</td>\n",
                     "      <td>retrieval</td>\n",
                     "    </tr>\n",
                     "    <tr>\n",
                     "      <th>3</th>\n",
                     "      <td>&lt;deepeval.metrics.answer_relevancy.answer_rele...</td>\n",
                     "      <td>How has the UK's role in supplying gas to Euro...</td>\n",
                     "      <td>- The UK's role in supplying gas to Europe has...</td>\n",
                     "      <td>The UK has been playing a key role in supplyin...</td>\n",
                     "      <td>[['BEIS - Monthly energy statistics briefing n...</td>\n",
                     "      <td>[[{'page_content': '3-monthly growth\\n\\n+55.8%...</td>\n",
                     "      <td>Answer Relevancy</td>\n",
                     "      <td>1.0</td>\n",
                     "      <td>The score is 1.00 because the answer perfectly...</td>\n",
                     "      <td>generation</td>\n",
                     "    </tr>\n",
                     "    <tr>\n",
                     "      <th>4</th>\n",
                     "      <td>&lt;deepeval.metrics.faithfulness.faithfulness.Fa...</td>\n",
                     "      <td>How has the UK's role in supplying gas to Euro...</td>\n",
                     "      <td>- The UK's role in supplying gas to Europe has...</td>\n",
                     "      <td>The UK has been playing a key role in supplyin...</td>\n",
                     "      <td>[['BEIS - Monthly energy statistics briefing n...</td>\n",
                     "      <td>[[{'page_content': '3-monthly growth\\n\\n+55.8%...</td>\n",
                     "      <td>Faithfulness</td>\n",
                     "      <td>1.0</td>\n",
                     "      <td>The score is 1.00 because there are no contrad...</td>\n",
                     "      <td>generation</td>\n",
                     "    </tr>\n",
                     "  </tbody>\n",
                     "</table>\n",
                     "</div>"
                  ],
                  "text/plain": [
                     "                                             metrics  \\\n",
                     "0  <deepeval.metrics.contextual_precision.context...   \n",
                     "1  <deepeval.metrics.contextual_recall.contextual...   \n",
                     "2  <deepeval.metrics.contextual_relevancy.context...   \n",
                     "3  <deepeval.metrics.answer_relevancy.answer_rele...   \n",
                     "4  <deepeval.metrics.faithfulness.faithfulness.Fa...   \n",
                     "\n",
                     "                                               input  \\\n",
                     "0  How has the UK's role in supplying gas to Euro...   \n",
                     "1  How has the UK's role in supplying gas to Euro...   \n",
                     "2  How has the UK's role in supplying gas to Euro...   \n",
                     "3  How has the UK's role in supplying gas to Euro...   \n",
                     "4  How has the UK's role in supplying gas to Euro...   \n",
                     "\n",
                     "                                       actual_output  \\\n",
                     "0  - The UK's role in supplying gas to Europe has...   \n",
                     "1  - The UK's role in supplying gas to Europe has...   \n",
                     "2  - The UK's role in supplying gas to Europe has...   \n",
                     "3  - The UK's role in supplying gas to Europe has...   \n",
                     "4  - The UK's role in supplying gas to Europe has...   \n",
                     "\n",
                     "                                     expected_output  \\\n",
                     "0  The UK has been playing a key role in supplyin...   \n",
                     "1  The UK has been playing a key role in supplyin...   \n",
                     "2  The UK has been playing a key role in supplyin...   \n",
                     "3  The UK has been playing a key role in supplyin...   \n",
                     "4  The UK has been playing a key role in supplyin...   \n",
                     "\n",
                     "                                             context  \\\n",
                     "0  [['BEIS - Monthly energy statistics briefing n...   \n",
                     "1  [['BEIS - Monthly energy statistics briefing n...   \n",
                     "2  [['BEIS - Monthly energy statistics briefing n...   \n",
                     "3  [['BEIS - Monthly energy statistics briefing n...   \n",
                     "4  [['BEIS - Monthly energy statistics briefing n...   \n",
                     "\n",
                     "                                   retrieval_context           metric_name  \\\n",
                     "0  [[{'page_content': '3-monthly growth\\n\\n+55.8%...  Contextual Precision   \n",
                     "1  [[{'page_content': '3-monthly growth\\n\\n+55.8%...     Contextual Recall   \n",
                     "2  [[{'page_content': '3-monthly growth\\n\\n+55.8%...  Contextual Relevancy   \n",
                     "3  [[{'page_content': '3-monthly growth\\n\\n+55.8%...      Answer Relevancy   \n",
                     "4  [[{'page_content': '3-monthly growth\\n\\n+55.8%...          Faithfulness   \n",
                     "\n",
                     "   score                                             reason metric_type  \n",
                     "0    1.0  The score is 1.00 because all the relevant nod...   retrieval  \n",
                     "1    1.0  The score is 1.00 because the nodes in the ret...   retrieval  \n",
                     "2    1.0  The score is 1.00 because there are no reasons...   retrieval  \n",
                     "3    1.0  The score is 1.00 because the answer perfectly...  generation  \n",
                     "4    1.0  The score is 1.00 because there are no contrad...  generation  "
                  ]
               },
               "metadata": {},
               "output_type": "display_data"
            }
         ],
         "source": [
            "metric_type = {\n",
            "    \"metric_name\": [\"Contextual Precision\", \"Contextual Recall\", \"Contextual Relevancy\", \"Answer Relevancy\", \"Faithfulness\", \"Hallucination\"],\n",
            "    \"metric_type\": [\"retrieval\", \"retrieval\", \"retrieval\", \"generation\", \"generation\", \"generation\"]\n",
            "}\n",
            "\n",
            "evaluation = (\n",
            "    pd.DataFrame.from_records(\n",
            "        asdict(result) for result in eval_results\n",
            "    )\n",
            "    .explode(\"metrics\")\n",
            "    .reset_index(drop=True)\n",
            "    .assign(\n",
            "        metric_name = lambda df: df.metrics.apply(getattr, args=[\"__name__\"]),\n",
            "        score = lambda df: df.metrics.apply(getattr, args=[\"score\"]),\n",
            "        reason = lambda df: df.metrics.apply(getattr, args=[\"reason\"])\n",
            "    )\n",
            "    .merge(\n",
            "        pd.DataFrame(metric_type),\n",
            "        on=\"metric_name\"\n",
            "    )\n",
            "    .drop(columns=[\"success\"])\n",
            ")\n",
            "\n",
            "evaluation.to_csv(f\"{V_RESULTS}/{EXPERIMENT_NAME}_generation_eval_results.csv\", index=False)\n",
            "evaluation.head()"
         ]
      },
      {
         "cell_type": "markdown",
         "metadata": {},
         "source": [
            "#### Baseline aggregated view for current Redbox RAG chat core API endpoint"
         ]
      },
      {
         "cell_type": "code",
         "execution_count": null,
         "metadata": {},
         "outputs": [
            {
               "data": {
                  "text/html": [
                     "<div>\n",
                     "<style scoped>\n",
                     "    .dataframe tbody tr th:only-of-type {\n",
                     "        vertical-align: middle;\n",
                     "    }\n",
                     "\n",
                     "    .dataframe tbody tr th {\n",
                     "        vertical-align: top;\n",
                     "    }\n",
                     "\n",
                     "    .dataframe thead th {\n",
                     "        text-align: right;\n",
                     "    }\n",
                     "</style>\n",
                     "<table border=\"1\" class=\"dataframe\">\n",
                     "  <thead>\n",
                     "    <tr style=\"text-align: right;\">\n",
                     "      <th></th>\n",
                     "      <th></th>\n",
                     "      <th>score</th>\n",
                     "    </tr>\n",
                     "    <tr>\n",
                     "      <th>metric_name</th>\n",
                     "      <th>metric_type</th>\n",
                     "      <th></th>\n",
                     "    </tr>\n",
                     "  </thead>\n",
                     "  <tbody>\n",
                     "    <tr>\n",
                     "      <th>Answer Relevancy</th>\n",
                     "      <th>generation</th>\n",
                     "      <td>0.790952</td>\n",
                     "    </tr>\n",
                     "    <tr>\n",
                     "      <th>Contextual Precision</th>\n",
                     "      <th>retrieval</th>\n",
                     "      <td>0.733333</td>\n",
                     "    </tr>\n",
                     "    <tr>\n",
                     "      <th>Contextual Recall</th>\n",
                     "      <th>retrieval</th>\n",
                     "      <td>0.828333</td>\n",
                     "    </tr>\n",
                     "    <tr>\n",
                     "      <th>Contextual Relevancy</th>\n",
                     "      <th>retrieval</th>\n",
                     "      <td>0.766667</td>\n",
                     "    </tr>\n",
                     "    <tr>\n",
                     "      <th>Faithfulness</th>\n",
                     "      <th>generation</th>\n",
                     "      <td>0.935985</td>\n",
                     "    </tr>\n",
                     "    <tr>\n",
                     "      <th>Hallucination</th>\n",
                     "      <th>generation</th>\n",
                     "      <td>0.370000</td>\n",
                     "    </tr>\n",
                     "  </tbody>\n",
                     "</table>\n",
                     "</div>"
                  ],
                  "text/plain": [
                     "                                     score\n",
                     "metric_name          metric_type          \n",
                     "Answer Relevancy     generation   0.790952\n",
                     "Contextual Precision retrieval    0.733333\n",
                     "Contextual Recall    retrieval    0.828333\n",
                     "Contextual Relevancy retrieval    0.766667\n",
                     "Faithfulness         generation   0.935985\n",
                     "Hallucination        generation   0.370000"
                  ]
               },
               "metadata": {},
               "output_type": "display_data"
            }
         ],
         "source": [
            "(\n",
            "    baseline\n",
            "    .groupby([\"metric_name\", \"metric_type\"])\n",
            "    .mean(\"score\")\n",
            ")"
         ]
      },
      {
         "cell_type": "markdown",
         "metadata": {},
         "source": [
            "[Back to top](#title)"
         ]
      },
      {
         "cell_type": "markdown",
         "metadata": {},
         "source": [
            "-----------"
         ]
      },
      {
         "cell_type": "markdown",
         "metadata": {},
         "source": [
            "#### Retrieval Evaluation\n",
            "Separate retrieval and generation evaluation results, as retrieval evalation can take some time"
         ]
      },
      {
         "cell_type": "code",
         "execution_count": null,
         "metadata": {},
         "outputs": [],
         "source": [
            "retrieval_eval_results = evaluate(\n",
            "    test_cases=dataset,\n",
            "    metrics=[\n",
            "        contextual_precision,\n",
            "        contextual_recall,\n",
            "        contextual_relevancy,\n",
            "    ]\n",
            ")"
         ]
      },
      {
         "cell_type": "markdown",
         "metadata": {},
         "source": [
            "#### Save retrieval evaluation results"
         ]
      },
      {
         "cell_type": "code",
         "execution_count": null,
         "metadata": {},
         "outputs": [],
         "source": [
            "import pickle \n",
            "with open(f'{V_RESULTS}/{EXPERIMENT_NAME}_retrieval_eval_results_v{DATA_VERSION}', 'wb') as f:\n",
            "    pickle.dump(retrieval_eval_results, f)"
         ]
      },
      {
         "cell_type": "code",
         "execution_count": null,
         "metadata": {},
         "outputs": [],
         "source": [
            "with open(f'{V_RESULTS}/{EXPERIMENT_NAME}_retrieval_eval_results_v{DATA_VERSION}', 'rb') as f:\n",
            "    retrieval_eval_results = pickle.load(f)"
         ]
      },
      {
         "cell_type": "markdown",
         "metadata": {},
         "source": [
            "#### Generation Evaluation"
         ]
      },
      {
         "cell_type": "code",
         "execution_count": null,
         "metadata": {},
         "outputs": [],
         "source": [
            "generation_eval_results = evaluate(\n",
            "    test_cases=dataset,\n",
            "    metrics=[\n",
            "        answer_relevancy,\n",
            "        faithfulness,\n",
            "        hallucination\n",
            "    ]\n",
            ")"
         ]
      },
      {
         "cell_type": "markdown",
         "metadata": {},
         "source": [
            "#### Save generation evaluation results"
         ]
      },
      {
         "cell_type": "code",
         "execution_count": null,
         "metadata": {},
         "outputs": [],
         "source": [
            "import pickle \n",
            "with open(f'{V_RESULTS}/{EXPERIMENT_NAME}_generation_eval_results_v{DATA_VERSION}', 'wb') as f:\n",
            "    pickle.dump(generation_eval_results, f)"
         ]
      },
      {
         "cell_type": "code",
         "execution_count": null,
         "metadata": {},
         "outputs": [],
         "source": [
            "with open(f'{V_RESULTS}/{EXPERIMENT_NAME}_generation_eval_results_v{DATA_VERSION}', 'rb') as f:\n",
            "    generation_eval_results = pickle.load(f)"
         ]
      },
      {
         "cell_type": "markdown",
         "metadata": {},
         "source": [
            "[Back to top](#title)"
         ]
      },
      {
         "cell_type": "markdown",
         "metadata": {},
         "source": [
            "---------------"
         ]
      },
      {
         "cell_type": "markdown",
         "metadata": {},
         "source": [
            "## Analyse evaluation results <a id=\"analysis\"></a>"
         ]
      },
      {
         "cell_type": "markdown",
         "metadata": {},
         "source": [
            "#### Retrieval Evaluation Results"
         ]
      },
      {
         "cell_type": "code",
         "execution_count": null,
         "metadata": {},
         "outputs": [],
         "source": [
            "from dataclasses import asdict\n",
            "import pandas as pd\n",
            "\n",
            "retrieval_eval_metrics = (\n",
            "    pd.DataFrame.from_records(\n",
            "        asdict(result) for result in retrieval_eval_results\n",
            "    )\n",
            "    .explode(\"metrics\")\n",
            "    .reset_index(drop=True)\n",
            "    .assign(\n",
            "        metric_name = lambda df: df.metrics.apply(getattr, args=[\"__name__\"]),\n",
            "        score = lambda df: df.metrics.apply(getattr, args=[\"score\"]),\n",
            "        reason = lambda df: df.metrics.apply(getattr, args=[\"reason\"])\n",
            "    )\n",
            "    .drop(columns=['success'])\n",
            ")\n",
            "\n",
            "retrieval_eval_metrics.to_csv(f'{V_RESULTS}/{EXPERIMENT_NAME}_retrieval_eval_results_v{DATA_VERSION}.csv', index=False)\n",
            "retrieval_eval_metrics.head()"
         ]
      },
      {
         "cell_type": "markdown",
         "metadata": {},
         "source": [
            "#### Generation Evaluation Results"
         ]
      },
      {
         "cell_type": "code",
         "execution_count": null,
         "metadata": {},
         "outputs": [],
         "source": [
            "from dataclasses import asdict\n",
            "import pandas as pd\n",
            "\n",
            "generation_eval_metrics = (\n",
            "    pd.DataFrame.from_records(\n",
            "        asdict(result) for result in generation_eval_results\n",
            "    )\n",
            "    .explode(\"metrics\")\n",
            "    .reset_index(drop=True)\n",
            "    .assign(\n",
            "        metric_name = lambda df: df.metrics.apply(getattr, args=[\"__name__\"]),\n",
            "        score = lambda df: df.metrics.apply(getattr, args=[\"score\"]),\n",
            "        reason = lambda df: df.metrics.apply(getattr, args=[\"reason\"])\n",
            "    )\n",
            "    .drop(columns=['success'])\n",
            ")\n",
            "\n",
            "generation_eval_metrics.to_csv(f'{V_RESULTS}/{EXPERIMENT_NAME}_generation_eval_results_v{DATA_VERSION}.csv', index=False)\n",
            "generation_eval_metrics.head()"
         ]
      },
      {
         "cell_type": "markdown",
         "metadata": {},
         "source": [
            "#### Initial aggregated view"
         ]
      },
      {
         "cell_type": "code",
         "execution_count": null,
         "metadata": {},
         "outputs": [],
         "source": [
            "(\n",
            "    retrieval_eval_metrics\n",
            "    .groupby(\"metric_name\")\n",
            "    .mean(\"score\")\n",
            ")"
         ]
      },
      {
         "cell_type": "code",
         "execution_count": null,
         "metadata": {},
         "outputs": [],
         "source": [
            "(\n",
            "    generation_eval_metrics\n",
            "    .groupby(\"metric_name\")\n",
            "    .mean(\"score\")\n",
            ")"
         ]
      },
      {
         "cell_type": "markdown",
         "metadata": {},
         "source": [
            "**THIS IS THE END OF THE EXPERIMENT**\n",
            "\n",
            "Return to [HERE](#evaluate) to try a new experiment\n",
            "\n",
            "The section below is to establish a baseline with the current Core API endpoint only"
         ]
      },
      {
         "cell_type": "markdown",
         "metadata": {},
         "source": [
            "[Back to top](#title)"
         ]
      },
      {
         "cell_type": "markdown",
         "metadata": {},
         "source": [
            "-------"
         ]
      }
   ],
   "metadata": {
      "kernelspec": {
         "display_name": "redbox-MiicHf1r-py3.11",
         "language": "python",
         "name": "python3"
      },
      "language_info": {
         "codemirror_mode": {
            "name": "ipython",
            "version": 3
         },
         "file_extension": ".py",
         "mimetype": "text/x-python",
         "name": "python",
         "nbconvert_exporter": "python",
         "pygments_lexer": "ipython3",
         "version": "3.11.8"
      }
   },
   "nbformat": 4,
   "nbformat_minor": 2
}
