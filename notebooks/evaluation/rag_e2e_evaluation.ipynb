{
 "cells": [
  {
   "cell_type": "markdown",
   "metadata": {},
   "source": [
    "# Evaluation for Redbox RAG chat  <a class=\"anchor\" id=\"title\"></a>"
   ]
  },
  {
   "cell_type": "markdown",
   "metadata": {},
   "source": [
    "-----------"
   ]
  },
  {
   "cell_type": "markdown",
   "metadata": {},
   "source": [
    "**Evaluate Redbox RAG chat on one stable, numbered version of these data**"
   ]
  },
  {
   "cell_type": "markdown",
   "metadata": {},
   "source": [
    "-----------------------"
   ]
  },
  {
   "cell_type": "markdown",
   "metadata": {},
   "source": [
    "## Table of Contents <a class=\"anchor\" id=\"toc\"></a>\n",
    "* [Overview](#overview)\n",
    "* [Metrics](#metrics)\n",
    "    - [Contextual Precisio]()\n",
    "    - [Contextual Recall]()\n",
    "    - [Contextual Relevancy]()\n",
    "    - [Fathfulness]()\n",
    "    - [Answer Relevancy]()\n",
    "    - [Hallucination]()\n",
    "* [Set version of the evaluation dataset](#setversion)\n",
    "* [Imports](#imports)\n",
    "* [Run Redbox Locally](#run-redbox)\n",
    "* [Get files that correspond to the version of evaluation dataset](#files)\n",
    "* [Load Evaluation Dataset into test cases](#load-test-cases)\n",
    "\n",
    "* [Generate `actual_output` using RAG and evaluation dataset](#evaluate)\n",
    "* [Evaluate RAG pipeline](#five-section)\n",
    "    - [Retrieval Evaluation Metrics](#six-section)\n",
    "    - [Generation Evaluation Metrics](#seven-section)\n",
    "* [#TODO](#todo)"
   ]
  },
  {
   "cell_type": "markdown",
   "metadata": {},
   "source": [
    "------------"
   ]
  },
  {
   "cell_type": "markdown",
   "metadata": {},
   "source": [
    "## Overview <a class=\"anchor\" id=\"overview\"></a>"
   ]
  },
  {
   "cell_type": "markdown",
   "metadata": {},
   "source": [
    "Redbox RAG chat is made up of many components that work together to give the final RAG pipeline.Each component can be optimised, to hopefully improve the over all performance of the RAG pipeline for Redbox tasks. In order to track if changes made are improving or degrading Redbox performance, we need to establish an evaluation framework. The overall RAG pipeline can be broken down into two main parts:\n",
    "\n",
    "1. Retrieval - searching and returning the most relevant documents to answer a user question\n",
    "2. Generation - the ouput of the LLM after considering the retrieved documents, any prompts provided and the user question\n",
    "\n",
    "This notebook tests both the retrieval and generation sides of the RAG pipeline using specific metrics for each, using the `DeepEval` framework.\n",
    "\n",
    "\n",
    "For consistency across the team, it is important to evaluate Redbox RAG chat on one stable, numbered version of these data.\n"
   ]
  },
  {
   "cell_type": "markdown",
   "metadata": {},
   "source": [
    "[Back to top](#title)"
   ]
  },
  {
   "cell_type": "markdown",
   "metadata": {},
   "source": [
    "\n",
    "-------"
   ]
  },
  {
   "cell_type": "markdown",
   "metadata": {},
   "source": [
    "## Metrics <a class=\"anchor\" id=\"metrics\"></a>\n",
    "\n",
    "Retrieval metrics\n",
    "- Contextual Precision\n",
    "- Contextual Recall\n",
    "- Contextual Relevancy\n",
    "\n",
    "Generation metrics\n",
    "- Faithfulness\n",
    "- Answer Relevancy\n",
    "- Hallucination\n"
   ]
  },
  {
   "cell_type": "markdown",
   "metadata": {},
   "source": [
    "### Contextual Precision\n",
    "\n",
    "The contextual precision metric measures your RAG pipeline's retriever by evaluating whether nodes in your `retrieval_context` that are relevant to the given `input` are ranked higher than irrelevant ones."
   ]
  },
  {
   "cell_type": "markdown",
   "metadata": {},
   "source": [
    "### Contextual Recall\n",
    "\n",
    "The contextual recall metric measures the quality of your RAG pipeline's retriever by evaluating the extent of which the `retrieval_context` aligns with the `expected_output`."
   ]
  },
  {
   "cell_type": "markdown",
   "metadata": {},
   "source": [
    "### Contextual Relevancy\n",
    "\n",
    "The contextual relevancy metric measures the quality of your RAG pipeline's retriever by evaluating the overall relevance of the information presented in your `retrieval_context` for a given `input`."
   ]
  },
  {
   "cell_type": "markdown",
   "metadata": {},
   "source": [
    "### Faithfulness\n",
    "\n",
    "The faithfulness metric measures the quality of your RAG pipeline's generator by evaluating whether the `actual_output` factually aligns with the contents of your `retrieval_context`. `deepeval`'s faithfulness metric is a self-explaining LLM-Eval, meaning it outputs a reason for its metric score."
   ]
  },
  {
   "cell_type": "markdown",
   "metadata": {},
   "source": [
    "##### Required Arguments\n",
    "To use the `FaithfulnessMetric`, you need to provide the following arguments when creating an LLMTestCase:\n",
    "\n",
    "- `input`\n",
    "- `actual_output`\n",
    "- `retrieval_context`"
   ]
  },
  {
   "cell_type": "markdown",
   "metadata": {},
   "source": [
    "[Back to top](#title)"
   ]
  },
  {
   "cell_type": "markdown",
   "metadata": {},
   "source": [
    "### Answer Relevancy\n",
    "The answer relevancy metric measures the quality of your RAG pipeline's generator by evaluating how relevant the actual_output of your LLM application is compared to the provided `input`. `deepeval`'s answer relevancy metric is a self-explaining LLM-Eval, meaning it outputs a reason for its metric score."
   ]
  },
  {
   "cell_type": "markdown",
   "metadata": {},
   "source": [
    "##### Required Arguments\n",
    "To use the AnswerRelevancyMetric, you'll have to provide the following arguments when creating an LLMTestCase:\n",
    "\n",
    "- `input`\n",
    "- `actual_output`"
   ]
  },
  {
   "cell_type": "markdown",
   "metadata": {},
   "source": [
    "[Back to top](#title)"
   ]
  },
  {
   "cell_type": "markdown",
   "metadata": {},
   "source": [
    "### Hallucination\n",
    "The hallucination metric determines whether your LLM generates factually correct information by comparing the `actual_output` to the provided `context`."
   ]
  },
  {
   "cell_type": "markdown",
   "metadata": {},
   "source": [
    "##### Required Arguments\n",
    "To use the HallucinationMetric, you'll have to provide the following arguments when creating an LLMTestCase:\n",
    "\n",
    "- `input`\n",
    "- `actual_output`\n",
    "- `retrieval_context`"
   ]
  },
  {
   "cell_type": "markdown",
   "metadata": {},
   "source": [
    "[Back to top](#title)"
   ]
  },
  {
   "cell_type": "markdown",
   "metadata": {},
   "source": [
    "-------------------"
   ]
  },
  {
   "cell_type": "markdown",
   "metadata": {},
   "source": [
    "**Evaluate Redbox RAG chat on one stable, numbered version of these data**"
   ]
  },
  {
   "cell_type": "markdown",
   "metadata": {},
   "source": [
    "**Set the version of the evaluation dataset you are using to evalute Redbox in the cell below**   <a class=\"anchor\" id=\"setversion\"></a>"
   ]
  },
  {
   "cell_type": "code",
   "execution_count": 3,
   "metadata": {},
   "outputs": [],
   "source": [
    "DATA_VERSION = \"0.1.0\""
   ]
  },
  {
   "cell_type": "markdown",
   "metadata": {},
   "source": [
    "Run the cell below to set up the required folder structure (it will not overwrite folders and files if they already exist)"
   ]
  },
  {
   "cell_type": "code",
   "execution_count": null,
   "metadata": {},
   "outputs": [],
   "source": [
    "from pathlib import Path\n",
    "\n",
    "ROOT = Path.cwd().parents[1]\n",
    "EVALUATION_DIR = ROOT / \"notebooks/evaluation\"\n",
    "\n",
    "V_ROOT = EVALUATION_DIR / f\"data/{DATA_VERSION}\"\n",
    "V_RAW = V_ROOT / \"raw\"\n",
    "V_SYNTHETIC = V_ROOT / \"synthetic\"\n",
    "V_CHUNKS = V_ROOT / \"chunks\"\n",
    "V_RESULTS = V_ROOT / \"results\"\n",
    "\n",
    "V_ROOT.mkdir(parents=True, exist_ok=True)\n",
    "V_RAW.mkdir(parents=True, exist_ok=True)\n",
    "V_SYNTHETIC.mkdir(parents=True, exist_ok=True)\n",
    "V_CHUNKS.mkdir(parents=True, exist_ok=True)\n",
    "V_RESULTS.mkdir(parents=True, exist_ok=True)"
   ]
  },
  {
   "cell_type": "markdown",
   "metadata": {},
   "source": [
    "To save on API costs, we only need to generate a particular version of the evaluation dataset once. If you are using a previously generaterated evalutation dataset, please download it from shared team location (Google Drive)."
   ]
  },
  {
   "cell_type": "markdown",
   "metadata": {},
   "source": [
    "---------"
   ]
  },
  {
   "cell_type": "markdown",
   "metadata": {},
   "source": [
    "#### Imports <a id=\"imports\"></a>"
   ]
  },
  {
   "cell_type": "code",
   "execution_count": 2,
   "metadata": {},
   "outputs": [],
   "source": [
    "# Add autoreloatd\n",
    "%reload_ext autoreload\n",
    "%autoreload 2"
   ]
  },
  {
   "cell_type": "code",
   "execution_count": null,
   "metadata": {},
   "outputs": [],
   "source": [
    "from jose import jwt\n",
    "from uuid import UUID\n",
    "import requests\n",
    "import json\n",
    "import pandas as pd"
   ]
  },
  {
   "cell_type": "markdown",
   "metadata": {},
   "source": [
    "[Back to top](#title)"
   ]
  },
  {
   "cell_type": "markdown",
   "metadata": {},
   "source": [
    "-----------------"
   ]
  },
  {
   "cell_type": "markdown",
   "metadata": {},
   "source": [
    "## Start Redbox Running locally <a id=\"run-redbox\"></a>"
   ]
  },
  {
   "cell_type": "markdown",
   "metadata": {},
   "source": [
    "Run the following commands in terminal"
   ]
  },
  {
   "cell_type": "markdown",
   "metadata": {},
   "source": [
    "Start docker runtime, example below uses colima\n",
    "```bash\n",
    "colima start --memory 8\n",
    "``` "
   ]
  },
  {
   "cell_type": "markdown",
   "metadata": {},
   "source": [
    "-------------"
   ]
  },
  {
   "cell_type": "markdown",
   "metadata": {},
   "source": [
    "#### First-time setup"
   ]
  },
  {
   "cell_type": "markdown",
   "metadata": {},
   "source": [
    "First time users need to do the following"
   ]
  },
  {
   "cell_type": "markdown",
   "metadata": {},
   "source": [
    "```bash\n",
    "poetry install\n",
    "```"
   ]
  },
  {
   "cell_type": "markdown",
   "metadata": {},
   "source": [
    "Ensure you .env file has OpenAI API key in and has the following settings:"
   ]
  },
  {
   "cell_type": "markdown",
   "metadata": {},
   "source": [
    "```bash\n",
    "# === Object Storage ===\n",
    "\n",
    "MINIO_HOST=minio\n",
    "MINIO_PORT=9000\n",
    "MINIO_ACCESS_KEY=minioadmin\n",
    "MINIO_SECRET_KEY=minioadmin\n",
    "AWS_ACCESS_KEY=minioadmin\n",
    "AWS_SECRET_KEY=minioadmin\n",
    "\n",
    "AWS_REGION=eu-west-2\n",
    "\n",
    "# minio or s3\n",
    "OBJECT_STORE=minio\n",
    "BUCKET_NAME=redbox-storage-dev\n",
    "```"
   ]
  },
  {
   "cell_type": "markdown",
   "metadata": {},
   "source": [
    "Build redbox docker images (this takes several minutes)"
   ]
  },
  {
   "cell_type": "markdown",
   "metadata": {},
   "source": [
    "```bash\n",
    "docker compose build\n",
    "```"
   ]
  },
  {
   "cell_type": "markdown",
   "metadata": {},
   "source": [
    "------"
   ]
  },
  {
   "cell_type": "markdown",
   "metadata": {},
   "source": [
    "If changes are made to the app, e.g. changes pulled in from main, it may require rebuilding docker images\n",
    "\n",
    "```bash\n",
    "docker compose build --no-cache\n",
    "```"
   ]
  },
  {
   "cell_type": "markdown",
   "metadata": {},
   "source": [
    "**Every time you start Redbox for evaluation (no Django frontend required), please run the following command**"
   ]
  },
  {
   "cell_type": "markdown",
   "metadata": {},
   "source": [
    "```bash\n",
    "make eval_backend\n",
    "````"
   ]
  },
  {
   "cell_type": "markdown",
   "metadata": {},
   "source": [
    "The above command will bring up everything you need for the backend (`core-api`, `worker`, `mino`, `elasticsearch` and `redis`), then create the MinIO bucket needed to store raw files"
   ]
  },
  {
   "cell_type": "markdown",
   "metadata": {},
   "source": [
    "[Back to top](#title)"
   ]
  },
  {
   "cell_type": "markdown",
   "metadata": {},
   "source": [
    "----------"
   ]
  },
  {
   "cell_type": "markdown",
   "metadata": {},
   "source": [
    "## Generate `actual_output` using RAG and evaluation dataset"
   ]
  },
  {
   "cell_type": "markdown",
   "metadata": {},
   "source": [
    "#### First need to upload files that we are going to 'RAG with'"
   ]
  },
  {
   "cell_type": "markdown",
   "metadata": {},
   "source": [
    "**Use the printed out bearer token below to Authorize if you ever want to use the Swagger UI docs**"
   ]
  },
  {
   "cell_type": "code",
   "execution_count": null,
   "metadata": {},
   "outputs": [],
   "source": [
    "bearer_token = jwt.encode({\"user_uuid\": str(UUID(\"aaaaaaaa-aaaa-aaaa-aaaa-aaaaaaaaaaaa\"))}, key=\"your-secret-key\", algorithm=\"HS512\")\n",
    "print(bearer_token)"
   ]
  },
  {
   "cell_type": "markdown",
   "metadata": {},
   "source": [
    "#### Get files that correspond to the version of evaluation dataset  <a class=\"anchor\" id=\"files\"></a>\n",
    "\n",
    "Copy all the files that match your {DATA_VERSION} into `notebooks/evaluation/data/{DATA_VERSION}/raw/`. Find these files on the shared Google Drive and the corresponding version number/location\n",
    "\n",
    "**It is really important to use the same files that were used to genearte this particular version of the evaluation dataset. A mismatch between the two will result in inaccurate evaluatoin metrics**"
   ]
  },
  {
   "cell_type": "code",
   "execution_count": 5,
   "metadata": {},
   "outputs": [],
   "source": [
    "absolute_paths = [str(file.resolve()) for file in V_RAW.iterdir() if file.name != '.gitkeep']"
   ]
  },
  {
   "cell_type": "markdown",
   "metadata": {},
   "source": [
    "**Only if you haven't uploaded files already** uncomment and run cell below"
   ]
  },
  {
   "cell_type": "code",
   "execution_count": null,
   "metadata": {},
   "outputs": [],
   "source": [
    "# url = 'http://127.0.0.1:5002/file/upload'\n",
    "\n",
    "# headers={\n",
    "#     'accept': 'application/json',\n",
    "#     \"Authorization\": f\"Bearer {bearer_token}\"\n",
    "# }\n",
    "# for file in absolute_paths:\n",
    "#     files = {'file': open(file, 'rb')}\n",
    "#     upload_file_response = requests.post(url, headers=headers, files=files)\n",
    "\n",
    "#     #TODO: Add some login in the loop to deal with status codes != 200\n",
    "#     # if upload_file_response.status_code != 200:\n",
    "#     #     print(\"Failed to upload data:\", upload_file_response.status_code)"
   ]
  },
  {
   "cell_type": "markdown",
   "metadata": {},
   "source": [
    "List files uploaded to server"
   ]
  },
  {
   "cell_type": "code",
   "execution_count": 10,
   "metadata": {},
   "outputs": [],
   "source": [
    "url = 'http://127.0.0.1:5002/file/'\n",
    "\n",
    "headers={\n",
    "    'accept': 'application/json',\n",
    "    \"Authorization\": f\"Bearer {bearer_token}\"\n",
    "}\n",
    "\n",
    "file_list_response = requests.get(url, headers=headers)"
   ]
  },
  {
   "cell_type": "markdown",
   "metadata": {},
   "source": [
    "View JSON response"
   ]
  },
  {
   "cell_type": "code",
   "execution_count": 11,
   "metadata": {},
   "outputs": [
    {
     "name": "stdout",
     "output_type": "stream",
     "text": [
      "[\n",
      "    {\n",
      "        \"uuid\": \"f52a6c97-c234-40e5-a9af-94daab9035c1\",\n",
      "        \"created_datetime\": \"2024-05-21T11:54:52.633856\",\n",
      "        \"creator_user_uuid\": \"aaaaaaaa-aaaa-aaaa-aaaa-aaaaaaaaaaaa\",\n",
      "        \"key\": \"Frontier AI Taskforce_ second progress report - GOV.UK.pdf\",\n",
      "        \"bucket\": \"redbox-storage-dev\",\n",
      "        \"model_type\": \"File\"\n",
      "    },\n",
      "    {\n",
      "        \"uuid\": \"6bb3be69-5b5b-4ad5-9623-0eb783d3502a\",\n",
      "        \"created_datetime\": \"2024-05-21T11:54:52.707323\",\n",
      "        \"creator_user_uuid\": \"aaaaaaaa-aaaa-aaaa-aaaa-aaaaaaaaaaaa\",\n",
      "        \"key\": \"Prime Minister's speech on AI_ 26 October 2023 - GOV.UK.pdf\",\n",
      "        \"bucket\": \"redbox-storage-dev\",\n",
      "        \"model_type\": \"File\"\n",
      "    },\n",
      "    {\n",
      "        \"uuid\": \"961985cf-c5a1-4eeb-b472-25a06c8ef5dd\",\n",
      "        \"created_datetime\": \"2024-05-21T11:54:52.778875\",\n",
      "        \"creator_user_uuid\": \"aaaaaaaa-aaaa-aaaa-aaaa-aaaaaaaaaaaa\",\n",
      "        \"key\": \"The_impact_of_AI_on_UK_jobs_and_training_report.pdf\",\n",
      "        \"bucket\": \"redbox-storage-dev\",\n",
      "        \"model_type\": \"File\"\n",
      "    },\n",
      "    {\n",
      "        \"uuid\": \"ed708774-780c-4374-af7c-e99df3dea0c4\",\n",
      "        \"created_datetime\": \"2024-05-21T11:54:52.832508\",\n",
      "        \"creator_user_uuid\": \"aaaaaaaa-aaaa-aaaa-aaaa-aaaaaaaaaaaa\",\n",
      "        \"key\": \"Universal-Basic-Income-Scotland-Report.pdf\",\n",
      "        \"bucket\": \"redbox-storage-dev\",\n",
      "        \"model_type\": \"File\"\n",
      "    }\n",
      "]\n"
     ]
    }
   ],
   "source": [
    "if file_list_response.status_code == 200:\n",
    "    # Parse JSON from the response\n",
    "    data = file_list_response.json()\n",
    "    \n",
    "    # Pretty-print the JSON data\n",
    "    pretty_json = json.dumps(data, indent=4)\n",
    "    print(pretty_json)\n",
    "else:\n",
    "    print(\"Failed to retrieve data:\", file_list_response.status_code)"
   ]
  },
  {
   "cell_type": "markdown",
   "metadata": {},
   "source": [
    "Get a list of UUIDs"
   ]
  },
  {
   "cell_type": "code",
   "execution_count": 12,
   "metadata": {},
   "outputs": [],
   "source": [
    "uuid_list = []\n",
    "\n",
    "for item in data:\n",
    "    if 'uuid' in item:\n",
    "        uuid_list.append({'uuid': item['uuid']})"
   ]
  },
  {
   "cell_type": "markdown",
   "metadata": {},
   "source": [
    "Get file status"
   ]
  },
  {
   "cell_type": "code",
   "execution_count": null,
   "metadata": {},
   "outputs": [],
   "source": [
    "status_url_list = []\n",
    "for uuid in uuid_list:\n",
    "    url = f\"http://127.0.0.1:5002/file/{uuid['uuid']}/status\"\n",
    "    status_url_list.append(url)\n",
    "\n",
    "status_responses = []\n",
    "for url in status_url_list:\n",
    "    status_response = requests.get(url, headers=headers)\n",
    "    status_responses.append(status_response)\n",
    "\n",
    "for status in status_responses:\n",
    "    data = status.json()\n",
    "    pretty_json = json.dumps(data, indent=4)\n",
    "    print(pretty_json)"
   ]
  },
  {
   "cell_type": "markdown",
   "metadata": {},
   "source": [
    "------------"
   ]
  },
  {
   "cell_type": "markdown",
   "metadata": {},
   "source": [
    "**Please ensure all emeddings have been completed before proceeding!**\n",
    "\n",
    "Keep calm and go for a tea break!"
   ]
  },
  {
   "cell_type": "markdown",
   "metadata": {},
   "source": [
    "--------------"
   ]
  },
  {
   "cell_type": "markdown",
   "metadata": {},
   "source": [
    "#### Generate `actual_output` using `RAG` endpoint"
   ]
  },
  {
   "cell_type": "code",
   "execution_count": 12,
   "metadata": {},
   "outputs": [],
   "source": [
    "df = pd.read_csv(f'{V_SYNTHETIC}/ragas_synthetic_data.csv', index=False)\n",
    "inputs = df['input'].tolist()"
   ]
  },
  {
   "cell_type": "code",
   "execution_count": 13,
   "metadata": {},
   "outputs": [],
   "source": [
    "retrieval_context = []\n",
    "actual_output = []\n",
    "\n",
    "headers = {\n",
    "    'accept': 'application/json',\n",
    "    'Authorization': 'Bearer ' + bearer_token,\n",
    "    'Content-Type': 'application/json',\n",
    "}\n",
    "\n",
    "url = 'http://127.0.0.1:5002/chat/rag'\n",
    "\n",
    "for input in inputs:\n",
    "    data = {\n",
    "        \"message_history\": [\n",
    "            {\n",
    "                \"role\": \"system\",\n",
    "                \"text\": \"You are a helpful AI Assistant\"\n",
    "            },\n",
    "            {\n",
    "                \"role\": \"user\",\n",
    "                \"text\": input\n",
    "            }\n",
    "        ]\n",
    "    }\n",
    "    \n",
    "    response = requests.post(url, headers=headers, data=json.dumps(data))\n",
    "    data = response.json()\n",
    "\n",
    "    retrieval_context.append(data['source_documents'])\n",
    "    actual_output.append(data['output_text'])\n",
    "\n",
    "df['actual_output'] = actual_output\n",
    "df['retrieval_context'] = retrieval_context"
   ]
  },
  {
   "cell_type": "code",
   "execution_count": null,
   "metadata": {},
   "outputs": [],
   "source": [
    "## Uncomment to check df now contains the actual_output and retrieved_context\n",
    "# df.head()"
   ]
  },
  {
   "cell_type": "markdown",
   "metadata": {},
   "source": [
    "#### Remove rows containing NaN to prevent Pydantic validation errors"
   ]
  },
  {
   "cell_type": "code",
   "execution_count": 45,
   "metadata": {},
   "outputs": [],
   "source": [
    "df = df.dropna()\n",
    "df.to_csv(f'{V_SYNTHETIC}/complete_ragas_synthetic_data.csv', index=False)"
   ]
  },
  {
   "cell_type": "markdown",
   "metadata": {},
   "source": [
    "#### Validate evaluation data before running DeepEval metrics"
   ]
  },
  {
   "cell_type": "markdown",
   "metadata": {},
   "source": [
    "[Back to top](#title)"
   ]
  },
  {
   "cell_type": "markdown",
   "metadata": {},
   "source": [
    "----"
   ]
  },
  {
   "cell_type": "code",
   "execution_count": 55,
   "metadata": {},
   "outputs": [],
   "source": [
    "df1 = pd.read_csv(f'{V_SYNTHETIC}/complete_ragas_synthetic_data.csv')"
   ]
  },
  {
   "cell_type": "code",
   "execution_count": 56,
   "metadata": {},
   "outputs": [],
   "source": [
    "df1 = df1.iloc[0:2]"
   ]
  },
  {
   "cell_type": "markdown",
   "metadata": {},
   "source": [
    "----------"
   ]
  },
  {
   "cell_type": "markdown",
   "metadata": {},
   "source": [
    "## Load Evaluation Dataset into test cases <a class=\"anchor\" id=\"load-test-cases\"></a>"
   ]
  },
  {
   "cell_type": "markdown",
   "metadata": {},
   "source": [
    "Put the CSV file that you want to use for evaluation into `/notebooks/evaluation/data/synthetic_data/` directory"
   ]
  },
  {
   "cell_type": "markdown",
   "metadata": {},
   "source": [
    "Import test cases from CSV"
   ]
  },
  {
   "cell_type": "code",
   "execution_count": 48,
   "metadata": {},
   "outputs": [],
   "source": [
    "from deepeval.dataset import EvaluationDataset\n",
    "\n",
    "dataset = EvaluationDataset()\n",
    "dataset.add_test_cases_from_csv_file(\n",
    "    # file_path=f\"./data/synthetic_data/complete_ragas_synthetic_data_v{version}.csv\",\n",
    "    file_path=f'{V_SYNTHETIC}/complete_ragas_synthetic_data.csv',\n",
    "    input_col_name=\"input\",\n",
    "    actual_output_col_name=\"actual_output\",\n",
    "    expected_output_col_name=\"expected_output\",\n",
    "    context_col_name=\"context\",\n",
    "    context_col_delimiter= \";\",\n",
    "    retrieval_context_col_name=\"retrieval_context\",\n",
    "    retrieval_context_col_delimiter= \";\"\n",
    ")"
   ]
  },
  {
   "cell_type": "markdown",
   "metadata": {},
   "source": [
    "[Back to top](#title)"
   ]
  },
  {
   "cell_type": "markdown",
   "metadata": {},
   "source": [
    "---------"
   ]
  },
  {
   "cell_type": "markdown",
   "metadata": {},
   "source": [
    "## Evaluate RAG pipeline <a id=\"evaluate\"></a>"
   ]
  },
  {
   "cell_type": "markdown",
   "metadata": {},
   "source": [
    "DeepEval imports"
   ]
  },
  {
   "cell_type": "code",
   "execution_count": 49,
   "metadata": {},
   "outputs": [],
   "source": [
    "from deepeval import evaluate\n",
    "from deepeval.metrics import (\n",
    "    ContextualPrecisionMetric,\n",
    "    ContextualRecallMetric,\n",
    "    ContextualRelevancyMetric,\n",
    "    AnswerRelevancyMetric,\n",
    "    FaithfulnessMetric,\n",
    "    HallucinationMetric,\n",
    ")"
   ]
  },
  {
   "cell_type": "markdown",
   "metadata": {},
   "source": [
    "Instantiate retrieval and generation evaluation metrics"
   ]
  },
  {
   "cell_type": "code",
   "execution_count": 50,
   "metadata": {},
   "outputs": [],
   "source": [
    "# Instantiate retrieval metrics\n",
    "contextual_precision = ContextualPrecisionMetric(\n",
    "        threshold=0.5, # default is 0.5\n",
    "    model=\"gpt-4o\",\n",
    "    include_reason=True\n",
    ")\n",
    "\n",
    "contextual_recall = ContextualRecallMetric(\n",
    "    threshold=0.5, # default is 0.5\n",
    "    model=\"gpt-4o\",\n",
    "    include_reason=True\n",
    ")\n",
    "\n",
    "contextual_relevancy = ContextualRelevancyMetric(\n",
    "    threshold=0.5, # default is 0.5\n",
    "    model=\"gpt-4o\",\n",
    "    include_reason=True\n",
    ")"
   ]
  },
  {
   "cell_type": "code",
   "execution_count": null,
   "metadata": {},
   "outputs": [],
   "source": [
    "# Instantiate generation metrics\n",
    "answer_relevancy = AnswerRelevancyMetric(\n",
    "    threshold=0.5, # default is 0.5\n",
    "    model=\"gpt-4o\",\n",
    "    include_reason=True\n",
    ")\n",
    "\n",
    "faithfulness = FaithfulnessMetric(\n",
    "    threshold=0.5, # default is 0.5\n",
    "    model=\"gpt-4o\",\n",
    "    include_reason=True\n",
    ")\n",
    "\n",
    "hallucination = HallucinationMetric(\n",
    "    threshold=0.5, # default is 0.5\n",
    "    model=\"gpt-4o\",\n",
    "    include_reason=True\n",
    ")"
   ]
  },
  {
   "cell_type": "code",
   "execution_count": null,
   "metadata": {},
   "outputs": [],
   "source": [
    "dataset.test_cases"
   ]
  },
  {
   "cell_type": "markdown",
   "metadata": {},
   "source": [
    "#### Retrieval Evaluation\n",
    "Separate retrieval and generation evaluation results, as retrieval evalation can take some time"
   ]
  },
  {
   "cell_type": "code",
   "execution_count": null,
   "metadata": {},
   "outputs": [],
   "source": [
    "retrieval_eval_results = evaluate(\n",
    "    test_cases=dataset,\n",
    "    metrics=[\n",
    "        contextual_precision,\n",
    "        contextual_recall,\n",
    "        contextual_relevancy,\n",
    "    ]\n",
    ")"
   ]
  },
  {
   "cell_type": "markdown",
   "metadata": {},
   "source": [
    "#### Save retrieval evaluation results"
   ]
  },
  {
   "cell_type": "code",
   "execution_count": 52,
   "metadata": {},
   "outputs": [],
   "source": [
    "import pickle \n",
    "with open(f'{V_RESULTS}/retrieval_eval_results_v{DATA_VERSION}', 'wb') as f:\n",
    "    pickle.dump(retrieval_eval_results, f)"
   ]
  },
  {
   "cell_type": "markdown",
   "metadata": {},
   "source": [
    "#### Generation Evaluation"
   ]
  },
  {
   "cell_type": "code",
   "execution_count": null,
   "metadata": {},
   "outputs": [],
   "source": [
    "generation_eval_results = evaluate(\n",
    "    test_cases=dataset,\n",
    "    metrics=[\n",
    "        answer_relevancy,\n",
    "        faithfulness,\n",
    "        hallucination\n",
    "    ]\n",
    ")"
   ]
  },
  {
   "cell_type": "markdown",
   "metadata": {},
   "source": [
    "#### Save generation evaluation results"
   ]
  },
  {
   "cell_type": "code",
   "execution_count": 83,
   "metadata": {},
   "outputs": [],
   "source": [
    "import pickle \n",
    "with open(f'{V_RESULTS}/generation_eval_results_v{DATA_VERSION}', 'wb') as f:\n",
    "    pickle.dump(generation_eval_results, f)"
   ]
  },
  {
   "cell_type": "markdown",
   "metadata": {},
   "source": [
    "#### Access evaluation results from TestResult object"
   ]
  },
  {
   "cell_type": "markdown",
   "metadata": {},
   "source": [
    "#### How to access metrics from TestResult object"
   ]
  },
  {
   "cell_type": "code",
   "execution_count": 48,
   "metadata": {},
   "outputs": [
    {
     "data": {
      "text/plain": [
       "True"
      ]
     },
     "execution_count": 48,
     "metadata": {},
     "output_type": "execute_result"
    }
   ],
   "source": [
    "generation_eval_results[0].success"
   ]
  },
  {
   "cell_type": "code",
   "execution_count": 49,
   "metadata": {},
   "outputs": [
    {
     "data": {
      "text/plain": [
       "[<deepeval.metrics.answer_relevancy.answer_relevancy.AnswerRelevancyMetric at 0x14757b750>]"
      ]
     },
     "execution_count": 49,
     "metadata": {},
     "output_type": "execute_result"
    }
   ],
   "source": [
    "generation_eval_results[0].metrics"
   ]
  },
  {
   "cell_type": "code",
   "execution_count": 53,
   "metadata": {},
   "outputs": [
    {
     "data": {
      "text/plain": [
       "1.0"
      ]
     },
     "execution_count": 53,
     "metadata": {},
     "output_type": "execute_result"
    }
   ],
   "source": [
    "generation_eval_results[0].metrics[0].score"
   ]
  },
  {
   "cell_type": "code",
   "execution_count": 54,
   "metadata": {},
   "outputs": [
    {
     "data": {
      "text/plain": [
       "'The score is 1.00 because the response fully addresses the query about the impact of variations in UBI-like payments on childhood obesity rates without any irrelevant information. Great job on maintaining focus and relevancy!'"
      ]
     },
     "execution_count": 54,
     "metadata": {},
     "output_type": "execute_result"
    }
   ],
   "source": [
    "generation_eval_results[0].metrics[0].reason"
   ]
  },
  {
   "cell_type": "markdown",
   "metadata": {},
   "source": [
    "[Back to top](#title)"
   ]
  },
  {
   "cell_type": "markdown",
   "metadata": {},
   "source": [
    "-------"
   ]
  }
 ],
 "metadata": {
  "kernelspec": {
   "display_name": "redbox-MiicHf1r-py3.11",
   "language": "python",
   "name": "python3"
  },
  "language_info": {
   "codemirror_mode": {
    "name": "ipython",
    "version": 3
   },
   "file_extension": ".py",
   "mimetype": "text/x-python",
   "name": "python",
   "nbconvert_exporter": "python",
   "pygments_lexer": "ipython3",
   "version": "3.11.8"
  }
 },
 "nbformat": 4,
 "nbformat_minor": 2
}
