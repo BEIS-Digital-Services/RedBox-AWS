{
 "cells": [
  {
   "cell_type": "code",
   "execution_count": null,
   "metadata": {},
   "outputs": [],
   "source": [
    "# Add autoreload\n",
    "%reload_ext autoreload\n",
    "%autoreload 2"
   ]
  },
  {
   "cell_type": "code",
   "execution_count": 47,
   "metadata": {},
   "outputs": [
    {
     "data": {
      "text/html": [
       "<pre style=\"white-space:pre;overflow-x:auto;line-height:normal;font-family:Menlo,'DejaVu Sans Mono',consolas,'Courier New',monospace\"></pre>\n"
      ],
      "text/plain": []
     },
     "metadata": {},
     "output_type": "display_data"
    }
   ],
   "source": [
    "import sys\n",
    "from uuid import UUID, uuid4\n",
    "import pandas as pd\n",
    "from pathlib import Path\n",
    "from mypy_boto3_s3.client import S3Client\n",
    "from botocore.exceptions import ClientError\n",
    "\n",
    "from django.core.files.uploadedfile import SimpleUploadedFile\n",
    "\n",
    "from elasticsearch import Elasticsearch\n",
    "from elasticsearch.helpers import scan, bulk\n",
    "\n",
    "from redbox.models import Settings, Chunk, File\n",
    "from redbox.models.settings import ElasticLocalSettings\n",
    "from worker.src.loader import UnstructuredDocumentLoader\n",
    "\n",
    "from langchain_core.embeddings import Embeddings\n",
    "from langchain_core.vectorstores import VectorStore\n",
    "from langchain_community.embeddings import SentenceTransformerEmbeddings\n",
    "from langchain.globals import set_verbose\n",
    "from langchain_elasticsearch.vectorstores import ElasticsearchStore\n",
    "\n",
    "from dj_notebook import activate, Plus\n",
    "\n",
    "ROOT = Path().resolve().parent\n",
    "\n",
    "set_verbose(False)\n",
    "\n",
    "from dotenv import find_dotenv, load_dotenv\n",
    "\n",
    "_ = load_dotenv(find_dotenv(ROOT / '.env'))\n",
    "\n",
    "pd.set_option(\"display.max_colwidth\", None)\n",
    "\n",
    "ENV = Settings(\n",
    "    minio_host=\"localhost\", \n",
    "    object_store=\"minio\", \n",
    "    elastic=ElasticLocalSettings(host=\"localhost\"),\n",
    ")\n",
    "MODEL = ENV.embedding_model\n",
    "\n",
    "S3_CLIENT = ENV.s3_client()\n",
    "ES_CLIENT = ENV.elasticsearch_client()\n",
    "\n",
    "VECTOR_STORE = ElasticsearchStore(\n",
    "    index_name=\"redbox-data-chunk\",\n",
    "    embedding=SentenceTransformerEmbeddings(model_name=MODEL),\n",
    "    es_connection=ES_CLIENT,\n",
    "    query_field=\"text\",\n",
    "    vector_query_field=ENV.embedding_document_field_name,\n",
    ")\n",
    "\n",
    "try:\n",
    "    S3_CLIENT.create_bucket(\n",
    "        Bucket=ENV.bucket_name,\n",
    "        CreateBucketConfiguration={\"LocationConstraint\": ENV.aws_region},\n",
    "    )\n",
    "except ClientError as e:\n",
    "    if e.response[\"Error\"][\"Code\"] != \"BucketAlreadyOwnedByYou\":\n",
    "        raise\n",
    "\n",
    "sys.path.insert(0, str(ROOT / \"django_app\"))\n",
    "\n",
    "RB_APP = activate(\n",
    "    dotenv_file=str(ROOT / \"django_app/.env\")\n",
    ")"
   ]
  },
  {
   "cell_type": "markdown",
   "metadata": {},
   "source": [
    "# Quick upload\n",
    "\n",
    "The worker takes forever locally. This notebook will chunk and upload stuff using your local machine, which is much quicker for me. Unlike the eval notebooks, this also makes entried in the Postgres database.\n",
    "\n",
    "This notebook needs the following services running:\n",
    "\n",
    "```\n",
    "docker compose up core-api db -d\n",
    "```\n",
    "\n",
    "It's also important that both `.env` files contain the same embedding model."
   ]
  },
  {
   "cell_type": "markdown",
   "metadata": {},
   "source": [
    "## Get your user UUID"
   ]
  },
  {
   "cell_type": "code",
   "execution_count": 24,
   "metadata": {},
   "outputs": [
    {
     "data": {
      "text/html": [
       "<div>\n",
       "<style scoped>\n",
       "    .dataframe tbody tr th:only-of-type {\n",
       "        vertical-align: middle;\n",
       "    }\n",
       "\n",
       "    .dataframe tbody tr th {\n",
       "        vertical-align: top;\n",
       "    }\n",
       "\n",
       "    .dataframe thead th {\n",
       "        text-align: right;\n",
       "    }\n",
       "</style>\n",
       "<table border=\"1\" class=\"dataframe\">\n",
       "  <thead>\n",
       "    <tr style=\"text-align: right;\">\n",
       "      <th></th>\n",
       "      <th>id</th>\n",
       "      <th>email</th>\n",
       "    </tr>\n",
       "  </thead>\n",
       "  <tbody>\n",
       "    <tr>\n",
       "      <th>0</th>\n",
       "      <td>5c37bf4c-002c-458d-9e68-03042f76a5b1</td>\n",
       "      <td>redbox-copilot@cabinetoffice.gov.uk</td>\n",
       "    </tr>\n",
       "  </tbody>\n",
       "</table>\n",
       "</div>"
      ],
      "text/plain": [
       "                                     id                                email\n",
       "0  5c37bf4c-002c-458d-9e68-03042f76a5b1  redbox-copilot@cabinetoffice.gov.uk"
      ]
     },
     "execution_count": 24,
     "metadata": {},
     "output_type": "execute_result"
    }
   ],
   "source": [
    "RB_APP.read_frame(RB_APP.User.objects.all())[[\"id\", \"email\"]]"
   ]
  },
  {
   "cell_type": "code",
   "execution_count": 29,
   "metadata": {},
   "outputs": [
    {
     "data": {
      "text/plain": [
       "UUID('5c37bf4c-002c-458d-9e68-03042f76a5b1')"
      ]
     },
     "execution_count": 29,
     "metadata": {},
     "output_type": "execute_result"
    }
   ],
   "source": [
    "USER_UUID = RB_APP.User.objects.all()[0].id # or read it and hardcode\n",
    "USER_UUID"
   ]
  },
  {
   "cell_type": "markdown",
   "metadata": {},
   "source": [
    "## Embed and upload"
   ]
  },
  {
   "cell_type": "markdown",
   "metadata": {},
   "source": [
    "Consider clearing all files in Elastic and Postgres."
   ]
  },
  {
   "cell_type": "code",
   "execution_count": null,
   "metadata": {},
   "outputs": [],
   "source": [
    "RB_APP.read_frame(RB_APP.File.objects.all())[[\"id\", \"core_file_uuid\", \"original_file_name\"]]"
   ]
  },
  {
   "cell_type": "code",
   "execution_count": 51,
   "metadata": {},
   "outputs": [
    {
     "name": "stderr",
     "output_type": "stream",
     "text": [
      "/var/folders/14/6nvsrw1n2ls1xncz_bvy2x8m0000gq/T/ipykernel_16275/3967833631.py:6: DeprecationWarning: Passing transport options in the API method is deprecated. Use 'Elasticsearch.options()' instead.\n",
      "  bulk(es, bulk_data, request_timeout=300)\n"
     ]
    }
   ],
   "source": [
    "def clear_index(index: str, es: Elasticsearch) -> None:\n",
    "    documents = scan(es, index=index, query={\"query\": {\"match_all\": {}}})\n",
    "    bulk_data = [\n",
    "        {\"_op_type\": \"delete\", \"_index\": doc['_index'], \"_id\": doc['_id']} for doc in documents\n",
    "    ]\n",
    "    bulk(es, bulk_data, request_timeout=300)\n",
    "\n",
    "def clear_bucket(bucket: str, s3: S3Client) -> None:\n",
    "    response = s3.list_objects_v2(Bucket=bucket)\n",
    "    if \"Contents\" in response:\n",
    "        # Delete each object\n",
    "        for obj in response[\"Contents\"]:\n",
    "            s3.delete_object(Bucket=bucket, Key=obj[\"Key\"])\n",
    "\n",
    "clear_index(index=\"redbox-data-chunk\", es=ES_CLIENT)\n",
    "clear_index(index=\"redbox-data-file\", es=ES_CLIENT)\n",
    "_ = RB_APP.File.objects.all().delete()\n",
    "clear_bucket(bucket=\"redbox-storage-dev\", s3=S3_CLIENT)"
   ]
  },
  {
   "cell_type": "code",
   "execution_count": 52,
   "metadata": {},
   "outputs": [
    {
     "data": {
      "text/plain": [
       "{'django_files': 0, 's3_files': 0, 'elastic_files': 0, 'elastic_chunks': 0}"
      ]
     },
     "execution_count": 52,
     "metadata": {},
     "output_type": "execute_result"
    }
   ],
   "source": [
    "def count_bucket_objects(bucket: str, s3: S3Client = S3_CLIENT) -> int:\n",
    "    object_count = 0\n",
    "    response = s3.list_objects_v2(Bucket=bucket)\n",
    "\n",
    "    if 'Contents' in response:\n",
    "        object_count += len(response['Contents'])\n",
    "        # Paginate\n",
    "        while response['IsTruncated']:\n",
    "            continuation_token = response['NextContinuationToken']\n",
    "            response = s3.list_objects_v2(Bucket=bucket, ContinuationToken=continuation_token)\n",
    "            object_count += len(response['Contents'])\n",
    "\n",
    "    return object_count\n",
    "\n",
    "def count_uploads(\n",
    "    es: Elasticsearch = ES_CLIENT, \n",
    "    dj_shell: Plus = RB_APP, \n",
    "    s3: S3Client = S3_CLIENT\n",
    "):\n",
    "    return {\n",
    "        \"django_files\": dj_shell.File.objects.count(),\n",
    "        \"s3_files\": count_bucket_objects(bucket=\"redbox-storage-dev\", s3=s3),\n",
    "        \"elastic_files\": es.count(index=\"redbox-data-file\", body={\"query\": {\"match_all\": {}}})[\"count\"],\n",
    "        \"elastic_chunks\": es.count(index=\"redbox-data-chunk\", body={\"query\": {\"match_all\": {}}})[\"count\"],\n",
    "    }\n",
    "\n",
    "count_uploads()"
   ]
  },
  {
   "cell_type": "markdown",
   "metadata": {},
   "source": [
    "Now we embed and upload."
   ]
  },
  {
   "cell_type": "code",
   "execution_count": 53,
   "metadata": {},
   "outputs": [],
   "source": [
    "def add_to_django(\n",
    "    file_path: Path,\n",
    "    user_uuid: UUID = USER_UUID,\n",
    "    dj_shell: Plus = RB_APP,\n",
    "):\n",
    "    with open(file_path, \"rb\") as f:\n",
    "        file = dj_shell.File.objects.create(\n",
    "            status=\"complete\",\n",
    "            original_file=SimpleUploadedFile(\n",
    "                name=file_path.name,\n",
    "                content=f.read()\n",
    "            ),\n",
    "            user=RB_APP.User.objects.get(id=user_uuid),\n",
    "            original_file_name=file_path.name,\n",
    "            core_file_uuid=uuid4(),\n",
    "        )\n",
    "        file.save()\n",
    "    \n",
    "    return file\n",
    "\n",
    "def embed_and_upload_file(\n",
    "    file_path: Path,\n",
    "    user_uuid: UUID = USER_UUID,\n",
    "    s3_client: S3Client = S3_CLIENT,\n",
    "    vector_store: VectorStore = VECTOR_STORE,\n",
    "    dj_shell: Plus = RB_APP,\n",
    ") -> None:\n",
    "    print(f\"Processing {file_path.name}\")\n",
    "          \n",
    "    # Add to Django\n",
    "    dj_file = add_to_django(file_path=file_path, user_uuid=user_uuid, dj_shell=dj_shell)\n",
    "\n",
    "    es_file = File(\n",
    "        uuid=dj_file.core_file_uuid,\n",
    "        key=dj_file.url.parts[-1], \n",
    "        bucket=dj_file.url.parts[1], \n",
    "        creator_user_uuid=user_uuid,\n",
    "    )\n",
    "\n",
    "    # Add to S3\n",
    "    with open(file_path, \"rb\") as f:\n",
    "        s3_client.upload_fileobj(f, \"redbox-storage-dev\", dj_file.url.parts[-1])\n",
    "\n",
    "    print(f\"Added {file_path.name} to S3 and Django\")\n",
    "\n",
    "    # Chunk\n",
    "    with open(file_path, \"rb\") as f:\n",
    "        loader = UnstructuredDocumentLoader(\n",
    "            file=es_file,\n",
    "            file_bytes=f,\n",
    "            env=ENV\n",
    "        )\n",
    "    \n",
    "        chunks = list(loader.lazy_load())\n",
    "\n",
    "    print(f\"Chunked {file_path.name} ({len(chunks)} chunks)\")\n",
    "\n",
    "    # Embed and upload\n",
    "    vector_store.add_documents(chunks)\n",
    "\n",
    "    print(f\"{file_path.name} complete!\")\n"
   ]
  },
  {
   "cell_type": "code",
   "execution_count": 54,
   "metadata": {},
   "outputs": [
    {
     "name": "stdout",
     "output_type": "stream",
     "text": [
      "Processing CS013b_Energy stats monthly brief september 2022.pdf\n",
      "Added CS013b_Energy stats monthly brief september 2022.pdf to S3 and Django\n",
      "Chunked CS013b_Energy stats monthly brief september 2022.pdf (61 chunks)\n",
      "CS013b_Energy stats monthly brief september 2022.pdf complete!\n",
      "Processing CS013a_Cabinet Office Mail - Fwd_ No.10 brief on monthly energy statistics - September 2022 + publication of September 2022 editions of Energy Trends and Energy Prices.pdf\n",
      "Added CS013a_Cabinet Office Mail - Fwd_ No.10 brief on monthly energy statistics - September 2022 + publication of September 2022 editions of Energy Trends and Energy Prices.pdf to S3 and Django\n",
      "Chunked CS013a_Cabinet Office Mail - Fwd_ No.10 brief on monthly energy statistics - September 2022 + publication of September 2022 editions of Energy Trends and Energy Prices.pdf (48 chunks)\n",
      "CS013a_Cabinet Office Mail - Fwd_ No.10 brief on monthly energy statistics - September 2022 + publication of September 2022 editions of Energy Trends and Energy Prices.pdf complete!\n"
     ]
    }
   ],
   "source": [
    "DIR_TO_UPLOAD: Path = Path(\"/Users/willlangdale/Downloads/Demo Data/Energy\")\n",
    "# DIR_TO_UPLOAD: Path = Path(\"/Users/willlangdale/Downloads/D&D\")\n",
    "# DIR_TO_UPLOAD: Path = Path(\"/Users/willlangdale/Downloads/Lit\")\n",
    "# DIR_TO_UPLOAD: Path = Path(\"/Users/willlangdale/Downloads/DS\")\n",
    "\n",
    "for file_path in DIR_TO_UPLOAD.rglob(\"[!.]*.*\"):\n",
    "    embed_and_upload_file(\n",
    "        file_path=file_path,\n",
    "        user_uuid=USER_UUID,\n",
    "        s3_client=S3_CLIENT,\n",
    "        vector_store=VECTOR_STORE,\n",
    "        dj_shell=RB_APP,\n",
    "    )"
   ]
  },
  {
   "cell_type": "markdown",
   "metadata": {},
   "source": [
    "Let's check it uploaded okay."
   ]
  },
  {
   "cell_type": "code",
   "execution_count": 55,
   "metadata": {},
   "outputs": [
    {
     "data": {
      "text/plain": [
       "{'django_files': 2, 's3_files': 4, 'elastic_files': 0, 'elastic_chunks': 109}"
      ]
     },
     "execution_count": 55,
     "metadata": {},
     "output_type": "execute_result"
    }
   ],
   "source": [
    "count_uploads()"
   ]
  },
  {
   "cell_type": "markdown",
   "metadata": {},
   "source": [
    "Now you can bring up the Django app and use the files.\n",
    "\n",
    "```\n",
    "docker compose up django-app -d --wait\n",
    "```"
   ]
  }
 ],
 "metadata": {
  "kernelspec": {
   "display_name": "redbox-Vh_-Fb0j-py3.11",
   "language": "python",
   "name": "python3"
  },
  "language_info": {
   "codemirror_mode": {
    "name": "ipython",
    "version": 3
   },
   "file_extension": ".py",
   "mimetype": "text/x-python",
   "name": "python",
   "nbconvert_exporter": "python",
   "pygments_lexer": "ipython3",
   "version": "3.11.8"
  }
 },
 "nbformat": 4,
 "nbformat_minor": 2
}
